{
 "cells": [
  {
   "cell_type": "markdown",
   "id": "minus-vermont",
   "metadata": {},
   "source": [
    "# TRT KPI: Minimize Time to Science\n",
    "\n",
    "The following KPIs are measured in this notebook:\n",
    "\n",
    "* Number of lines of code for a given workflow in the cloud / Number of lines for same workflow on-prem\n",
    "* Run time for a given workflow in the cloud / run time for same workflow on-prem\n",
    "\n",
    "#### Workflows: \n",
    "* Basic data search, customize, access, plotting, with a collection that is available on-prem and in Earthdata Cloud.\n",
    "* Data tested:\n",
    "    * Single ICESat-2 data product: ATL03 v003\n",
    "        * C1234714691-EEDTEST -> Harmony-enabled, UAT\n",
    "        * C1233596099-NSIDC_TS1 -> EGI-enabled, UAT\n",
    "* For future consideration:\n",
    "    * Coincident data search/access/plot with another product\n",
    "    * Different data access options beyond Harmony (direct s3, cloudfront, OPeNDAP)"
   ]
  },
  {
   "cell_type": "markdown",
   "id": "marine-rochester",
   "metadata": {},
   "source": [
    "## Import packages"
   ]
  },
  {
   "cell_type": "code",
   "execution_count": 75,
   "id": "expensive-whale",
   "metadata": {},
   "outputs": [],
   "source": [
    "import sys\n",
    "import requests\n",
    "from getpass import getpass\n",
    "from platform import system\n",
    "from netrc import netrc\n",
    "from os.path import join, expanduser\n",
    "from urllib import request\n",
    "from http.cookiejar import CookieJar\n",
    "import json\n",
    "from pprint import pprint\n",
    "import os\n",
    "import time\n",
    "import zipfile\n",
    "import io\n",
    "import shutil\n",
    "import h5py\n",
    "from pathlib import Path\n",
    "import pandas as pd\n",
    "import numpy as np\n",
    "import cartopy\n",
    "import cartopy.crs as ccrs\n",
    "import cartopy.feature as cfeature\n",
    "from matplotlib import pyplot as plt\n",
    "import time\n",
    "from harmony import BBox, Client, Collection, Request, LinkType\n",
    "from harmony.config import Environment\n",
    "import datetime as dt\n",
    "import s3fs\n",
    "import xarray as xr\n",
    "\n",
    "# from IPython.display import display, JSON\n",
    "# import rasterio\n",
    "# import rasterio.plot\n",
    "# !{sys.executable} -m pip install intake #install intake into Python kernel\n",
    "# import intake\n"
   ]
  },
  {
   "cell_type": "markdown",
   "id": "electronic-calvin",
   "metadata": {},
   "source": [
    "## __On Prem workflow__"
   ]
  },
  {
   "cell_type": "code",
   "execution_count": 2,
   "id": "extreme-fourth",
   "metadata": {},
   "outputs": [],
   "source": [
    "# gather times to add up end to end\n",
    "onprem_times = []"
   ]
  },
  {
   "cell_type": "markdown",
   "id": "collected-surge",
   "metadata": {},
   "source": [
    "### 1. Authenticate against Earthdata Login\n",
    "\n",
    "#### Steps Involved:\n",
    "\n",
    "1. (Non-Code) Register an Earthdata Login Account\n",
    "1. (Non-Code) Verify Earthdata Login account\n",
    "1. (Non-Code) Add Earthdata Login credentials to .netrc file\n",
    "1. Set up code to authenticate if redirected to Earthdata Login **(Note: this is automatic if using the Python requests library.  This cell may not be actually used.)**"
   ]
  },
  {
   "cell_type": "code",
   "execution_count": 3,
   "id": "short-efficiency",
   "metadata": {},
   "outputs": [
    {
     "name": "stdout",
     "output_type": "stream",
     "text": [
      "Please provide your Earthdata Login credentials for access.\n",
      "Your info will only be passed to urs.uat.earthdata.nasa.gov and will not be exposed in Jupyter.\n"
     ]
    },
    {
     "name": "stdin",
     "output_type": "stream",
     "text": [
      "Username:  amy.steiker\n",
      "Password:  ·········\n"
     ]
    },
    {
     "name": "stdout",
     "output_type": "stream",
     "text": [
      "24.387667179107666 seconds wall time\n"
     ]
    }
   ],
   "source": [
    "t0 = time.time()\n",
    "def setup_earthdata_login_auth(endpoint: str='urs.uat.earthdata.nasa.gov'):\n",
    "    netrc_name = \"_netrc\" if system()==\"Windows\" else \".netrc\"\n",
    "    try:\n",
    "        username, _, password = netrc(file=join(expanduser('~'), netrc_name)).authenticators(endpoint)\n",
    "    except (FileNotFoundError, TypeError):\n",
    "        print('Please provide your Earthdata Login credentials for access.')\n",
    "        print('Your info will only be passed to %s and will not be exposed in Jupyter.' % (endpoint))\n",
    "        username = input('Username: ')\n",
    "        password = getpass('Password: ')\n",
    "    manager = request.HTTPPasswordMgrWithDefaultRealm()\n",
    "    manager.add_password(None, endpoint, username, password)\n",
    "    auth = request.HTTPBasicAuthHandler(manager)\n",
    "    jar = CookieJar()\n",
    "    processor = request.HTTPCookieProcessor(jar)\n",
    "    opener = request.build_opener(auth, processor)\n",
    "    request.install_opener(opener)\n",
    "    \n",
    "# Start authenticated session with URS to allow restricted data downloads:\n",
    "setup_earthdata_login_auth(endpoint=\"urs.uat.earthdata.nasa.gov\")\n",
    "wall_time = time.time() - t0\n",
    "onprem_times.append(wall_time)\n",
    "print (wall_time, \"seconds wall time\")"
   ]
  },
  {
   "cell_type": "markdown",
   "id": "sunrise-robinson",
   "metadata": {},
   "source": [
    "### 2. Set up CMR token auth\n",
    "\n",
    "#### Steps Involved:\n",
    "\n",
    "5. Obtain Earthdata Login username and password in code\n",
    "1. Obtain own IP address (or decide to lie to CMR)\n",
    "1. Format username, password, and IP address to CMR XML format\n",
    "1. Perform token request against CMR\n",
    "1. Parse token request output to obtain the token as a string"
   ]
  },
  {
   "cell_type": "code",
   "execution_count": 4,
   "id": "sharp-litigation",
   "metadata": {},
   "outputs": [
    {
     "name": "stdin",
     "output_type": "stream",
     "text": [
      "Username:  amy.steiker\n",
      "Password:  ·········\n"
     ]
    },
    {
     "name": "stdout",
     "output_type": "stream",
     "text": [
      "19.952459573745728 seconds wall time\n"
     ]
    }
   ],
   "source": [
    "t0 = time.time()\n",
    "TOKEN_DATA = (\"<token>\"\n",
    "              \"<username>%s</username>\"\n",
    "              \"<password>%s</password>\"\n",
    "              \"<client_id>NSIDC TS1 Client</client_id>\"\n",
    "              \"<user_ip_address>%s</user_ip_address>\"\n",
    "              \"</token>\")\n",
    "\n",
    "\n",
    "def setup_cmr_token_auth(endpoint: str='cmr.uat.earthdata.nasa.gov'):\n",
    "    ip = requests.get(\"https://ipinfo.io/ip\").text.strip()\n",
    "    return requests.post(\n",
    "        url=\"https://%s/legacy-services/rest/tokens\" % endpoint,\n",
    "        data=TOKEN_DATA % (input(\"Username: \"), getpass(\"Password: \"), ip),\n",
    "        headers={'Content-Type': 'application/xml', 'Accept': 'application/json'}\n",
    "    ).json()['token']['id']\n",
    "\n",
    "\n",
    "\n",
    "\n",
    "\n",
    "# Get your authentication token for searching restricted records in the CMR:\n",
    "_token = setup_cmr_token_auth(endpoint=\"cmr.uat.earthdata.nasa.gov\")\n",
    "wall_time = time.time() - t0\n",
    "onprem_times.append(wall_time)\n",
    "print (wall_time, \"seconds wall time\")"
   ]
  },
  {
   "cell_type": "markdown",
   "id": "ordered-password",
   "metadata": {},
   "source": [
    "### 3. Declare time and bounding box search parameters\n",
    "\n",
    "_Using a bounding box that will cover granules in EEDTEST (limiting factor compared to data in TS1)_"
   ]
  },
  {
   "cell_type": "markdown",
   "id": "military-binding",
   "metadata": {},
   "source": [
    "#### Steps Involved:\n",
    "\n",
    "10. Format desired spatial bounding box into CMR query format\n",
    "1. Format desired temporal range into CMR query format\n",
    "1. (Non-Code) Determine precise data product short name (perhaps already known by users)\n",
    "1. Set data product short name in code\n",
    "1. (Non-Code) Determine precise data product version identifier, including leading zeroes\n",
    "1. Set data product version identifier in code\n",
    "1. (Non-Code) Determine data provider identifier for the collection owner\n",
    "1. Set data provider identifier in code\n",
    "\n",
    "##### Alternative for 12-17\n",
    "\n",
    "12. (Non-Code) Go to Earthdata Search\n",
    "1. (Non-Code) Search for data product short name or similar\n",
    "1. (Non-Code) Select correct collection, revealing CMR Concept ID\n",
    "1. Copy/paste the CMR Concept ID into code\n"
   ]
  },
  {
   "cell_type": "code",
   "execution_count": 5,
   "id": "suffering-equity",
   "metadata": {},
   "outputs": [
    {
     "name": "stdout",
     "output_type": "stream",
     "text": [
      "8.940696716308594e-05 seconds wall time\n"
     ]
    }
   ],
   "source": [
    "t0 = time.time()\n",
    "# Bounding Box spatial parameter in decimal degree 'W,S,E,N' format.\n",
    "bounding_box = '-13.1,-72.7,114.5,-65.5'\n",
    "\n",
    "# Each date in yyyy-MM-ddTHH:mm:ssZ format; date range in start,end format\n",
    "temporal = '2020-01-01T00:00:00Z,2020-02-10T23:59:59Z'\n",
    "\n",
    "search_parameters= {'short_name': 'ATL03',\n",
    "               'version': '003', \n",
    "               'provider': 'NSIDC_TS1',\n",
    "               'bounding_box': bounding_box,\n",
    "               'temporal': temporal,\n",
    "                   }\n",
    "wall_time = time.time() - t0\n",
    "onprem_times.append(wall_time)\n",
    "print (wall_time, \"seconds wall time\")"
   ]
  },
  {
   "cell_type": "markdown",
   "id": "worth-possibility",
   "metadata": {},
   "source": [
    "### 4. Search for granules based on time and bounding box"
   ]
  },
  {
   "cell_type": "markdown",
   "id": "appropriate-palace",
   "metadata": {},
   "source": [
    "#### Steps Involved:\n",
    "\n",
    "**Assumption:** The user's desired results are contained on the first page of results, but larger than the default (10)\n",
    "\n",
    "18. Set the token as a request parameter\n",
    "1. Set desired CMR output format (using the default requires more steps to get at the desired information)\n",
    "1. Set the CMR page size to be large enough to contain all results\n",
    "1. Perform CMR granule search using provided parameters\n",
    "1. Parse the search result\n",
    "1. Retrieve granule records from the search result (Note: I break this out because it's relatively hard to get at)\n",
    "\n",
    "##### Skipped steps (not strictly necessary)\n",
    "* Error checking\n",
    "* Hits reporting\n",
    "* Set CMR parameter to scroll results (code does not go past the first page)"
   ]
  },
  {
   "cell_type": "code",
   "execution_count": 6,
   "id": "authentic-priest",
   "metadata": {},
   "outputs": [
    {
     "name": "stdout",
     "output_type": "stream",
     "text": [
      "Found 2 files\n",
      "The total size of all files is 1991.09 MB\n",
      "0.921053409576416 seconds wall time\n"
     ]
    }
   ],
   "source": [
    "t0 = time.time()\n",
    "def search_granules(search_parameters, token, geojson=None, output_format=\"json\"):\n",
    "    \"\"\"\n",
    "    Performs a granule search with token authentication for restricted results\n",
    "    \n",
    "    :search_parameters: dictionary of CMR search parameters\n",
    "    :token: CMR token needed for restricted search\n",
    "    :geojson: filepath to GeoJSON file for spatial search\n",
    "    :output_format: select format for results https://cmr.earthdata.nasa.gov/search/site/docs/search/api.html#supported-result-formats\n",
    "    \n",
    "    :returns: if hits is greater than 0, search results are returned in chosen output_format, otherwise returns None.\n",
    "    \"\"\"\n",
    "    search_url = \"https://cmr.uat.earthdata.nasa.gov/search/granules\"\n",
    "    \n",
    "    # add token to search parameters\n",
    "    search_parameters['token'] = token\n",
    "    \n",
    "    if geojson:\n",
    "        files = {\"shapefile\": (geojson, open(geojson, \"r\"), \"application/geo+json\")}\n",
    "    else:\n",
    "        files = None\n",
    "    \n",
    "    \n",
    "    parameters = {\n",
    "        \"scroll\": \"true\",\n",
    "        \"page_size\": 100,\n",
    "    }\n",
    "    \n",
    "    try:\n",
    "        response = requests.post(f\"{search_url}.{output_format}\", params=parameters, data=search_parameters, files=files)\n",
    "        response.raise_for_status()\n",
    "    except HTTPError as http_err:\n",
    "        print(f\"HTTP Error: {http_error}\")\n",
    "    except Exception as err:\n",
    "        print(f\"Error: {err}\")\n",
    "    \n",
    "    hits = int(response.headers['CMR-Hits'])\n",
    "    if hits > 0:\n",
    "        print(f\"Found {hits} files\")\n",
    "        results = json.loads(response.content)\n",
    "        granules = []\n",
    "        granules.extend(results['feed']['entry'])\n",
    "        granule_sizes = [float(granule['granule_size']) for granule in granules]\n",
    "        print(f\"The total size of all files is {sum(granule_sizes):.2f} MB\")\n",
    "        return response.json()\n",
    "    else:\n",
    "        print(\"Found no hits\")\n",
    "        return\n",
    "\n",
    "search_granules(search_parameters, _token)\n",
    "wall_time = time.time() - t0\n",
    "onprem_times.append(wall_time)\n",
    "print (wall_time, \"seconds wall time\")"
   ]
  },
  {
   "cell_type": "markdown",
   "id": "metropolitan-appointment",
   "metadata": {},
   "source": [
    "### 5. Determine subsetting service options"
   ]
  },
  {
   "cell_type": "markdown",
   "id": "foreign-merit",
   "metadata": {},
   "source": [
    "#### Steps Involved:\n",
    "\n",
    "24. Set the token as a request parameter\n",
    "1. Set desired CMR output format for collections (using the default requires more steps to get at the desired information)\n",
    "1. Perform CMR collection search using the collection-related search fields\n",
    "1. Parse the search result\n",
    "1. Retrieve collection from the search result\n",
    "1. Retrieve associated service IDs from the collection\n",
    "1. Set desired (different) output format for services\n",
    "1. Format a query to fetch the service for each service ID (why isn't this a link relation?)\n",
    "1. Perform CMR service search for each each service ID\n",
    "1. Parse the search result\n",
    "1. Retrieve service from the search result\n",
    "1. Retrieve associated service options from the service\n"
   ]
  },
  {
   "cell_type": "code",
   "execution_count": 7,
   "id": "round-trial",
   "metadata": {},
   "outputs": [
    {
     "name": "stdout",
     "output_type": "stream",
     "text": [
      "{'Subset': {'SpatialSubset': {'BoundingBox': {'AllowMultipleValues': False},\n",
      "                              'Circle': {'AllowMultipleValues': False},\n",
      "                              'Point': {'AllowMultipleValues': False},\n",
      "                              'Polygon': {'AllowMultipleValues': False},\n",
      "                              'Shapefile': [{'Format': 'ESRI'},\n",
      "                                            {'Format': 'GeoJSON'},\n",
      "                                            {'Format': 'KML'}]},\n",
      "            'TemporalSubset': {'AllowMultipleValues': False},\n",
      "            'VariableSubset': {'AllowMultipleValues': False}},\n",
      " 'SupportedReformattings': [{'SupportedInputFormat': 'HDF5',\n",
      "                             'SupportedOutputFormats': ['ASCII',\n",
      "                                                        'HDF5',\n",
      "                                                        'NETCDF-3',\n",
      "                                                        'NETCDF-4']}]}\n",
      "1.7000792026519775 seconds wall time\n"
     ]
    }
   ],
   "source": [
    "t0 = time.time()\n",
    "def search_services(search_parameters, token, output_format=\"json\"):\n",
    "    \"\"\"\n",
    "    Performs a granule search with token authentication for restricted results\n",
    "    \n",
    "    :search_parameters: dictionary of CMR search parameters\n",
    "    :token: CMR token needed for restricted search\n",
    "    :output_format: select format for results https://cmr.earthdata.nasa.gov/search/site/docs/search/api.html#supported-result-formats\n",
    "    \n",
    "    :returns: if hits is greater than 0, search results are returned in chosen output_format, otherwise returns None.\n",
    "    \"\"\"\n",
    "    collection_url = \"https://cmr.uat.earthdata.nasa.gov/search/collections\"\n",
    "    \n",
    "    # add token to search parameters\n",
    "    search_parameters['token'] = token\n",
    "    \n",
    "    parameters = {\n",
    "        \"scroll\": \"true\",\n",
    "        \"page_size\": 100,\n",
    "    }\n",
    "    \n",
    "    try:\n",
    "        response = requests.post(f\"{collection_url}.{output_format}\", params=parameters, data=search_parameters)\n",
    "        response.raise_for_status()\n",
    "    except HTTPError as http_err:\n",
    "        print(f\"HTTP Error: {http_error}\")\n",
    "    except Exception as err:\n",
    "        print(f\"Error: {err}\")\n",
    "    \n",
    "    hits = int(response.headers['CMR-Hits'])\n",
    "    if hits > 0:\n",
    "        response = response.json()\n",
    "        if 'services' in response['feed']['entry'][0]['associations']: \n",
    "            services = response['feed']['entry'][0]['associations']['services']\n",
    "            output_format = \"umm_json\"\n",
    "            service_url = \"https://cmr.uat.earthdata.nasa.gov/search/services\"\n",
    "            for i in range(len(services)):\n",
    "                response = requests.get(f\"{service_url}.{output_format}?concept-id={services[i]}\")\n",
    "                response = response.json()\n",
    "                if 'ServiceOptions' in response['items'][0]['umm']: pprint(response['items'][0]['umm']['ServiceOptions'])\n",
    "        else:\n",
    "            print(\"Found no services\")\n",
    "        return\n",
    "    else:\n",
    "        print(\"Found no hits\")\n",
    "        return\n",
    "\n",
    "search_services(search_parameters, _token)\n",
    "wall_time = time.time() - t0\n",
    "onprem_times.append(wall_time)\n",
    "print (wall_time, \"seconds wall time\")"
   ]
  },
  {
   "cell_type": "markdown",
   "id": "anonymous-insulin",
   "metadata": {},
   "source": [
    "### 6. Determine variables\n",
    "\n",
    "_Today there are no UMM-Var records for the on-prem collection_"
   ]
  },
  {
   "cell_type": "markdown",
   "id": "universal-olympus",
   "metadata": {},
   "source": [
    "#### Steps Involved:\n",
    "\n",
    "N/A"
   ]
  },
  {
   "cell_type": "markdown",
   "id": "moving-textbook",
   "metadata": {},
   "source": [
    "#### 7. Determine variables: Authenticate against EGI endpoint"
   ]
  },
  {
   "cell_type": "markdown",
   "id": "about-archive",
   "metadata": {},
   "source": [
    "#### Steps Involved:\n",
    "\n",
    "36. (External) Determine EGI URL and format\n",
    "1. Format EGI capabilities URL with collection short name and version\n",
    "1. Perform EGI capabilities GET request"
   ]
  },
  {
   "cell_type": "code",
   "execution_count": 8,
   "id": "reverse-somerset",
   "metadata": {},
   "outputs": [
    {
     "name": "stdin",
     "output_type": "stream",
     "text": [
      "Earthdata Login user name:  amy.steiker\n",
      "Earthdata Login password:  ·········\n"
     ]
    },
    {
     "name": "stdout",
     "output_type": "stream",
     "text": [
      "6.256451606750488 seconds wall time\n"
     ]
    }
   ],
   "source": [
    "t0 = time.time()\n",
    "uid = input('Earthdata Login user name: ') # Enter Earthdata Login user name\n",
    "pswd = getpass('Earthdata Login password: ') # Enter Earthdata Login password\n",
    "\n",
    "# Query service capability URL \n",
    "\n",
    "from xml.etree import ElementTree as ET\n",
    "\n",
    "capability_url = f'https://n5eil12u.ecs.nsidc.org/egi_TS1/capabilities/{search_parameters[\"short_name\"]}.{search_parameters[\"version\"]}.xml'\n",
    "\n",
    "# Create session to store cookie and pass credentials to capabilities url\n",
    "\n",
    "session = requests.session()\n",
    "s = session.get(capability_url)\n",
    "response = session.get(s.url,auth=(uid,pswd))\n",
    "\n",
    "wall_time = time.time() - t0\n",
    "onprem_times.append(wall_time)\n",
    "print (wall_time, \"seconds wall time\")"
   ]
  },
  {
   "cell_type": "markdown",
   "id": "spectacular-license",
   "metadata": {},
   "source": [
    "#### 8. Determine variables: Query EGI for variables"
   ]
  },
  {
   "cell_type": "markdown",
   "id": "disabled-adventure",
   "metadata": {},
   "source": [
    "#### Steps Involved:\n",
    "\n",
    "39. Parse the EGI response\n",
    "1. Locate each variable in the response\n",
    "1. Extract the variable name from each variable\n",
    "1. Ensure that each variable starts with a leading '/', inserting it if not **(Note: output looks buggy)**\n",
    "1. Replace ':' with '/' in variable names to form more conventional variable paths\n",
    "1. Locate each format option in the response\n",
    "1. Extract the format name from each format\n",
    "1. Remove empty formats that were returned\n",
    "1. Locate each projection option in the response"
   ]
  },
  {
   "cell_type": "code",
   "execution_count": 9,
   "id": "breeding-extension",
   "metadata": {
    "collapsed": true,
    "jupyter": {
     "outputs_hidden": true
    },
    "tags": []
   },
   "outputs": [
    {
     "name": "stdout",
     "output_type": "stream",
     "text": [
      "['/', '//ds_surf_type', '//ds_xyz', '/ancillary_data', '/ancillary_data/atlas_sdp_gps_epoch', '/ancillary_data/control', '/ancillary_data/data_end_utc', '/ancillary_data/data_start_utc', '/ancillary_data/end_cycle', '/ancillary_data/end_delta_time', '/ancillary_data/end_geoseg', '/ancillary_data/end_gpssow', '/ancillary_data/end_gpsweek', '/ancillary_data/end_orbit', '/ancillary_data/end_region', '/ancillary_data/end_rgt', '/ancillary_data/granule_end_utc', '/ancillary_data/granule_start_utc', '/ancillary_data/release', '/ancillary_data/start_cycle', '/ancillary_data/start_delta_time', '/ancillary_data/start_geoseg', '/ancillary_data/start_gpssow', '/ancillary_data/start_gpsweek', '/ancillary_data/start_orbit', '/ancillary_data/start_region', '/ancillary_data/start_rgt', '/ancillary_data/version', '/ancillary_data/altimetry', '/ancillary_data/altimetry/atl03_pad', '/ancillary_data/altimetry/band_tol', '/ancillary_data/altimetry/min_full_sat', '/ancillary_data/altimetry/min_near_sat', '/ancillary_data/altimetry/min_sat_h', '/ancillary_data/altimetry/podppd_pad', '/ancillary_data/atlas_engineering', '/ancillary_data/atlas_engineering/det_ab_flag', '/ancillary_data/atlas_engineering/ds_gt', '/ancillary_data/atlas_engineering/ds_stat', '/ancillary_data/atlas_engineering/hvpc_ab_flag', '/ancillary_data/atlas_engineering/laser_12_flag', '/ancillary_data/atlas_engineering/lrs_ab_flag', '/ancillary_data/atlas_engineering/pdu_ab_flag', '/ancillary_data/atlas_engineering/ph_uncorrelated_error', '/ancillary_data/atlas_engineering/spd_ab_flag', '/ancillary_data/atlas_engineering/tams_ab_flag', '/ancillary_data/atlas_engineering/receiver', '/ancillary_data/atlas_engineering/receiver/rx_bckgrd_sensitivity', '/ancillary_data/atlas_engineering/receiver/rx_return_sensitivity', '/ancillary_data/atlas_engineering/transmit', '/ancillary_data/atlas_engineering/transmit/tx_pulse_distribution', '/ancillary_data/atlas_engineering/transmit/tx_pulse_energy', '/ancillary_data/atlas_engineering/transmit/tx_pulse_skew_est', '/ancillary_data/atlas_engineering/transmit/tx_pulse_thresh_lower', '/ancillary_data/atlas_engineering/transmit/tx_pulse_thresh_upper', '/ancillary_data/atlas_engineering/transmit/tx_pulse_width_lower', '/ancillary_data/atlas_engineering/transmit/tx_pulse_width_upper', '/ancillary_data/calibrations', '/ancillary_data/calibrations/ds_channel', '/ancillary_data/calibrations/dead_time', '/ancillary_data/calibrations/dead_time/cal42_product', '/ancillary_data/calibrations/dead_time/side', '/ancillary_data/calibrations/dead_time/temperature', '/ancillary_data/calibrations/dead_time/gt1l', '/ancillary_data/calibrations/dead_time/gt1l', '/ancillary_data/calibrations/dead_time/gt1r', '/ancillary_data/calibrations/dead_time/gt1r', '/ancillary_data/calibrations/dead_time/gt2l', '/ancillary_data/calibrations/dead_time/gt2l', '/ancillary_data/calibrations/dead_time/gt2r', '/ancillary_data/calibrations/dead_time/gt2r', '/ancillary_data/calibrations/dead_time/gt3l', '/ancillary_data/calibrations/dead_time/gt3l', '/ancillary_data/calibrations/dead_time/gt3r', '/ancillary_data/calibrations/dead_time/gt3r', '/ancillary_data/calibrations/dead_time_radiometric_signal_loss', '/ancillary_data/calibrations/dead_time_radiometric_signal_loss/cal34_product', '/ancillary_data/calibrations/dead_time_radiometric_signal_loss/gt1l', '/ancillary_data/calibrations/dead_time_radiometric_signal_loss/gt1l', '/ancillary_data/calibrations/dead_time_radiometric_signal_loss/gt1l', '/ancillary_data/calibrations/dead_time_radiometric_signal_loss/gt1l', '/ancillary_data/calibrations/dead_time_radiometric_signal_loss/gt1r', '/ancillary_data/calibrations/dead_time_radiometric_signal_loss/gt1r', '/ancillary_data/calibrations/dead_time_radiometric_signal_loss/gt1r', '/ancillary_data/calibrations/dead_time_radiometric_signal_loss/gt1r', '/ancillary_data/calibrations/dead_time_radiometric_signal_loss/gt2l', '/ancillary_data/calibrations/dead_time_radiometric_signal_loss/gt2l', '/ancillary_data/calibrations/dead_time_radiometric_signal_loss/gt2l', '/ancillary_data/calibrations/dead_time_radiometric_signal_loss/gt2l', '/ancillary_data/calibrations/dead_time_radiometric_signal_loss/gt2r', '/ancillary_data/calibrations/dead_time_radiometric_signal_loss/gt2r', '/ancillary_data/calibrations/dead_time_radiometric_signal_loss/gt2r', '/ancillary_data/calibrations/dead_time_radiometric_signal_loss/gt2r', '/ancillary_data/calibrations/dead_time_radiometric_signal_loss/gt3l', '/ancillary_data/calibrations/dead_time_radiometric_signal_loss/gt3l', '/ancillary_data/calibrations/dead_time_radiometric_signal_loss/gt3l', '/ancillary_data/calibrations/dead_time_radiometric_signal_loss/gt3l', '/ancillary_data/calibrations/dead_time_radiometric_signal_loss/gt3r', '/ancillary_data/calibrations/dead_time_radiometric_signal_loss/gt3r', '/ancillary_data/calibrations/dead_time_radiometric_signal_loss/gt3r', '/ancillary_data/calibrations/dead_time_radiometric_signal_loss/gt3r', '/ancillary_data/calibrations/first_photon_bias', '/ancillary_data/calibrations/first_photon_bias/cal19_product', '/ancillary_data/calibrations/first_photon_bias/gt1l', '/ancillary_data/calibrations/first_photon_bias/gt1l', '/ancillary_data/calibrations/first_photon_bias/gt1l', '/ancillary_data/calibrations/first_photon_bias/gt1l', '/ancillary_data/calibrations/first_photon_bias/gt1r', '/ancillary_data/calibrations/first_photon_bias/gt1r', '/ancillary_data/calibrations/first_photon_bias/gt1r', '/ancillary_data/calibrations/first_photon_bias/gt1r', '/ancillary_data/calibrations/first_photon_bias/gt2l', '/ancillary_data/calibrations/first_photon_bias/gt2l', '/ancillary_data/calibrations/first_photon_bias/gt2l', '/ancillary_data/calibrations/first_photon_bias/gt2l', '/ancillary_data/calibrations/first_photon_bias/gt2r', '/ancillary_data/calibrations/first_photon_bias/gt2r', '/ancillary_data/calibrations/first_photon_bias/gt2r', '/ancillary_data/calibrations/first_photon_bias/gt2r', '/ancillary_data/calibrations/first_photon_bias/gt3l', '/ancillary_data/calibrations/first_photon_bias/gt3l', '/ancillary_data/calibrations/first_photon_bias/gt3l', '/ancillary_data/calibrations/first_photon_bias/gt3l', '/ancillary_data/calibrations/first_photon_bias/gt3r', '/ancillary_data/calibrations/first_photon_bias/gt3r', '/ancillary_data/calibrations/first_photon_bias/gt3r', '/ancillary_data/calibrations/first_photon_bias/gt3r', '/ancillary_data/calibrations/low_link_impulse_response', '/ancillary_data/calibrations/low_link_impulse_response/bin_width', '/ancillary_data/calibrations/low_link_impulse_response/cal20_product', '/ancillary_data/calibrations/low_link_impulse_response/hist_x', '/ancillary_data/calibrations/low_link_impulse_response/laser', '/ancillary_data/calibrations/low_link_impulse_response/mode', '/ancillary_data/calibrations/low_link_impulse_response/num_bins', '/ancillary_data/calibrations/low_link_impulse_response/return_source', '/ancillary_data/calibrations/low_link_impulse_response/side', '/ancillary_data/calibrations/low_link_impulse_response/temperature', '/ancillary_data/calibrations/low_link_impulse_response/gt1l', '/ancillary_data/calibrations/low_link_impulse_response/gt1l', '/ancillary_data/calibrations/low_link_impulse_response/gt1r', '/ancillary_data/calibrations/low_link_impulse_response/gt1r', '/ancillary_data/calibrations/low_link_impulse_response/gt2l', '/ancillary_data/calibrations/low_link_impulse_response/gt2l', '/ancillary_data/calibrations/low_link_impulse_response/gt2r', '/ancillary_data/calibrations/low_link_impulse_response/gt2r', '/ancillary_data/calibrations/low_link_impulse_response/gt3l', '/ancillary_data/calibrations/low_link_impulse_response/gt3l', '/ancillary_data/calibrations/low_link_impulse_response/gt3r', '/ancillary_data/calibrations/low_link_impulse_response/gt3r', '/ancillary_data/gt1l', '/ancillary_data/gt1l/signal_find_input', '/ancillary_data/gt1l/signal_find_input/addpad_flag', '/ancillary_data/gt1l/signal_find_input/alpha_inc', '/ancillary_data/gt1l/signal_find_input/alpha_max', '/ancillary_data/gt1l/signal_find_input/delta_t_gap_min', '/ancillary_data/gt1l/signal_find_input/delta_t_lin_fit', '/ancillary_data/gt1l/signal_find_input/delta_t_max', '/ancillary_data/gt1l/signal_find_input/delta_t_min', '/ancillary_data/gt1l/signal_find_input/delta_z_bg', '/ancillary_data/gt1l/signal_find_input/delta_zmax2', '/ancillary_data/gt1l/signal_find_input/delta_zmin', '/ancillary_data/gt1l/signal_find_input/e_a', '/ancillary_data/gt1l/signal_find_input/e_linfit_edit', '/ancillary_data/gt1l/signal_find_input/e_linfit_slant', '/ancillary_data/gt1l/signal_find_input/e_m', '/ancillary_data/gt1l/signal_find_input/e_m_mult', '/ancillary_data/gt1l/signal_find_input/htspanmin', '/ancillary_data/gt1l/signal_find_input/lslant_flag', '/ancillary_data/gt1l/signal_find_input/min_fit_time_fact', '/ancillary_data/gt1l/signal_find_input/nbin_min', '/ancillary_data/gt1l/signal_find_input/n_delta_z1', '/ancillary_data/gt1l/signal_find_input/n_delta_z2', '/ancillary_data/gt1l/signal_find_input/nphot_min', '/ancillary_data/gt1l/signal_find_input/nslw', '/ancillary_data/gt1l/signal_find_input/nslw_v', '/ancillary_data/gt1l/signal_find_input/out_edit_flag', '/ancillary_data/gt1l/signal_find_input/pc_bckgrd_flag', '/ancillary_data/gt1l/signal_find_input/r', '/ancillary_data/gt1l/signal_find_input/r2', '/ancillary_data/gt1l/signal_find_input/sig_find_t_inc', '/ancillary_data/gt1l/signal_find_input/snrlow', '/ancillary_data/gt1l/signal_find_input/snrmed', '/ancillary_data/gt1l/signal_find_input/t_gap_big', '/ancillary_data/gt1r', '/ancillary_data/gt1r/signal_find_input', '/ancillary_data/gt1r/signal_find_input/addpad_flag', '/ancillary_data/gt1r/signal_find_input/alpha_inc', '/ancillary_data/gt1r/signal_find_input/alpha_max', '/ancillary_data/gt1r/signal_find_input/delta_t_gap_min', '/ancillary_data/gt1r/signal_find_input/delta_t_lin_fit', '/ancillary_data/gt1r/signal_find_input/delta_t_max', '/ancillary_data/gt1r/signal_find_input/delta_t_min', '/ancillary_data/gt1r/signal_find_input/delta_z_bg', '/ancillary_data/gt1r/signal_find_input/delta_zmax2', '/ancillary_data/gt1r/signal_find_input/delta_zmin', '/ancillary_data/gt1r/signal_find_input/e_a', '/ancillary_data/gt1r/signal_find_input/e_linfit_edit', '/ancillary_data/gt1r/signal_find_input/e_linfit_slant', '/ancillary_data/gt1r/signal_find_input/e_m', '/ancillary_data/gt1r/signal_find_input/e_m_mult', '/ancillary_data/gt1r/signal_find_input/htspanmin', '/ancillary_data/gt1r/signal_find_input/lslant_flag', '/ancillary_data/gt1r/signal_find_input/min_fit_time_fact', '/ancillary_data/gt1r/signal_find_input/nbin_min', '/ancillary_data/gt1r/signal_find_input/n_delta_z1', '/ancillary_data/gt1r/signal_find_input/n_delta_z2', '/ancillary_data/gt1r/signal_find_input/nphot_min', '/ancillary_data/gt1r/signal_find_input/nslw', '/ancillary_data/gt1r/signal_find_input/nslw_v', '/ancillary_data/gt1r/signal_find_input/out_edit_flag', '/ancillary_data/gt1r/signal_find_input/pc_bckgrd_flag', '/ancillary_data/gt1r/signal_find_input/r', '/ancillary_data/gt1r/signal_find_input/r2', '/ancillary_data/gt1r/signal_find_input/sig_find_t_inc', '/ancillary_data/gt1r/signal_find_input/snrlow', '/ancillary_data/gt1r/signal_find_input/snrmed', '/ancillary_data/gt1r/signal_find_input/t_gap_big', '/ancillary_data/gt2l', '/ancillary_data/gt2l/signal_find_input', '/ancillary_data/gt2l/signal_find_input/addpad_flag', '/ancillary_data/gt2l/signal_find_input/alpha_inc', '/ancillary_data/gt2l/signal_find_input/alpha_max', '/ancillary_data/gt2l/signal_find_input/delta_t_gap_min', '/ancillary_data/gt2l/signal_find_input/delta_t_lin_fit', '/ancillary_data/gt2l/signal_find_input/delta_t_max', '/ancillary_data/gt2l/signal_find_input/delta_t_min', '/ancillary_data/gt2l/signal_find_input/delta_z_bg', '/ancillary_data/gt2l/signal_find_input/delta_zmax2', '/ancillary_data/gt2l/signal_find_input/delta_zmin', '/ancillary_data/gt2l/signal_find_input/e_a', '/ancillary_data/gt2l/signal_find_input/e_linfit_edit', '/ancillary_data/gt2l/signal_find_input/e_linfit_slant', '/ancillary_data/gt2l/signal_find_input/e_m', '/ancillary_data/gt2l/signal_find_input/e_m_mult', '/ancillary_data/gt2l/signal_find_input/htspanmin', '/ancillary_data/gt2l/signal_find_input/lslant_flag', '/ancillary_data/gt2l/signal_find_input/min_fit_time_fact', '/ancillary_data/gt2l/signal_find_input/nbin_min', '/ancillary_data/gt2l/signal_find_input/n_delta_z1', '/ancillary_data/gt2l/signal_find_input/n_delta_z2', '/ancillary_data/gt2l/signal_find_input/nphot_min', '/ancillary_data/gt2l/signal_find_input/nslw', '/ancillary_data/gt2l/signal_find_input/nslw_v', '/ancillary_data/gt2l/signal_find_input/out_edit_flag', '/ancillary_data/gt2l/signal_find_input/pc_bckgrd_flag', '/ancillary_data/gt2l/signal_find_input/r', '/ancillary_data/gt2l/signal_find_input/r2', '/ancillary_data/gt2l/signal_find_input/sig_find_t_inc', '/ancillary_data/gt2l/signal_find_input/snrlow', '/ancillary_data/gt2l/signal_find_input/snrmed', '/ancillary_data/gt2l/signal_find_input/t_gap_big', '/ancillary_data/gt2r', '/ancillary_data/gt2r/signal_find_input', '/ancillary_data/gt2r/signal_find_input/addpad_flag', '/ancillary_data/gt2r/signal_find_input/alpha_inc', '/ancillary_data/gt2r/signal_find_input/alpha_max', '/ancillary_data/gt2r/signal_find_input/delta_t_gap_min', '/ancillary_data/gt2r/signal_find_input/delta_t_lin_fit', '/ancillary_data/gt2r/signal_find_input/delta_t_max', '/ancillary_data/gt2r/signal_find_input/delta_t_min', '/ancillary_data/gt2r/signal_find_input/delta_z_bg', '/ancillary_data/gt2r/signal_find_input/delta_zmax2', '/ancillary_data/gt2r/signal_find_input/delta_zmin', '/ancillary_data/gt2r/signal_find_input/e_a', '/ancillary_data/gt2r/signal_find_input/e_linfit_edit', '/ancillary_data/gt2r/signal_find_input/e_linfit_slant', '/ancillary_data/gt2r/signal_find_input/e_m', '/ancillary_data/gt2r/signal_find_input/e_m_mult', '/ancillary_data/gt2r/signal_find_input/htspanmin', '/ancillary_data/gt2r/signal_find_input/lslant_flag', '/ancillary_data/gt2r/signal_find_input/min_fit_time_fact', '/ancillary_data/gt2r/signal_find_input/nbin_min', '/ancillary_data/gt2r/signal_find_input/n_delta_z1', '/ancillary_data/gt2r/signal_find_input/n_delta_z2', '/ancillary_data/gt2r/signal_find_input/nphot_min', '/ancillary_data/gt2r/signal_find_input/nslw', '/ancillary_data/gt2r/signal_find_input/nslw_v', '/ancillary_data/gt2r/signal_find_input/out_edit_flag', '/ancillary_data/gt2r/signal_find_input/pc_bckgrd_flag', '/ancillary_data/gt2r/signal_find_input/r', '/ancillary_data/gt2r/signal_find_input/r2', '/ancillary_data/gt2r/signal_find_input/sig_find_t_inc', '/ancillary_data/gt2r/signal_find_input/snrlow', '/ancillary_data/gt2r/signal_find_input/snrmed', '/ancillary_data/gt2r/signal_find_input/t_gap_big', '/ancillary_data/gt3l', '/ancillary_data/gt3l/signal_find_input', '/ancillary_data/gt3l/signal_find_input/addpad_flag', '/ancillary_data/gt3l/signal_find_input/alpha_inc', '/ancillary_data/gt3l/signal_find_input/alpha_max', '/ancillary_data/gt3l/signal_find_input/delta_t_gap_min', '/ancillary_data/gt3l/signal_find_input/delta_t_lin_fit', '/ancillary_data/gt3l/signal_find_input/delta_t_max', '/ancillary_data/gt3l/signal_find_input/delta_t_min', '/ancillary_data/gt3l/signal_find_input/delta_z_bg', '/ancillary_data/gt3l/signal_find_input/delta_zmax2', '/ancillary_data/gt3l/signal_find_input/delta_zmin', '/ancillary_data/gt3l/signal_find_input/e_a', '/ancillary_data/gt3l/signal_find_input/e_linfit_edit', '/ancillary_data/gt3l/signal_find_input/e_linfit_slant', '/ancillary_data/gt3l/signal_find_input/e_m', '/ancillary_data/gt3l/signal_find_input/e_m_mult', '/ancillary_data/gt3l/signal_find_input/htspanmin', '/ancillary_data/gt3l/signal_find_input/lslant_flag', '/ancillary_data/gt3l/signal_find_input/min_fit_time_fact', '/ancillary_data/gt3l/signal_find_input/nbin_min', '/ancillary_data/gt3l/signal_find_input/n_delta_z1', '/ancillary_data/gt3l/signal_find_input/n_delta_z2', '/ancillary_data/gt3l/signal_find_input/nphot_min', '/ancillary_data/gt3l/signal_find_input/nslw', '/ancillary_data/gt3l/signal_find_input/nslw_v', '/ancillary_data/gt3l/signal_find_input/out_edit_flag', '/ancillary_data/gt3l/signal_find_input/pc_bckgrd_flag', '/ancillary_data/gt3l/signal_find_input/r', '/ancillary_data/gt3l/signal_find_input/r2', '/ancillary_data/gt3l/signal_find_input/sig_find_t_inc', '/ancillary_data/gt3l/signal_find_input/snrlow', '/ancillary_data/gt3l/signal_find_input/snrmed', '/ancillary_data/gt3l/signal_find_input/t_gap_big', '/ancillary_data/gt3r', '/ancillary_data/gt3r/signal_find_input', '/ancillary_data/gt3r/signal_find_input/addpad_flag', '/ancillary_data/gt3r/signal_find_input/alpha_inc', '/ancillary_data/gt3r/signal_find_input/alpha_max', '/ancillary_data/gt3r/signal_find_input/delta_t_gap_min', '/ancillary_data/gt3r/signal_find_input/delta_t_lin_fit', '/ancillary_data/gt3r/signal_find_input/delta_t_max', '/ancillary_data/gt3r/signal_find_input/delta_t_min', '/ancillary_data/gt3r/signal_find_input/delta_z_bg', '/ancillary_data/gt3r/signal_find_input/delta_zmax2', '/ancillary_data/gt3r/signal_find_input/delta_zmin', '/ancillary_data/gt3r/signal_find_input/e_a', '/ancillary_data/gt3r/signal_find_input/e_linfit_edit', '/ancillary_data/gt3r/signal_find_input/e_linfit_slant', '/ancillary_data/gt3r/signal_find_input/e_m', '/ancillary_data/gt3r/signal_find_input/e_m_mult', '/ancillary_data/gt3r/signal_find_input/htspanmin', '/ancillary_data/gt3r/signal_find_input/lslant_flag', '/ancillary_data/gt3r/signal_find_input/min_fit_time_fact', '/ancillary_data/gt3r/signal_find_input/nbin_min', '/ancillary_data/gt3r/signal_find_input/n_delta_z1', '/ancillary_data/gt3r/signal_find_input/n_delta_z2', '/ancillary_data/gt3r/signal_find_input/nphot_min', '/ancillary_data/gt3r/signal_find_input/nslw', '/ancillary_data/gt3r/signal_find_input/nslw_v', '/ancillary_data/gt3r/signal_find_input/out_edit_flag', '/ancillary_data/gt3r/signal_find_input/pc_bckgrd_flag', '/ancillary_data/gt3r/signal_find_input/r', '/ancillary_data/gt3r/signal_find_input/r2', '/ancillary_data/gt3r/signal_find_input/sig_find_t_inc', '/ancillary_data/gt3r/signal_find_input/snrlow', '/ancillary_data/gt3r/signal_find_input/snrmed', '/ancillary_data/gt3r/signal_find_input/t_gap_big', '/ancillary_data/tep', '/ancillary_data/tep/ds_gt', '/ancillary_data/tep/min_tep_ph', '/ancillary_data/tep/min_tep_secs', '/ancillary_data/tep/n_tep_bins', '/ancillary_data/tep/tep_bin_size', '/ancillary_data/tep/tep_gap_size', '/ancillary_data/tep/tep_normalize', '/ancillary_data/tep/tep_peak_bins', '/ancillary_data/tep/tep_prim_window', '/ancillary_data/tep/tep_range_prim', '/ancillary_data/tep/tep_rm_noise', '/ancillary_data/tep/tep_sec_window', '/ancillary_data/tep/tep_start_x', '/ancillary_data/tep/tep_valid_spot', '/atlas_impulse_response', '/atlas_impulse_response/pce1_spot1', '/atlas_impulse_response/pce1_spot1/tep_histogram', '/atlas_impulse_response/pce1_spot1/tep_histogram/reference_tep_flag', '/atlas_impulse_response/pce1_spot1/tep_histogram/tep_bckgrd', '/atlas_impulse_response/pce1_spot1/tep_histogram/tep_duration', '/atlas_impulse_response/pce1_spot1/tep_histogram/tep_hist', '/atlas_impulse_response/pce1_spot1/tep_histogram/tep_hist_sum', '/atlas_impulse_response/pce1_spot1/tep_histogram/tep_hist_time', '/atlas_impulse_response/pce1_spot1/tep_histogram/tep_tod', '/atlas_impulse_response/pce2_spot3', '/atlas_impulse_response/pce2_spot3/tep_histogram', '/atlas_impulse_response/pce2_spot3/tep_histogram/reference_tep_flag', '/atlas_impulse_response/pce2_spot3/tep_histogram/tep_bckgrd', '/atlas_impulse_response/pce2_spot3/tep_histogram/tep_duration', '/atlas_impulse_response/pce2_spot3/tep_histogram/tep_hist', '/atlas_impulse_response/pce2_spot3/tep_histogram/tep_hist_sum', '/atlas_impulse_response/pce2_spot3/tep_histogram/tep_hist_time', '/atlas_impulse_response/pce2_spot3/tep_histogram/tep_tod', '/gt1l', '/gt1l/bckgrd_atlas', '/gt1l/bckgrd_atlas/bckgrd_counts', '/gt1l/bckgrd_atlas/bckgrd_counts_reduced', '/gt1l/bckgrd_atlas/bckgrd_hist_top', '/gt1l/bckgrd_atlas/bckgrd_int_height', '/gt1l/bckgrd_atlas/bckgrd_int_height_reduced', '/gt1l/bckgrd_atlas/bckgrd_rate', '/gt1l/bckgrd_atlas/delta_time', '/gt1l/bckgrd_atlas/pce_mframe_cnt', '/gt1l/bckgrd_atlas/tlm_height_band1', '/gt1l/bckgrd_atlas/tlm_height_band2', '/gt1l/bckgrd_atlas/tlm_top_band1', '/gt1l/bckgrd_atlas/tlm_top_band2', '/gt1l/geolocation', '/gt1l/geolocation/altitude_sc', '/gt1l/geolocation/bounce_time_offset', '/gt1l/geolocation/delta_time', '/gt1l/geolocation/full_sat_fract', '/gt1l/geolocation/near_sat_fract', '/gt1l/geolocation/neutat_delay_derivative', '/gt1l/geolocation/neutat_delay_total', '/gt1l/geolocation/neutat_ht', '/gt1l/geolocation/ph_index_beg', '/gt1l/geolocation/podppd_flag', '/gt1l/geolocation/range_bias_corr', '/gt1l/geolocation/ref_azimuth', '/gt1l/geolocation/ref_elev', '/gt1l/geolocation/reference_photon_index', '/gt1l/geolocation/reference_photon_lat', '/gt1l/geolocation/reference_photon_lon', '/gt1l/geolocation/segment_dist_x', '/gt1l/geolocation/segment_id', '/gt1l/geolocation/segment_length', '/gt1l/geolocation/segment_ph_cnt', '/gt1l/geolocation/sigma_across', '/gt1l/geolocation/sigma_along', '/gt1l/geolocation/sigma_h', '/gt1l/geolocation/sigma_lat', '/gt1l/geolocation/sigma_lon', '/gt1l/geolocation/solar_azimuth', '/gt1l/geolocation/solar_elevation', '/gt1l/geolocation/surf_type', '/gt1l/geolocation/tx_pulse_energy', '/gt1l/geolocation/tx_pulse_skew_est', '/gt1l/geolocation/tx_pulse_width_lower', '/gt1l/geolocation/tx_pulse_width_upper', '/gt1l/geolocation/velocity_sc', '/gt1l/geophys_corr', '/gt1l/geophys_corr/dac', '/gt1l/geophys_corr/delta_time', '/gt1l/geophys_corr/dem_flag', '/gt1l/geophys_corr/dem_h', '/gt1l/geophys_corr/geoid', '/gt1l/geophys_corr/tide_earth', '/gt1l/geophys_corr/tide_equilibrium', '/gt1l/geophys_corr/tide_load', '/gt1l/geophys_corr/tide_ocean', '/gt1l/geophys_corr/tide_oc_pole', '/gt1l/geophys_corr/tide_pole', '/gt1l/heights', '/gt1l/heights/delta_time', '/gt1l/heights/dist_ph_across', '/gt1l/heights/dist_ph_along', '/gt1l/heights/h_ph', '/gt1l/heights/lat_ph', '/gt1l/heights/lon_ph', '/gt1l/heights/pce_mframe_cnt', '/gt1l/heights/ph_id_channel', '/gt1l/heights/ph_id_count', '/gt1l/heights/ph_id_pulse', '/gt1l/heights/signal_conf_ph', '/gt1l/signal_find_output', '/gt1l/signal_find_output/inlandwater', '/gt1l/signal_find_output/inlandwater/bckgrd_mean', '/gt1l/signal_find_output/inlandwater/bckgrd_sigma', '/gt1l/signal_find_output/inlandwater/delta_time', '/gt1l/signal_find_output/inlandwater/t_pc_delta', '/gt1l/signal_find_output/inlandwater/z_pc_delta', '/gt1l/signal_find_output/land', '/gt1l/signal_find_output/land/bckgrd_mean', '/gt1l/signal_find_output/land/bckgrd_sigma', '/gt1l/signal_find_output/land/delta_time', '/gt1l/signal_find_output/land/t_pc_delta', '/gt1l/signal_find_output/land/z_pc_delta', '/gt1l/signal_find_output/land_ice', '/gt1l/signal_find_output/land_ice/bckgrd_mean', '/gt1l/signal_find_output/land_ice/bckgrd_sigma', '/gt1l/signal_find_output/land_ice/delta_time', '/gt1l/signal_find_output/land_ice/t_pc_delta', '/gt1l/signal_find_output/land_ice/z_pc_delta', '/gt1r', '/gt1r/bckgrd_atlas', '/gt1r/bckgrd_atlas/bckgrd_counts', '/gt1r/bckgrd_atlas/bckgrd_counts_reduced', '/gt1r/bckgrd_atlas/bckgrd_hist_top', '/gt1r/bckgrd_atlas/bckgrd_int_height', '/gt1r/bckgrd_atlas/bckgrd_int_height_reduced', '/gt1r/bckgrd_atlas/bckgrd_rate', '/gt1r/bckgrd_atlas/delta_time', '/gt1r/bckgrd_atlas/pce_mframe_cnt', '/gt1r/bckgrd_atlas/tlm_height_band1', '/gt1r/bckgrd_atlas/tlm_height_band2', '/gt1r/bckgrd_atlas/tlm_top_band1', '/gt1r/bckgrd_atlas/tlm_top_band2', '/gt1r/geolocation', '/gt1r/geolocation/altitude_sc', '/gt1r/geolocation/bounce_time_offset', '/gt1r/geolocation/delta_time', '/gt1r/geolocation/full_sat_fract', '/gt1r/geolocation/near_sat_fract', '/gt1r/geolocation/neutat_delay_derivative', '/gt1r/geolocation/neutat_delay_total', '/gt1r/geolocation/neutat_ht', '/gt1r/geolocation/ph_index_beg', '/gt1r/geolocation/podppd_flag', '/gt1r/geolocation/range_bias_corr', '/gt1r/geolocation/ref_azimuth', '/gt1r/geolocation/ref_elev', '/gt1r/geolocation/reference_photon_index', '/gt1r/geolocation/reference_photon_lat', '/gt1r/geolocation/reference_photon_lon', '/gt1r/geolocation/segment_dist_x', '/gt1r/geolocation/segment_id', '/gt1r/geolocation/segment_length', '/gt1r/geolocation/segment_ph_cnt', '/gt1r/geolocation/sigma_across', '/gt1r/geolocation/sigma_along', '/gt1r/geolocation/sigma_h', '/gt1r/geolocation/sigma_lat', '/gt1r/geolocation/sigma_lon', '/gt1r/geolocation/solar_azimuth', '/gt1r/geolocation/solar_elevation', '/gt1r/geolocation/surf_type', '/gt1r/geolocation/tx_pulse_energy', '/gt1r/geolocation/tx_pulse_skew_est', '/gt1r/geolocation/tx_pulse_width_lower', '/gt1r/geolocation/tx_pulse_width_upper', '/gt1r/geolocation/velocity_sc', '/gt1r/geophys_corr', '/gt1r/geophys_corr/dac', '/gt1r/geophys_corr/delta_time', '/gt1r/geophys_corr/dem_flag', '/gt1r/geophys_corr/dem_h', '/gt1r/geophys_corr/geoid', '/gt1r/geophys_corr/tide_earth', '/gt1r/geophys_corr/tide_equilibrium', '/gt1r/geophys_corr/tide_load', '/gt1r/geophys_corr/tide_ocean', '/gt1r/geophys_corr/tide_oc_pole', '/gt1r/geophys_corr/tide_pole', '/gt1r/heights', '/gt1r/heights/delta_time', '/gt1r/heights/dist_ph_across', '/gt1r/heights/dist_ph_along', '/gt1r/heights/h_ph', '/gt1r/heights/lat_ph', '/gt1r/heights/lon_ph', '/gt1r/heights/pce_mframe_cnt', '/gt1r/heights/ph_id_channel', '/gt1r/heights/ph_id_count', '/gt1r/heights/ph_id_pulse', '/gt1r/heights/signal_conf_ph', '/gt1r/signal_find_output', '/gt1r/signal_find_output/inlandwater', '/gt1r/signal_find_output/inlandwater/bckgrd_mean', '/gt1r/signal_find_output/inlandwater/bckgrd_sigma', '/gt1r/signal_find_output/inlandwater/delta_time', '/gt1r/signal_find_output/inlandwater/t_pc_delta', '/gt1r/signal_find_output/inlandwater/z_pc_delta', '/gt1r/signal_find_output/land', '/gt1r/signal_find_output/land/bckgrd_mean', '/gt1r/signal_find_output/land/bckgrd_sigma', '/gt1r/signal_find_output/land/delta_time', '/gt1r/signal_find_output/land/t_pc_delta', '/gt1r/signal_find_output/land/z_pc_delta', '/gt1r/signal_find_output/land_ice', '/gt1r/signal_find_output/land_ice/bckgrd_mean', '/gt1r/signal_find_output/land_ice/bckgrd_sigma', '/gt1r/signal_find_output/land_ice/delta_time', '/gt1r/signal_find_output/land_ice/t_pc_delta', '/gt1r/signal_find_output/land_ice/z_pc_delta', '/gt2l', '/gt2l/bckgrd_atlas', '/gt2l/bckgrd_atlas/bckgrd_counts', '/gt2l/bckgrd_atlas/bckgrd_counts_reduced', '/gt2l/bckgrd_atlas/bckgrd_hist_top', '/gt2l/bckgrd_atlas/bckgrd_int_height', '/gt2l/bckgrd_atlas/bckgrd_int_height_reduced', '/gt2l/bckgrd_atlas/bckgrd_rate', '/gt2l/bckgrd_atlas/delta_time', '/gt2l/bckgrd_atlas/pce_mframe_cnt', '/gt2l/bckgrd_atlas/tlm_height_band1', '/gt2l/bckgrd_atlas/tlm_height_band2', '/gt2l/bckgrd_atlas/tlm_top_band1', '/gt2l/bckgrd_atlas/tlm_top_band2', '/gt2l/geolocation', '/gt2l/geolocation/altitude_sc', '/gt2l/geolocation/bounce_time_offset', '/gt2l/geolocation/delta_time', '/gt2l/geolocation/full_sat_fract', '/gt2l/geolocation/near_sat_fract', '/gt2l/geolocation/neutat_delay_derivative', '/gt2l/geolocation/neutat_delay_total', '/gt2l/geolocation/neutat_ht', '/gt2l/geolocation/ph_index_beg', '/gt2l/geolocation/podppd_flag', '/gt2l/geolocation/range_bias_corr', '/gt2l/geolocation/ref_azimuth', '/gt2l/geolocation/ref_elev', '/gt2l/geolocation/reference_photon_index', '/gt2l/geolocation/reference_photon_lat', '/gt2l/geolocation/reference_photon_lon', '/gt2l/geolocation/segment_dist_x', '/gt2l/geolocation/segment_id', '/gt2l/geolocation/segment_length', '/gt2l/geolocation/segment_ph_cnt', '/gt2l/geolocation/sigma_across', '/gt2l/geolocation/sigma_along', '/gt2l/geolocation/sigma_h', '/gt2l/geolocation/sigma_lat', '/gt2l/geolocation/sigma_lon', '/gt2l/geolocation/solar_azimuth', '/gt2l/geolocation/solar_elevation', '/gt2l/geolocation/surf_type', '/gt2l/geolocation/tx_pulse_energy', '/gt2l/geolocation/tx_pulse_skew_est', '/gt2l/geolocation/tx_pulse_width_lower', '/gt2l/geolocation/tx_pulse_width_upper', '/gt2l/geolocation/velocity_sc', '/gt2l/geophys_corr', '/gt2l/geophys_corr/dac', '/gt2l/geophys_corr/delta_time', '/gt2l/geophys_corr/dem_flag', '/gt2l/geophys_corr/dem_h', '/gt2l/geophys_corr/geoid', '/gt2l/geophys_corr/tide_earth', '/gt2l/geophys_corr/tide_equilibrium', '/gt2l/geophys_corr/tide_load', '/gt2l/geophys_corr/tide_ocean', '/gt2l/geophys_corr/tide_oc_pole', '/gt2l/geophys_corr/tide_pole', '/gt2l/heights', '/gt2l/heights/delta_time', '/gt2l/heights/dist_ph_across', '/gt2l/heights/dist_ph_along', '/gt2l/heights/h_ph', '/gt2l/heights/lat_ph', '/gt2l/heights/lon_ph', '/gt2l/heights/pce_mframe_cnt', '/gt2l/heights/ph_id_channel', '/gt2l/heights/ph_id_count', '/gt2l/heights/ph_id_pulse', '/gt2l/heights/signal_conf_ph', '/gt2l/signal_find_output', '/gt2l/signal_find_output/inlandwater', '/gt2l/signal_find_output/inlandwater/bckgrd_mean', '/gt2l/signal_find_output/inlandwater/bckgrd_sigma', '/gt2l/signal_find_output/inlandwater/delta_time', '/gt2l/signal_find_output/inlandwater/t_pc_delta', '/gt2l/signal_find_output/inlandwater/z_pc_delta', '/gt2l/signal_find_output/land', '/gt2l/signal_find_output/land/bckgrd_mean', '/gt2l/signal_find_output/land/bckgrd_sigma', '/gt2l/signal_find_output/land/delta_time', '/gt2l/signal_find_output/land/t_pc_delta', '/gt2l/signal_find_output/land/z_pc_delta', '/gt2l/signal_find_output/land_ice', '/gt2l/signal_find_output/land_ice/bckgrd_mean', '/gt2l/signal_find_output/land_ice/bckgrd_sigma', '/gt2l/signal_find_output/land_ice/delta_time', '/gt2l/signal_find_output/land_ice/t_pc_delta', '/gt2l/signal_find_output/land_ice/z_pc_delta', '/gt2r', '/gt2r/bckgrd_atlas', '/gt2r/bckgrd_atlas/bckgrd_counts', '/gt2r/bckgrd_atlas/bckgrd_counts_reduced', '/gt2r/bckgrd_atlas/bckgrd_hist_top', '/gt2r/bckgrd_atlas/bckgrd_int_height', '/gt2r/bckgrd_atlas/bckgrd_int_height_reduced', '/gt2r/bckgrd_atlas/bckgrd_rate', '/gt2r/bckgrd_atlas/delta_time', '/gt2r/bckgrd_atlas/pce_mframe_cnt', '/gt2r/bckgrd_atlas/tlm_height_band1', '/gt2r/bckgrd_atlas/tlm_height_band2', '/gt2r/bckgrd_atlas/tlm_top_band1', '/gt2r/bckgrd_atlas/tlm_top_band2', '/gt2r/geolocation', '/gt2r/geolocation/altitude_sc', '/gt2r/geolocation/bounce_time_offset', '/gt2r/geolocation/delta_time', '/gt2r/geolocation/full_sat_fract', '/gt2r/geolocation/near_sat_fract', '/gt2r/geolocation/neutat_delay_derivative', '/gt2r/geolocation/neutat_delay_total', '/gt2r/geolocation/neutat_ht', '/gt2r/geolocation/ph_index_beg', '/gt2r/geolocation/podppd_flag', '/gt2r/geolocation/range_bias_corr', '/gt2r/geolocation/ref_azimuth', '/gt2r/geolocation/ref_elev', '/gt2r/geolocation/reference_photon_index', '/gt2r/geolocation/reference_photon_lat', '/gt2r/geolocation/reference_photon_lon', '/gt2r/geolocation/segment_dist_x', '/gt2r/geolocation/segment_id', '/gt2r/geolocation/segment_length', '/gt2r/geolocation/segment_ph_cnt', '/gt2r/geolocation/sigma_across', '/gt2r/geolocation/sigma_along', '/gt2r/geolocation/sigma_h', '/gt2r/geolocation/sigma_lat', '/gt2r/geolocation/sigma_lon', '/gt2r/geolocation/solar_azimuth', '/gt2r/geolocation/solar_elevation', '/gt2r/geolocation/surf_type', '/gt2r/geolocation/tx_pulse_energy', '/gt2r/geolocation/tx_pulse_skew_est', '/gt2r/geolocation/tx_pulse_width_lower', '/gt2r/geolocation/tx_pulse_width_upper', '/gt2r/geolocation/velocity_sc', '/gt2r/geophys_corr', '/gt2r/geophys_corr/dac', '/gt2r/geophys_corr/delta_time', '/gt2r/geophys_corr/dem_flag', '/gt2r/geophys_corr/dem_h', '/gt2r/geophys_corr/geoid', '/gt2r/geophys_corr/tide_earth', '/gt2r/geophys_corr/tide_equilibrium', '/gt2r/geophys_corr/tide_load', '/gt2r/geophys_corr/tide_ocean', '/gt2r/geophys_corr/tide_oc_pole', '/gt2r/geophys_corr/tide_pole', '/gt2r/heights', '/gt2r/heights/delta_time', '/gt2r/heights/dist_ph_across', '/gt2r/heights/dist_ph_along', '/gt2r/heights/h_ph', '/gt2r/heights/lat_ph', '/gt2r/heights/lon_ph', '/gt2r/heights/pce_mframe_cnt', '/gt2r/heights/ph_id_channel', '/gt2r/heights/ph_id_count', '/gt2r/heights/ph_id_pulse', '/gt2r/heights/signal_conf_ph', '/gt2r/signal_find_output', '/gt2r/signal_find_output/inlandwater', '/gt2r/signal_find_output/inlandwater/bckgrd_mean', '/gt2r/signal_find_output/inlandwater/bckgrd_sigma', '/gt2r/signal_find_output/inlandwater/delta_time', '/gt2r/signal_find_output/inlandwater/t_pc_delta', '/gt2r/signal_find_output/inlandwater/z_pc_delta', '/gt2r/signal_find_output/land', '/gt2r/signal_find_output/land/bckgrd_mean', '/gt2r/signal_find_output/land/bckgrd_sigma', '/gt2r/signal_find_output/land/delta_time', '/gt2r/signal_find_output/land/t_pc_delta', '/gt2r/signal_find_output/land/z_pc_delta', '/gt2r/signal_find_output/land_ice', '/gt2r/signal_find_output/land_ice/bckgrd_mean', '/gt2r/signal_find_output/land_ice/bckgrd_sigma', '/gt2r/signal_find_output/land_ice/delta_time', '/gt2r/signal_find_output/land_ice/t_pc_delta', '/gt2r/signal_find_output/land_ice/z_pc_delta', '/gt3l', '/gt3l/bckgrd_atlas', '/gt3l/bckgrd_atlas/bckgrd_counts', '/gt3l/bckgrd_atlas/bckgrd_counts_reduced', '/gt3l/bckgrd_atlas/bckgrd_hist_top', '/gt3l/bckgrd_atlas/bckgrd_int_height', '/gt3l/bckgrd_atlas/bckgrd_int_height_reduced', '/gt3l/bckgrd_atlas/bckgrd_rate', '/gt3l/bckgrd_atlas/delta_time', '/gt3l/bckgrd_atlas/pce_mframe_cnt', '/gt3l/bckgrd_atlas/tlm_height_band1', '/gt3l/bckgrd_atlas/tlm_height_band2', '/gt3l/bckgrd_atlas/tlm_top_band1', '/gt3l/bckgrd_atlas/tlm_top_band2', '/gt3l/geolocation', '/gt3l/geolocation/altitude_sc', '/gt3l/geolocation/bounce_time_offset', '/gt3l/geolocation/delta_time', '/gt3l/geolocation/full_sat_fract', '/gt3l/geolocation/near_sat_fract', '/gt3l/geolocation/neutat_delay_derivative', '/gt3l/geolocation/neutat_delay_total', '/gt3l/geolocation/neutat_ht', '/gt3l/geolocation/ph_index_beg', '/gt3l/geolocation/podppd_flag', '/gt3l/geolocation/range_bias_corr', '/gt3l/geolocation/ref_azimuth', '/gt3l/geolocation/ref_elev', '/gt3l/geolocation/reference_photon_index', '/gt3l/geolocation/reference_photon_lat', '/gt3l/geolocation/reference_photon_lon', '/gt3l/geolocation/segment_dist_x', '/gt3l/geolocation/segment_id', '/gt3l/geolocation/segment_length', '/gt3l/geolocation/segment_ph_cnt', '/gt3l/geolocation/sigma_across', '/gt3l/geolocation/sigma_along', '/gt3l/geolocation/sigma_h', '/gt3l/geolocation/sigma_lat', '/gt3l/geolocation/sigma_lon', '/gt3l/geolocation/solar_azimuth', '/gt3l/geolocation/solar_elevation', '/gt3l/geolocation/surf_type', '/gt3l/geolocation/tx_pulse_energy', '/gt3l/geolocation/tx_pulse_skew_est', '/gt3l/geolocation/tx_pulse_width_lower', '/gt3l/geolocation/tx_pulse_width_upper', '/gt3l/geolocation/velocity_sc', '/gt3l/geophys_corr', '/gt3l/geophys_corr/dac', '/gt3l/geophys_corr/delta_time', '/gt3l/geophys_corr/dem_flag', '/gt3l/geophys_corr/dem_h', '/gt3l/geophys_corr/geoid', '/gt3l/geophys_corr/tide_earth', '/gt3l/geophys_corr/tide_equilibrium', '/gt3l/geophys_corr/tide_load', '/gt3l/geophys_corr/tide_ocean', '/gt3l/geophys_corr/tide_oc_pole', '/gt3l/geophys_corr/tide_pole', '/gt3l/heights', '/gt3l/heights/delta_time', '/gt3l/heights/dist_ph_across', '/gt3l/heights/dist_ph_along', '/gt3l/heights/h_ph', '/gt3l/heights/lat_ph', '/gt3l/heights/lon_ph', '/gt3l/heights/pce_mframe_cnt', '/gt3l/heights/ph_id_channel', '/gt3l/heights/ph_id_count', '/gt3l/heights/ph_id_pulse', '/gt3l/heights/signal_conf_ph', '/gt3l/signal_find_output', '/gt3l/signal_find_output/inlandwater', '/gt3l/signal_find_output/inlandwater/bckgrd_mean', '/gt3l/signal_find_output/inlandwater/bckgrd_sigma', '/gt3l/signal_find_output/inlandwater/delta_time', '/gt3l/signal_find_output/inlandwater/t_pc_delta', '/gt3l/signal_find_output/inlandwater/z_pc_delta', '/gt3l/signal_find_output/land', '/gt3l/signal_find_output/land/bckgrd_mean', '/gt3l/signal_find_output/land/bckgrd_sigma', '/gt3l/signal_find_output/land/delta_time', '/gt3l/signal_find_output/land/t_pc_delta', '/gt3l/signal_find_output/land/z_pc_delta', '/gt3l/signal_find_output/land_ice', '/gt3l/signal_find_output/land_ice/bckgrd_mean', '/gt3l/signal_find_output/land_ice/bckgrd_sigma', '/gt3l/signal_find_output/land_ice/delta_time', '/gt3l/signal_find_output/land_ice/t_pc_delta', '/gt3l/signal_find_output/land_ice/z_pc_delta', '/gt3r', '/gt3r/bckgrd_atlas', '/gt3r/bckgrd_atlas/bckgrd_counts', '/gt3r/bckgrd_atlas/bckgrd_counts_reduced', '/gt3r/bckgrd_atlas/bckgrd_hist_top', '/gt3r/bckgrd_atlas/bckgrd_int_height', '/gt3r/bckgrd_atlas/bckgrd_int_height_reduced', '/gt3r/bckgrd_atlas/bckgrd_rate', '/gt3r/bckgrd_atlas/delta_time', '/gt3r/bckgrd_atlas/pce_mframe_cnt', '/gt3r/bckgrd_atlas/tlm_height_band1', '/gt3r/bckgrd_atlas/tlm_height_band2', '/gt3r/bckgrd_atlas/tlm_top_band1', '/gt3r/bckgrd_atlas/tlm_top_band2', '/gt3r/geolocation', '/gt3r/geolocation/altitude_sc', '/gt3r/geolocation/bounce_time_offset', '/gt3r/geolocation/delta_time', '/gt3r/geolocation/full_sat_fract', '/gt3r/geolocation/near_sat_fract', '/gt3r/geolocation/neutat_delay_derivative', '/gt3r/geolocation/neutat_delay_total', '/gt3r/geolocation/neutat_ht', '/gt3r/geolocation/ph_index_beg', '/gt3r/geolocation/podppd_flag', '/gt3r/geolocation/range_bias_corr', '/gt3r/geolocation/ref_azimuth', '/gt3r/geolocation/ref_elev', '/gt3r/geolocation/reference_photon_index', '/gt3r/geolocation/reference_photon_lat', '/gt3r/geolocation/reference_photon_lon', '/gt3r/geolocation/segment_dist_x', '/gt3r/geolocation/segment_id', '/gt3r/geolocation/segment_length', '/gt3r/geolocation/segment_ph_cnt', '/gt3r/geolocation/sigma_across', '/gt3r/geolocation/sigma_along', '/gt3r/geolocation/sigma_h', '/gt3r/geolocation/sigma_lat', '/gt3r/geolocation/sigma_lon', '/gt3r/geolocation/solar_azimuth', '/gt3r/geolocation/solar_elevation', '/gt3r/geolocation/surf_type', '/gt3r/geolocation/tx_pulse_energy', '/gt3r/geolocation/tx_pulse_skew_est', '/gt3r/geolocation/tx_pulse_width_lower', '/gt3r/geolocation/tx_pulse_width_upper', '/gt3r/geolocation/velocity_sc', '/gt3r/geophys_corr', '/gt3r/geophys_corr/dac', '/gt3r/geophys_corr/delta_time', '/gt3r/geophys_corr/dem_flag', '/gt3r/geophys_corr/dem_h', '/gt3r/geophys_corr/geoid', '/gt3r/geophys_corr/tide_earth', '/gt3r/geophys_corr/tide_equilibrium', '/gt3r/geophys_corr/tide_load', '/gt3r/geophys_corr/tide_ocean', '/gt3r/geophys_corr/tide_oc_pole', '/gt3r/geophys_corr/tide_pole', '/gt3r/heights', '/gt3r/heights/delta_time', '/gt3r/heights/dist_ph_across', '/gt3r/heights/dist_ph_along', '/gt3r/heights/h_ph', '/gt3r/heights/lat_ph', '/gt3r/heights/lon_ph', '/gt3r/heights/pce_mframe_cnt', '/gt3r/heights/ph_id_channel', '/gt3r/heights/ph_id_count', '/gt3r/heights/ph_id_pulse', '/gt3r/heights/signal_conf_ph', '/gt3r/signal_find_output', '/gt3r/signal_find_output/inlandwater', '/gt3r/signal_find_output/inlandwater/bckgrd_mean', '/gt3r/signal_find_output/inlandwater/bckgrd_sigma', '/gt3r/signal_find_output/inlandwater/delta_time', '/gt3r/signal_find_output/inlandwater/t_pc_delta', '/gt3r/signal_find_output/inlandwater/z_pc_delta', '/gt3r/signal_find_output/land', '/gt3r/signal_find_output/land/bckgrd_mean', '/gt3r/signal_find_output/land/bckgrd_sigma', '/gt3r/signal_find_output/land/delta_time', '/gt3r/signal_find_output/land/t_pc_delta', '/gt3r/signal_find_output/land/z_pc_delta', '/gt3r/signal_find_output/land_ice', '/gt3r/signal_find_output/land_ice/bckgrd_mean', '/gt3r/signal_find_output/land_ice/bckgrd_sigma', '/gt3r/signal_find_output/land_ice/delta_time', '/gt3r/signal_find_output/land_ice/t_pc_delta', '/gt3r/signal_find_output/land_ice/z_pc_delta', '/orbit_info', '/orbit_info/crossing_time', '/orbit_info/cycle_number', '/orbit_info/lan', '/orbit_info/orbit_number', '/orbit_info/rgt', '/orbit_info/sc_orient', '/orbit_info/sc_orient_time', '/quality_assessment', '/quality_assessment/delta_time', '/quality_assessment/qa_granule_fail_reason', '/quality_assessment/qa_granule_pass_fail', '/quality_assessment/gt1l', '/quality_assessment/gt1l/qa_perc_signal_conf_ph_high', '/quality_assessment/gt1l/qa_perc_signal_conf_ph_low', '/quality_assessment/gt1l/qa_perc_signal_conf_ph_med', '/quality_assessment/gt1l/qa_perc_surf_type', '/quality_assessment/gt1l/qa_total_signal_conf_ph_high', '/quality_assessment/gt1l/qa_total_signal_conf_ph_low', '/quality_assessment/gt1l/qa_total_signal_conf_ph_med', '/quality_assessment/gt1r', '/quality_assessment/gt1r/qa_perc_signal_conf_ph_high', '/quality_assessment/gt1r/qa_perc_signal_conf_ph_low', '/quality_assessment/gt1r/qa_perc_signal_conf_ph_med', '/quality_assessment/gt1r/qa_perc_surf_type', '/quality_assessment/gt1r/qa_total_signal_conf_ph_high', '/quality_assessment/gt1r/qa_total_signal_conf_ph_low', '/quality_assessment/gt1r/qa_total_signal_conf_ph_med', '/quality_assessment/gt2l', '/quality_assessment/gt2l/qa_perc_signal_conf_ph_high', '/quality_assessment/gt2l/qa_perc_signal_conf_ph_low', '/quality_assessment/gt2l/qa_perc_signal_conf_ph_med', '/quality_assessment/gt2l/qa_perc_surf_type', '/quality_assessment/gt2l/qa_total_signal_conf_ph_high', '/quality_assessment/gt2l/qa_total_signal_conf_ph_low', '/quality_assessment/gt2l/qa_total_signal_conf_ph_med', '/quality_assessment/gt2r', '/quality_assessment/gt2r/qa_perc_signal_conf_ph_high', '/quality_assessment/gt2r/qa_perc_signal_conf_ph_low', '/quality_assessment/gt2r/qa_perc_signal_conf_ph_med', '/quality_assessment/gt2r/qa_perc_surf_type', '/quality_assessment/gt2r/qa_total_signal_conf_ph_high', '/quality_assessment/gt2r/qa_total_signal_conf_ph_low', '/quality_assessment/gt2r/qa_total_signal_conf_ph_med', '/quality_assessment/gt3l', '/quality_assessment/gt3l/qa_perc_signal_conf_ph_high', '/quality_assessment/gt3l/qa_perc_signal_conf_ph_low', '/quality_assessment/gt3l/qa_perc_signal_conf_ph_med', '/quality_assessment/gt3l/qa_perc_surf_type', '/quality_assessment/gt3l/qa_total_signal_conf_ph_high', '/quality_assessment/gt3l/qa_total_signal_conf_ph_low', '/quality_assessment/gt3l/qa_total_signal_conf_ph_med', '/quality_assessment/gt3r', '/quality_assessment/gt3r/qa_perc_signal_conf_ph_high', '/quality_assessment/gt3r/qa_perc_signal_conf_ph_low', '/quality_assessment/gt3r/qa_perc_signal_conf_ph_med', '/quality_assessment/gt3r/qa_perc_surf_type', '/quality_assessment/gt3r/qa_total_signal_conf_ph_high', '/quality_assessment/gt3r/qa_total_signal_conf_ph_low', '/quality_assessment/gt3r/qa_total_signal_conf_ph_med']\n",
      "0.005494117736816406 seconds wall time\n"
     ]
    }
   ],
   "source": [
    "t0 = time.time()\n",
    "\n",
    "root = ET.fromstring(response.content)\n",
    "\n",
    "#collect lists with each service option\n",
    "\n",
    "subagent = [subset_agent.attrib for subset_agent in root.iter('SubsetAgent')]\n",
    "if len(subagent) > 0 :\n",
    "\n",
    "    # variable subsetting\n",
    "    variables = [SubsetVariable.attrib for SubsetVariable in root.iter('SubsetVariable')]  \n",
    "    variables_raw = [variables[i]['value'] for i in range(len(variables))]\n",
    "    variables_join = [''.join(('/',v)) if v.startswith('/') == False else v for v in variables_raw] \n",
    "    variable_vals = [v.replace(':', '/') for v in variables_join]\n",
    "\n",
    "    # reformatting\n",
    "    formats = [Format.attrib for Format in root.iter('Format')]\n",
    "    format_vals = [formats[i]['value'] for i in range(len(formats))]\n",
    "    format_vals.remove('')\n",
    "\n",
    "    # reprojection options\n",
    "    projections = [Projection.attrib for Projection in root.iter('Projection')]\n",
    "    \n",
    "print(variable_vals)\n",
    "\n",
    "wall_time = time.time() - t0\n",
    "onprem_times.append(wall_time)\n",
    "print (wall_time, \"seconds wall time\")"
   ]
  },
  {
   "cell_type": "markdown",
   "id": "liked-chick",
   "metadata": {},
   "source": [
    "### 9. Request variable subset\n",
    "\n",
    "_Starting with a variable subsetting request, since spatial subsetting for ICESat-2 is not available yet in the cloud. Alternatively we could attempt to spatially subset without services (i.e. subsetting using xarray)_"
   ]
  },
  {
   "cell_type": "markdown",
   "id": "otherwise-clothing",
   "metadata": {},
   "source": [
    "#### Steps Involved:\n",
    "\n",
    "48. Select all desired variables and provide them in code\n",
    "1. (External) Determine URL format for an EGI subset request\n",
    "1. Format desired variables for a URL query string\n",
    "1. Construct URL using URL, temporal, variable, and spatial parameters from prior requests\n",
    "1. Specify additional bbox subset parameter to equal bounding box spatial filter from prior request  \n",
    "\n",
    "##### Notes\n",
    "* Assumes prior requests define formatted temporal and bounding box"
   ]
  },
  {
   "cell_type": "markdown",
   "id": "composed-camera",
   "metadata": {},
   "source": [
    "#### Request variable subset: Determine API request \n",
    "\n",
    "_This isn't really required so not including it as a step_"
   ]
  },
  {
   "cell_type": "code",
   "execution_count": 10,
   "id": "mature-kernel",
   "metadata": {},
   "outputs": [
    {
     "name": "stdout",
     "output_type": "stream",
     "text": [
      "https://n5eil12u.ecs.nsidc.org/egi_TS1/request?short_name=ATL03&version=003&temporal=2020-01-01T00:00:00Z,2020-02-10T23:59:59Z&bounding_box=-13.1,-72.7,114.5,-65.5&bbox=-13.1,-72.7,114.5,-65.5&coverage=/gt1r/heights/h_ph,/gt1l/heights/h_ph,/gt2r/heights/h_ph,/gt2l/heights/h_ph,/gt1r/heights/lat_ph,/gt1l/heights/lat_ph,/gt2r/heights/lat_ph,/gt2l/heights/lat_ph,/gt1r/heights/lon_ph,/gt1l/heights/lon_ph,/gt2r/heights/lon_ph,/gt2l/heights/lon_ph&page_size=10&request_mode=async&token=0D71835F-545A-8331-CCF0-CBB41190356C\n"
     ]
    }
   ],
   "source": [
    "#Set NSIDC data access base URL\n",
    "base_url = 'https://n5eil12u.ecs.nsidc.org/egi_TS1/request'\n",
    "\n",
    "# bounding box search and subset:\n",
    "param_dict = {'short_name': 'ATL03', \n",
    "              'version': '003', \n",
    "              'temporal': temporal, \n",
    "              'bounding_box': bounding_box, \n",
    "              'bbox': bounding_box, \n",
    "              'coverage': '/gt1r/heights/h_ph,/gt1l/heights/h_ph,/gt2r/heights/h_ph,/gt2l/heights/h_ph,/gt1r/heights/lat_ph,/gt1l/heights/lat_ph,/gt2r/heights/lat_ph,/gt2l/heights/lat_ph,/gt1r/heights/lon_ph,/gt1l/heights/lon_ph,/gt2r/heights/lon_ph,/gt2l/heights/lon_ph',\n",
    "              'page_size': '10', \n",
    "              'request_mode': 'async',\n",
    "              'email': '',\n",
    "              'token' : _token,\n",
    "             }\n",
    "\n",
    "#Remove blank key-value-pairs\n",
    "param_dict = {k: v for k, v in param_dict.items() if v != ''}\n",
    "\n",
    "#Convert to string\n",
    "param_string = '&'.join(\"{!s}={!r}\".format(k,v) for (k,v) in param_dict.items())\n",
    "param_string = param_string.replace(\"'\",\"\")\n",
    "\n",
    "API_request = api_request = f'{base_url}?{param_string}'\n",
    "print(API_request)"
   ]
  },
  {
   "cell_type": "markdown",
   "id": "radical-affairs",
   "metadata": {},
   "source": [
    "#### 10. Request variable subset: Download customized data"
   ]
  },
  {
   "cell_type": "markdown",
   "id": "celtic-trader",
   "metadata": {},
   "source": [
    "#### Steps Involved:\n",
    "\n",
    "53. Create / allocate a location for downloaded files\n",
    "1. Perform subsetting HTTP request\n",
    "1. Parse subsetting response\n",
    "1. Extract order IDs from subsetting response\n",
    "1. (External) Determine how to construct a URL to get an order from the EGI API\n",
    "1. Construct an EGI order URL for the order ID\n",
    "1. Create a loop to repeatedly poll order status\n",
    "1. Perform the EGI request for the order\n",
    "1. Parse the order response\n",
    "1. Extract the order status from the response\n",
    "1. Test if the order is still processing, looping if so (end of loop)\n",
    "1. (External) Determine how to construct an EGI URL to fetch the results of an order\n",
    "1. Construct an EGI URL to fetch order results from the order ID\n",
    "1. Download the zip file of the order results\n",
    "1. Unzip the order results zip file\n",
    "\n",
    "##### Notes\n",
    "* Ignoring failed orders, not necessary for happy path\n",
    "* HTTP response code validation not included as not strictly necessary on the happy path"
   ]
  },
  {
   "cell_type": "code",
   "execution_count": 11,
   "id": "renewable-inquiry",
   "metadata": {},
   "outputs": [
    {
     "name": "stdout",
     "output_type": "stream",
     "text": [
      "Request HTTP response:  201\n",
      "Order request URL:  https://n5eil12u.ecs.nsidc.org/egi_TS1/request?short_name=ATL03&version=003&temporal=2020-01-01T00%3A00%3A00Z%2C2020-02-10T23%3A59%3A59Z&bounding_box=-13.1%2C-72.7%2C114.5%2C-65.5&bbox=-13.1%2C-72.7%2C114.5%2C-65.5&coverage=%2Fgt1r%2Fheights%2Fh_ph%2C%2Fgt1l%2Fheights%2Fh_ph%2C%2Fgt2r%2Fheights%2Fh_ph%2C%2Fgt2l%2Fheights%2Fh_ph%2C%2Fgt1r%2Fheights%2Flat_ph%2C%2Fgt1l%2Fheights%2Flat_ph%2C%2Fgt2r%2Fheights%2Flat_ph%2C%2Fgt2l%2Fheights%2Flat_ph%2C%2Fgt1r%2Fheights%2Flon_ph%2C%2Fgt1l%2Fheights%2Flon_ph%2C%2Fgt2r%2Fheights%2Flon_ph%2C%2Fgt2l%2Fheights%2Flon_ph&page_size=10&request_mode=async&token=0D71835F-545A-8331-CCF0-CBB41190356C\n",
      "Order request response XML content:  b'<?xml version=\"1.0\" encoding=\"UTF-8\" standalone=\"yes\"?>\\n<eesi:agentResponse xmlns=\"\" xmlns:iesi=\"http://eosdis.nasa.gov/esi/rsp/i\" xmlns:ssw=\"http://newsroom.gsfc.nasa.gov/esi/rsp/ssw\" xmlns:eesi=\"http://eosdis.nasa.gov/esi/rsp/e\" xmlns:esi=\"http://eosdis.nasa.gov/esi/rsp\" xmlns:xsi=\"http://www.w3.org/2001/XMLSchema-instance\">\\n    <order>\\n        <orderId>22650</orderId>\\n        <Instructions>You may receive an email about your order if you specified an EMAIL address. &lt;br/&gt;&lt;br/&gt;The instructions used to process this order are:  Band(s)=/gt1r/heights/h_ph,/gt1l/heights/h_ph,/gt2r/heights/h_ph,/gt2l/heights/h_ph,/gt1r/heights/lat_ph,/gt1l/heights/lat_ph,/gt2r/heights/lat_ph,/gt2l/heights/lat_ph,/gt1r/heights/lon_ph,/gt1l/heights/lon_ph,/gt2r/heights/lon_ph,/gt2l/heights/lon_ph. Bounding Box(es)=-13.1,-72.7,114.5,-65.5. Granule id(s)=SC:ATL03.003:9729077,SC:ATL03.003:9729073. Processing tool=ICESAT2.</Instructions>\\n    </order>\\n    <contactInformation>\\n        <contactName>NSIDC User Services</contactName>\\n        <contactEmail>nsidc@nsidc.org</contactEmail>\\n    </contactInformation>\\n    <processInfo>\\n        <processDuration>P0Y0M0DT0H0M0.048S</processDuration>\\n        <subagentId>ICESAT2</subagentId>\\n    </processInfo>\\n    <requestStatus>\\n        <status>pending</status>\\n        <numberProcessed>0</numberProcessed>\\n        <totalNumber>2</totalNumber>\\n    </requestStatus>\\n</eesi:agentResponse>\\n'\n",
      "order ID:  22650\n",
      "status URL:  https://n5eil12u.ecs.nsidc.org/egi_TS1/request/22650\n",
      "HTTP response from order response URL:  201\n",
      "Data request is submitting...\n",
      "Initial request status is  processing\n",
      "Status is not complete. Trying again.\n",
      "Retry request status is:  processing\n",
      "Status is not complete. Trying again.\n",
      "Retry request status is:  processing\n",
      "Status is not complete. Trying again.\n",
      "Retry request status is:  complete\n",
      "Zip download URL:  https://n5eil12u.ecs.nsidc.org/esir_TS1/22650.zip\n",
      "Beginning download of zipped output...\n",
      "Data request is complete.\n",
      "43.23752570152283 seconds wall time\n"
     ]
    }
   ],
   "source": [
    "t0 = time.time()\n",
    "\n",
    "# Create an output folder if the folder does not already exist.\n",
    "\n",
    "path = str(os.getcwd() + '/Outputs')\n",
    "if not os.path.exists(path):\n",
    "    os.mkdir(path)\n",
    "\n",
    "# For all requests other than spatial file upload, use get function\n",
    "request = session.get(base_url, params=param_dict)\n",
    "\n",
    "print('Request HTTP response: ', request.status_code)\n",
    "\n",
    "# Raise bad request: Loop will stop for bad response code.\n",
    "request.raise_for_status()\n",
    "print('Order request URL: ', request.url)\n",
    "esir_root = ET.fromstring(request.content)\n",
    "print('Order request response XML content: ', request.content)\n",
    "\n",
    "#Look up order ID\n",
    "orderlist = []   \n",
    "for order in esir_root.findall(\"./order/\"):\n",
    "    orderlist.append(order.text)\n",
    "orderID = orderlist[0]\n",
    "print('order ID: ', orderID)\n",
    "\n",
    "#Create status URL\n",
    "statusURL = base_url + '/' + orderID\n",
    "print('status URL: ', statusURL)\n",
    "\n",
    "#Find order status\n",
    "request_response = session.get(statusURL)    \n",
    "print('HTTP response from order response URL: ', request_response.status_code)\n",
    "\n",
    "# Raise bad request: Loop will stop for bad response code.\n",
    "request_response.raise_for_status()\n",
    "request_root = ET.fromstring(request_response.content)\n",
    "statuslist = []\n",
    "for status in request_root.findall(\"./requestStatus/\"):\n",
    "    statuslist.append(status.text)\n",
    "status = statuslist[0]\n",
    "print('Data request is submitting...')\n",
    "print('Initial request status is ', status)\n",
    "\n",
    "#Continue loop while request is still processing\n",
    "while status == 'pending' or status == 'processing': \n",
    "    print('Status is not complete. Trying again.')\n",
    "    time.sleep(10)\n",
    "    loop_response = session.get(statusURL)\n",
    "\n",
    "# Raise bad request: Loop will stop for bad response code.\n",
    "    loop_response.raise_for_status()\n",
    "    loop_root = ET.fromstring(loop_response.content)\n",
    "\n",
    "#find status\n",
    "    statuslist = []\n",
    "    for status in loop_root.findall(\"./requestStatus/\"):\n",
    "        statuslist.append(status.text)\n",
    "    status = statuslist[0]\n",
    "    print('Retry request status is: ', status)\n",
    "    if status == 'pending' or status == 'processing':\n",
    "        continue\n",
    "\n",
    "#Order can either complete, complete_with_errors, or fail:\n",
    "# Provide complete_with_errors error message:\n",
    "if status == 'complete_with_errors' or status == 'failed':\n",
    "    messagelist = []\n",
    "    for message in loop_root.findall(\"./processInfo/\"):\n",
    "        messagelist.append(message.text)\n",
    "    print('error messages:')\n",
    "    pprint.pprint(messagelist)\n",
    "\n",
    "# Download zipped order if status is complete or complete_with_errors\n",
    "if status == 'complete' or status == 'complete_with_errors':\n",
    "    downloadURL = 'https://n5eil12u.ecs.nsidc.org/esir_TS1/' + orderID + '.zip'\n",
    "    print('Zip download URL: ', downloadURL)\n",
    "    print('Beginning download of zipped output...')\n",
    "    zip_response = session.get(downloadURL)\n",
    "    # Raise bad request: Loop will stop for bad response code.\n",
    "    zip_response.raise_for_status()\n",
    "    with zipfile.ZipFile(io.BytesIO(zip_response.content)) as z:\n",
    "        z.extractall(path)\n",
    "    print('Data request is complete.')\n",
    "else: print('Request failed.')\n",
    "    \n",
    "wall_time = time.time() - t0\n",
    "onprem_times.append(wall_time)\n",
    "print (wall_time, \"seconds wall time\")"
   ]
  },
  {
   "cell_type": "markdown",
   "id": "breathing-blink",
   "metadata": {},
   "source": [
    "#### 11. Clean up Outputs folder by removing individual granule folders "
   ]
  },
  {
   "cell_type": "code",
   "execution_count": 12,
   "id": "south-desktop",
   "metadata": {},
   "outputs": [
    {
     "name": "stdout",
     "output_type": "stream",
     "text": [
      "0.04508233070373535 seconds wall time\n"
     ]
    }
   ],
   "source": [
    "t0 = time.time()\n",
    "\n",
    "for root, dirs, files in os.walk(path, topdown=False):\n",
    "    for file in files:\n",
    "        try:\n",
    "            shutil.move(os.path.join(root, file), path)\n",
    "        except OSError:\n",
    "            pass\n",
    "    for name in dirs:\n",
    "        os.rmdir(os.path.join(root, name))\n",
    "\n",
    "wall_time = time.time() - t0\n",
    "onprem_times.append(wall_time)\n",
    "print (wall_time, \"seconds wall time\")"
   ]
  },
  {
   "cell_type": "markdown",
   "id": "average-rubber",
   "metadata": {},
   "source": [
    "### 12. Read in Data using h5py"
   ]
  },
  {
   "cell_type": "markdown",
   "id": "exterior-audio",
   "metadata": {},
   "source": [
    "#### Steps Involved:\n",
    "\n",
    "68. Loop over each resulting data file (Not done in this code, but would be needed in a general case)\n",
    "1. Open the result using h5py\n",
    "1. Loop over each variable of interest\n",
    "1. Correct for flag values not handled by h5py in each variable"
   ]
  },
  {
   "cell_type": "code",
   "execution_count": 13,
   "id": "several-attempt",
   "metadata": {},
   "outputs": [
    {
     "name": "stdout",
     "output_type": "stream",
     "text": [
      "0.00030231475830078125 seconds wall time\n"
     ]
    }
   ],
   "source": [
    "t0 = time.time()\n",
    "\n",
    "def load_icesat2_as_dataframe(filepath, VARIABLES):\n",
    "    '''\n",
    "    Load points from an ICESat-2 granule 'gt<beam>' groups as DataFrame of points. Uses VARIABLES mapping\n",
    "    to select subset of '/gt<beam>/...' variables  (Assumes these variables share dimensions)\n",
    "    Arguments:\n",
    "        filepath to ATL0# granule\n",
    "    '''\n",
    "    \n",
    "    ds = h5py.File(filepath, 'r')\n",
    "\n",
    "    # Get dataproduct name\n",
    "    dataproduct = ds.attrs['identifier_product_type'].decode()\n",
    "    # Convert variable paths to 'Path' objects for easy manipulation\n",
    "    variables = [Path(v) for v in VARIABLES[dataproduct]]\n",
    "    # Get set of beams to extract individially as dataframes combining in the end\n",
    "    beams = {list(v.parents)[-2].name for v in variables}\n",
    "    \n",
    "    dfs = []\n",
    "    for beam in beams:\n",
    "        data_dict = {}\n",
    "        beam_variables = [v for v in variables if beam in str(v)]\n",
    "        for variable in beam_variables:\n",
    "            # Use variable 'name' as column name. Beam will be specified in 'beam' column\n",
    "            column = variable.name\n",
    "            variable = str(variable)\n",
    "            try:\n",
    "                values = ds[variable][:]\n",
    "                # Convert invalid data to np.nan (only for float columns)\n",
    "                if 'float' in str(values.dtype):\n",
    "                    if 'valid_min' in ds[variable].attrs:\n",
    "                        values[values < ds[variable].attrs['valid_min']] = np.nan\n",
    "                    if 'valid_max' in ds[variable].attrs:\n",
    "                        values[values > ds[variable].attrs['valid_max']] = np.nan\n",
    "                    if '_FillValue' in ds[variable].attrs:\n",
    "                        values[values == ds[variable].attrs['_FillValue']] = np.nan\n",
    "                    \n",
    "                data_dict[column] = values\n",
    "            except KeyError:\n",
    "                print(f'Variable {variable} not found in {filepath}. Likely an empty granule.')\n",
    "                raise\n",
    "                \n",
    "        df = pd.DataFrame.from_dict(data_dict)\n",
    "        df['beam'] = beam\n",
    "        dfs.append(df)\n",
    "        \n",
    "    df = pd.concat(dfs, sort=True)\n",
    "    # Add filename column for book-keeping and reset index\n",
    "    df['filename'] = Path(filepath).name\n",
    "    df = df.reset_index(drop=True)\n",
    "    \n",
    "    return df\n",
    "\n",
    "wall_time = time.time() - t0\n",
    "onprem_times.append(wall_time)\n",
    "print (wall_time, \"seconds wall time\")"
   ]
  },
  {
   "cell_type": "code",
   "execution_count": 14,
   "id": "rural-disability",
   "metadata": {},
   "outputs": [
    {
     "name": "stdout",
     "output_type": "stream",
     "text": [
      "          beam         h_ph     lat_ph     lon_ph  \\\n",
      "10375702  gt1l  2601.556641 -72.700066  79.142206   \n",
      "10375703  gt1l  2571.268066 -72.700067  79.142213   \n",
      "10375704  gt1l  2601.609131 -72.700072  79.142203   \n",
      "10375705  gt1l  2644.662109 -72.700077  79.142190   \n",
      "10375706  gt1l  2594.167236 -72.700079  79.142202   \n",
      "\n",
      "                                                   filename  \n",
      "10375702  processed_ATL03_20200131230704_05530610_003_01.h5  \n",
      "10375703  processed_ATL03_20200131230704_05530610_003_01.h5  \n",
      "10375704  processed_ATL03_20200131230704_05530610_003_01.h5  \n",
      "10375705  processed_ATL03_20200131230704_05530610_003_01.h5  \n",
      "10375706  processed_ATL03_20200131230704_05530610_003_01.h5  \n",
      "2.7290821075439453 seconds wall time\n"
     ]
    }
   ],
   "source": [
    "t0 = time.time()\n",
    "\n",
    "atl_filepath = './Outputs/processed_ATL03_20200131230704_05530610_003_01.h5' # Define local filepath \n",
    "\n",
    "VARIABLES = {\n",
    "    'ATL03': [\n",
    "        '/gt1l/heights/h_ph',\n",
    "        '/gt1r/heights/h_ph',\n",
    "        '/gt2l/heights/h_ph',\n",
    "        '/gt2r/heights/h_ph',\n",
    "        '/gt1l/heights/lat_ph',\n",
    "        '/gt1r/heights/lat_ph',\n",
    "        '/gt2l/heights/lat_ph',\n",
    "        '/gt2r/heights/lat_ph',\n",
    "        '/gt1l/heights/lon_ph',\n",
    "        '/gt1r/heights/lon_ph',\n",
    "        '/gt2l/heights/lon_ph',\n",
    "        '/gt2r/heights/lon_ph',\n",
    "        ]\n",
    "}\n",
    "\n",
    "atl03 = load_icesat2_as_dataframe(atl_filepath, VARIABLES)\n",
    "print(atl03.tail())\n",
    "\n",
    "wall_time = time.time() - t0\n",
    "onprem_times.append(wall_time)\n",
    "print (wall_time, \"seconds wall time\")"
   ]
  },
  {
   "cell_type": "markdown",
   "id": "obvious-coating",
   "metadata": {},
   "source": [
    "### 13. Plot data\n",
    "\n",
    "**Due to the # of data values, the plotting is compute-intensive and may take several minutes**"
   ]
  },
  {
   "cell_type": "markdown",
   "id": "important-leadership",
   "metadata": {},
   "source": [
    "#### Steps Involved:\n",
    "\n",
    "72. Plot each variable (collapsed as incomplete, use-case-specific, and generally just necessary)"
   ]
  },
  {
   "cell_type": "code",
   "execution_count": 15,
   "id": "crude-benefit",
   "metadata": {},
   "outputs": [
    {
     "name": "stdout",
     "output_type": "stream",
     "text": [
      "4.05479621887207 seconds wall time\n"
     ]
    },
    {
     "data": {
      "image/png": "[encoded data removed]",
      "text/plain": [
       "<Figure size 900x720 with 2 Axes>"
      ]
     },
     "metadata": {
      "needs_background": "light"
     },
     "output_type": "display_data"
    }
   ],
   "source": [
    "t0 = time.time()\n",
    "\n",
    "import cartopy.crs as ccrs\n",
    "\n",
    "plt.figure(figsize=(10,8), dpi= 90)\n",
    "ax = plt.axes(projection=ccrs.SouthPolarStereo(central_longitude=0)) \n",
    "ax.coastlines(resolution='50m', color='black', linewidth=1)\n",
    "ax.set_extent([-180, 180, -65, -90], ccrs.PlateCarree())\n",
    "plt.scatter(atl03.lon_ph,\n",
    "            atl03.lat_ph,\n",
    "            c=atl03.h_ph,\n",
    "            cmap='viridis',\n",
    "            vmin=100,vmax=200,\n",
    "            transform=ccrs.PlateCarree())\n",
    "plt.colorbar(label='elevation', shrink=0.5, extend='both')\n",
    "\n",
    "wall_time = time.time() - t0\n",
    "onprem_times.append(wall_time)\n",
    "print (wall_time, \"seconds wall time\")"
   ]
  },
  {
   "cell_type": "markdown",
   "id": "expressed-ambassador",
   "metadata": {},
   "source": [
    "## Total on-prem time"
   ]
  },
  {
   "cell_type": "code",
   "execution_count": 16,
   "id": "forced-heading",
   "metadata": {},
   "outputs": [
    {
     "name": "stdout",
     "output_type": "stream",
     "text": [
      "Total on prem time (sec): 103.29008316993713\n"
     ]
    }
   ],
   "source": [
    "print(\"Total on prem time (sec):\", sum(onprem_times))"
   ]
  },
  {
   "cell_type": "markdown",
   "id": "voluntary-arthur",
   "metadata": {},
   "source": [
    "## __Cloud workflow__\n"
   ]
  },
  {
   "cell_type": "code",
   "execution_count": 17,
   "id": "standard-nickel",
   "metadata": {},
   "outputs": [],
   "source": [
    "# gather times to add up end to end\n",
    "cloud_times = []"
   ]
  },
  {
   "cell_type": "markdown",
   "id": "sitting-affect",
   "metadata": {},
   "source": [
    "### 1. Set up CMR token auth"
   ]
  },
  {
   "cell_type": "markdown",
   "id": "appropriate-chapel",
   "metadata": {},
   "source": [
    "#### Steps Involved:\n",
    "\n",
    "1. (Non-Code) Register an Earthdata Login Account\n",
    "1. (Non-Code) Verify Earthdata Login account\n",
    "1. Obtain Earthdata Login username and password in code\n",
    "1. Obtain own IP address (or decide to lie to CMR)\n",
    "1. Format username, password, and IP address to CMR XML format\n",
    "1. Perform token request against CMR\n",
    "1. Parse token request output to obtain the token as a string"
   ]
  },
  {
   "cell_type": "code",
   "execution_count": 18,
   "id": "southwest-giving",
   "metadata": {},
   "outputs": [
    {
     "name": "stdin",
     "output_type": "stream",
     "text": [
      "Username:  amy.steiker\n",
      "Password:  ·········\n"
     ]
    },
    {
     "name": "stdout",
     "output_type": "stream",
     "text": [
      "5.087959289550781 seconds wall time\n"
     ]
    }
   ],
   "source": [
    "t0 = time.time()\n",
    "\n",
    "TOKEN_DATA = (\"<token>\"\n",
    "              \"<username>%s</username>\"\n",
    "              \"<password>%s</password>\"\n",
    "              \"<client_id>NSIDC TS1 Client</client_id>\"\n",
    "              \"<user_ip_address>%s</user_ip_address>\"\n",
    "              \"</token>\")\n",
    "\n",
    "\n",
    "def setup_cmr_token_auth(endpoint: str='cmr.uat.earthdata.nasa.gov'):\n",
    "    ip = requests.get(\"https://ipinfo.io/ip\").text.strip()\n",
    "    return requests.post(\n",
    "        url=\"https://%s/legacy-services/rest/tokens\" % endpoint,\n",
    "        data=TOKEN_DATA % (input(\"Username: \"), getpass(\"Password: \"), ip),\n",
    "        headers={'Content-Type': 'application/xml', 'Accept': 'application/json'}\n",
    "    ).json()['token']['id']\n",
    "\n",
    "\n",
    "# Get your authentication token for searching restricted records in the CMR:\n",
    "_token = setup_cmr_token_auth(endpoint=\"cmr.uat.earthdata.nasa.gov\")\n",
    "\n",
    "wall_time = time.time() - t0\n",
    "cloud_times.append(wall_time)\n",
    "print (wall_time, \"seconds wall time\")"
   ]
  },
  {
   "cell_type": "markdown",
   "id": "pending-bowling",
   "metadata": {},
   "source": [
    "### 2. Declare time and bounding box search parameters\n",
    "\n",
    "_Using a bounding box that will cover granules in EEDTEST (limiting factor compared to data in TS1)_"
   ]
  },
  {
   "cell_type": "markdown",
   "id": "played-scenario",
   "metadata": {},
   "source": [
    "#### Steps Involved:\n",
    "\n",
    "8. Format desired spatial bounding box into CMR query format\n",
    "1. Format desired temporal range into CMR query format\n",
    "1. (Non-Code) Determine precise data product short name (perhaps already known by users)\n",
    "1. Set data product short name in code\n",
    "1. (Non-Code) Determine precise data product version identifier, including leading zeroes\n",
    "1. Set data product version identifier in code\n",
    "1. (Non-Code) Determine data provider identifier for the collection owner\n",
    "1. Set data provider identifier in code\n",
    "\n",
    "##### Alternative for 12-17\n",
    "\n",
    "10. (Non-Code) Go to Earthdata Search\n",
    "1. (Non-Code) Search for data product short name or similar\n",
    "1. (Non-Code) Select correct collection, revealing CMR Concept ID\n",
    "1. Copy/paste the CMR Concept ID into code\n"
   ]
  },
  {
   "cell_type": "code",
   "execution_count": 22,
   "id": "lovely-financing",
   "metadata": {},
   "outputs": [
    {
     "name": "stdout",
     "output_type": "stream",
     "text": [
      "9.131431579589844e-05 seconds wall time\n"
     ]
    }
   ],
   "source": [
    "t0 = time.time()\n",
    "\n",
    "# Bounding Box spatial parameter in decimal degree 'W,S,E,N' format.\n",
    "bounding_box = '-13.1,-72.7,114.5,-65.5'\n",
    "\n",
    "# Each date in yyyy-MM-ddTHH:mm:ssZ format; date range in start,end format\n",
    "temporal = '2020-01-01T00:00:00Z,2020-02-10T23:59:59Z'\n",
    "\n",
    "search_parameters= {'short_name': 'ATL03',\n",
    "               'version': '003', \n",
    "               #'concept_id':'C1234714691-EEDTEST',\n",
    "               'provider': 'EEDTEST',\n",
    "               'bounding_box': bounding_box,\n",
    "               'temporal': temporal,\n",
    "                   }\n",
    "\n",
    "wall_time = time.time() - t0\n",
    "cloud_times.append(wall_time)\n",
    "print (wall_time, \"seconds wall time\")"
   ]
  },
  {
   "cell_type": "markdown",
   "id": "expanded-entrepreneur",
   "metadata": {},
   "source": [
    "### 3. Search for granules based on time and bounding box"
   ]
  },
  {
   "cell_type": "markdown",
   "id": "concerned-worship",
   "metadata": {},
   "source": [
    "#### Steps Involved:\n",
    "\n",
    "**Assumption:** The user's desired results are contained on the first page of results, but larger than the default (10)\n",
    "\n",
    "16. Set the token as a request parameter\n",
    "1. Set desired CMR output format (using the default requires more steps to get at the desired information)\n",
    "1. Set the CMR page size to be large enough to contain all results\n",
    "1. Perform CMR granule search using provided parameters\n",
    "1. Parse the search result\n",
    "1. Retrieve granule records from the search result (Note: I break this out because it's relatively hard to get at)\n",
    "\n",
    "##### Skipped steps (not strictly necessary)\n",
    "* Error checking\n",
    "* Hits reporting\n",
    "* Set CMR parameter to scroll results (code does not go past the first page)"
   ]
  },
  {
   "cell_type": "code",
   "execution_count": 23,
   "id": "adverse-samoa",
   "metadata": {},
   "outputs": [
    {
     "name": "stdout",
     "output_type": "stream",
     "text": [
      "Found 2 files\n",
      "The total size of all files is 1991.09 MB\n",
      "0.47315239906311035 seconds wall time\n"
     ]
    }
   ],
   "source": [
    "t0 = time.time()\n",
    "\n",
    "def search_granules(search_parameters, token, geojson=None, output_format=\"json\"):\n",
    "    \"\"\"\n",
    "    Performs a granule search with token authentication for restricted results\n",
    "    \n",
    "    :search_parameters: dictionary of CMR search parameters\n",
    "    :token: CMR token needed for restricted search\n",
    "    :geojson: filepath to GeoJSON file for spatial search\n",
    "    :output_format: select format for results https://cmr.earthdata.nasa.gov/search/site/docs/search/api.html#supported-result-formats\n",
    "    \n",
    "    :returns: if hits is greater than 0, search results are returned in chosen output_format, otherwise returns None.\n",
    "    \"\"\"\n",
    "    search_url = \"https://cmr.uat.earthdata.nasa.gov/search/granules\"\n",
    "    \n",
    "    # add token to search parameters\n",
    "    search_parameters['token'] = token\n",
    "    \n",
    "    if geojson:\n",
    "        files = {\"shapefile\": (geojson, open(geojson, \"r\"), \"application/geo+json\")}\n",
    "    else:\n",
    "        files = None\n",
    "    \n",
    "    \n",
    "    parameters = {\n",
    "        \"scroll\": \"true\",\n",
    "        \"page_size\": 100,\n",
    "    }\n",
    "    \n",
    "    try:\n",
    "        response = requests.post(f\"{search_url}.{output_format}\", params=parameters, data=search_parameters, files=files)\n",
    "        response.raise_for_status()\n",
    "    except HTTPError as http_err:\n",
    "        print(f\"HTTP Error: {http_error}\")\n",
    "    except Exception as err:\n",
    "        print(f\"Error: {err}\")\n",
    "    \n",
    "    hits = int(response.headers['CMR-Hits'])\n",
    "    if hits > 0:\n",
    "        print(f\"Found {hits} files\")\n",
    "        results = json.loads(response.content)\n",
    "        granules = []\n",
    "        granules.extend(results['feed']['entry'])\n",
    "        granule_sizes = [float(granule['granule_size']) for granule in granules]\n",
    "        print(f\"The total size of all files is {sum(granule_sizes):.2f} MB\")\n",
    "        return response.json()\n",
    "    else:\n",
    "        print(\"Found no hits\")\n",
    "        return\n",
    "\n",
    "search_granules(search_parameters, _token)\n",
    "\n",
    "wall_time = time.time() - t0\n",
    "cloud_times.append(wall_time)\n",
    "print (wall_time, \"seconds wall time\")"
   ]
  },
  {
   "cell_type": "markdown",
   "id": "circular-auction",
   "metadata": {},
   "source": [
    "### 4. Determine subsetting service options"
   ]
  },
  {
   "cell_type": "markdown",
   "id": "existing-satellite",
   "metadata": {
    "tags": []
   },
   "source": [
    "#### Steps Involved:\n",
    "\n",
    "22. Set the token as a request parameter\n",
    "1. Set desired CMR output format for collections (using the default requires more steps to get at the desired information)\n",
    "1. Perform CMR collection search using the collection-related search fields\n",
    "1. Parse the search result\n",
    "1. Retrieve collection from the search result\n",
    "1. Retrieve associated service IDs from the collection\n",
    "1. Set desired (different) output format for services\n",
    "1. Format a query to fetch the service for each service ID (why isn't this a link relation?)\n",
    "1. Perform CMR service search for each each service ID\n",
    "1. Parse the search result\n",
    "1. Retrieve service from the search result\n",
    "1. Retrieve associated service options from the service\n"
   ]
  },
  {
   "cell_type": "code",
   "execution_count": 24,
   "id": "suffering-telephone",
   "metadata": {},
   "outputs": [
    {
     "name": "stdout",
     "output_type": "stream",
     "text": [
      "{'Subset': {'SpatialSubset': {'BoundingBox': {'AllowMultipleValues': False}},\n",
      "            'TemporalSubset': {'AllowMultipleValues': False},\n",
      "            'VariableSubset': {'AllowMultipleValues': True}},\n",
      " 'SupportedInputProjections': [{'ProjectionName': 'Geographic'}],\n",
      " 'SupportedOutputProjections': [{'ProjectionName': 'Geographic'}]}\n",
      "{'Subset': {'SpatialSubset': {'BoundingBox': {'AllowMultipleValues': False}},\n",
      "            'TemporalSubset': {'AllowMultipleValues': False},\n",
      "            'VariableSubset': {'AllowMultipleValues': True}},\n",
      " 'SupportedInputProjections': [{'ProjectionName': 'Geographic'}],\n",
      " 'SupportedOutputProjections': [{'ProjectionName': 'Geographic'}],\n",
      " 'SupportedReformattings': [{'SupportedInputFormat': 'NETCDF-4',\n",
      "                             'SupportedOutputFormats': ['ASCII',\n",
      "                                                        'BINARY',\n",
      "                                                        'GEOTIFF',\n",
      "                                                        'NETCDF-3',\n",
      "                                                        'NETCDF-4']}]}\n",
      "{'Subset': {'VariableSubset': {'AllowMultipleValues': True}},\n",
      " 'SupportedReformattings': [{'SupportedInputFormat': 'HDF5',\n",
      "                             'SupportedOutputFormats': ['NETCDF-4']}]}\n",
      "{'SupportedReformattings': [{'SupportedInputFormat': 'NETCDF-4',\n",
      "                             'SupportedOutputFormats': ['ZARR']}]}\n",
      "3.3544862270355225 seconds wall time\n"
     ]
    }
   ],
   "source": [
    "t0 = time.time()\n",
    "\n",
    "def search_services(search_parameters, token, output_format=\"json\"):\n",
    "    \"\"\"\n",
    "    Performs a granule search with token authentication for restricted results\n",
    "    \n",
    "    :search_parameters: dictionary of CMR search parameters\n",
    "    :token: CMR token needed for restricted search\n",
    "    :output_format: select format for results https://cmr.earthdata.nasa.gov/search/site/docs/search/api.html#supported-result-formats\n",
    "    \n",
    "    :returns: if hits is greater than 0, search results are returned in chosen output_format, otherwise returns None.\n",
    "    \"\"\"\n",
    "    collection_url = \"https://cmr.uat.earthdata.nasa.gov/search/collections\"\n",
    "    \n",
    "    # add token to search parameters\n",
    "    search_parameters['token'] = token\n",
    "    \n",
    "    parameters = {\n",
    "        \"scroll\": \"true\",\n",
    "        \"page_size\": 100,\n",
    "    }\n",
    "    \n",
    "    try:\n",
    "        response = requests.post(f\"{collection_url}.{output_format}\", params=parameters, data=search_parameters)\n",
    "        response.raise_for_status()\n",
    "    except HTTPError as http_err:\n",
    "        print(f\"HTTP Error: {http_error}\")\n",
    "    except Exception as err:\n",
    "        print(f\"Error: {err}\")\n",
    "    \n",
    "    hits = int(response.headers['CMR-Hits'])\n",
    "    if hits > 0:\n",
    "        response = response.json()\n",
    "        if 'services' in response['feed']['entry'][0]['associations']: \n",
    "            services = response['feed']['entry'][0]['associations']['services']\n",
    "            output_format = \"umm_json\"\n",
    "            service_url = \"https://cmr.uat.earthdata.nasa.gov/search/services\"\n",
    "            for i in range(len(services)):\n",
    "                response = requests.get(f\"{service_url}.{output_format}?concept-id={services[i]}\")\n",
    "                response = response.json()\n",
    "                if 'ServiceOptions' in response['items'][0]['umm']: pprint(response['items'][0]['umm']['ServiceOptions'])\n",
    "        else:\n",
    "            print(\"Found no services\")\n",
    "        return\n",
    "    else:\n",
    "        print(\"Found no hits\")\n",
    "        return\n",
    "\n",
    "search_services(search_parameters, _token)\n",
    "\n",
    "wall_time = time.time() - t0\n",
    "cloud_times.append(wall_time)\n",
    "print (wall_time, \"seconds wall time\")"
   ]
  },
  {
   "cell_type": "markdown",
   "id": "approximate-stocks",
   "metadata": {},
   "source": [
    "### 5. Determine variables\n",
    "\n",
    "_Can use UMM-Var to return cleaner Long Names, and Name value needed for Harmony request_"
   ]
  },
  {
   "cell_type": "markdown",
   "id": "polyphonic-energy",
   "metadata": {},
   "source": [
    "#### Steps Involved:\n",
    "\n",
    "34. Retrieve associated variable IDs from the collection\n",
    "1. Set desired (different) output format for variables\n",
    "1. Format a query to fetch the service for each variable ID (why isn't this a link relation?)\n",
    "1. Perform CMR variable search for each variable ID\n",
    "1. Parse the search result\n",
    "1. Retrieve variable from the search result\n",
    "1. Retrieve variable names from the variable\n",
    "\n",
    "##### Notes\n",
    "* Assumes we could reuse the already-searched and parsed collection record from service lookup step with refactoring\n"
   ]
  },
  {
   "cell_type": "code",
   "execution_count": 25,
   "id": "horizontal-bridge",
   "metadata": {},
   "outputs": [
    {
     "name": "stdout",
     "output_type": "stream",
     "text": [
      "'background counts per bin'\n",
      "'/gt1r/signal_find_output/ocean/bckgrd_mean'\n",
      "'Segment latitude'\n",
      "'/gt1r/geolocation/reference_photon_lat'\n",
      "'Geoid'\n",
      "'/gt1r/geophys_corr/geoid'\n",
      "'Latitude'\n",
      "'/gt1r/heights/lat_ph'\n",
      "'Photon WGS84 Height'\n",
      "'/gt1r/heights/h_ph'\n",
      "'Longitude'\n",
      "'/gt1r/heights/lon_ph'\n",
      "'ATLAS 50-shot background count'\n",
      "'/gt1r/bckgrd_atlas/bckgrd_counts'\n",
      "'Segment longitude'\n",
      "'/gt1r/geolocation/reference_photon_lon'\n",
      "'Orbit Number'\n",
      "'/orbit_info/orbit_number'\n",
      "'Altitude'\n",
      "'/gt1r/geolocation/altitude_sc'\n",
      "'Photon Index Begin'\n",
      "'/gt1r/geolocation/ph_index_beg'\n",
      "8.21778154373169 seconds wall time\n"
     ]
    }
   ],
   "source": [
    "t0 = time.time()\n",
    "\n",
    "def search_vars(search_parameters, token, output_format=\"json\"):\n",
    "    \"\"\"\n",
    "    Performs a granule search with token authentication for restricted results\n",
    "    \n",
    "    :search_parameters: dictionary of CMR search parameters\n",
    "    :token: CMR token needed for restricted search\n",
    "    :output_format: select format for results https://cmr.earthdata.nasa.gov/search/site/docs/search/api.html#supported-result-formats\n",
    "    \n",
    "    :returns: if hits is greater than 0, search results are returned in chosen output_format, otherwise returns None.\n",
    "    \"\"\"\n",
    "    collection_url = \"https://cmr.uat.earthdata.nasa.gov/search/collections\"\n",
    "    \n",
    "    # add token to search parameters\n",
    "    search_parameters['token'] = token\n",
    "    \n",
    "    parameters = {\n",
    "        \"scroll\": \"true\",\n",
    "        \"page_size\": 100,\n",
    "    }\n",
    "    \n",
    "    try:\n",
    "        response = requests.post(f\"{collection_url}.{output_format}\", params=parameters, data=search_parameters)\n",
    "        response.raise_for_status()\n",
    "    except HTTPError as http_err:\n",
    "        print(f\"HTTP Error: {http_error}\")\n",
    "    except Exception as err:\n",
    "        print(f\"Error: {err}\")\n",
    "    \n",
    "    hits = int(response.headers['CMR-Hits'])\n",
    "    if hits > 0:\n",
    "        response = response.json()\n",
    "        if 'variables' in response['feed']['entry'][0]['associations']: \n",
    "            variables = response['feed']['entry'][0]['associations']['variables']\n",
    "            output_format = \"umm_json\"\n",
    "            var_url = \"https://cmr.uat.earthdata.nasa.gov/search/variables\"\n",
    "            for i in range(len(variables)):\n",
    "                response = requests.get(f\"{var_url}.{output_format}?concept-id={variables[i]}\")\n",
    "                response = response.json()\n",
    "                if 'LongName' in response['items'][0]['umm']: \n",
    "                    pprint(response['items'][0]['umm']['LongName'])\n",
    "                    pprint(response['items'][0]['umm']['Name'])\n",
    "        else:\n",
    "            print(\"Found no services\")\n",
    "        return\n",
    "    else:\n",
    "        print(\"Found no hits\")\n",
    "        return\n",
    "\n",
    "search_vars(search_parameters, _token)\n",
    "\n",
    "wall_time = time.time() - t0\n",
    "cloud_times.append(wall_time)\n",
    "print (wall_time, \"seconds wall time\")"
   ]
  },
  {
   "cell_type": "markdown",
   "id": "mysterious-journalism",
   "metadata": {},
   "source": [
    "### 6. Request variable subset\n",
    "\n",
    "_Starting with a variable subsetting request, since spatial subsetting for ICESat-2 is not available yet in the cloud. Alternatively we could attempt to spatially subset without services (i.e. subsetting using xarray)_\n",
    "\n",
    "_Using Harmony-py, this is a few easy lines of code_\n",
    "\n",
    "**Note that the exact same variables are not curated in umm-var compared to what was requested on-prem. For plotting purposes, 1 extra var is included on-prem for  **"
   ]
  },
  {
   "cell_type": "markdown",
   "id": "antique-statistics",
   "metadata": {},
   "source": [
    "#### Steps Involved:\n",
    "\n",
    "41. Install harmony-py\n",
    "1. Import harmony-py libraries\n",
    "1. Create Harmony client with previously obtained auth (or set up / use .netrc)\n",
    "1. Construct Harmony request object using desired spatial / temporal / variables\n",
    "1. Submit the Harmony request, obtaining a Job ID"
   ]
  },
  {
   "cell_type": "code",
   "execution_count": 44,
   "id": "compressed-dating",
   "metadata": {},
   "outputs": [
    {
     "name": "stdout",
     "output_type": "stream",
     "text": [
      "347dd43b-76e1-483d-a716-9fa577235f1e\n",
      "6.600922346115112 seconds wall time\n"
     ]
    }
   ],
   "source": [
    "t0 = time.time()\n",
    "\n",
    "granuleids = ['G1238435033-EEDTEST','G1238434996-EEDTEST']\n",
    "\n",
    "harmony_client = Client(env=Environment.UAT)\n",
    "request = Request(\n",
    "    collection=Collection(id='ATL03'),\n",
    "    granule_id=granuleids,\n",
    "    variables=['/gt1r/signal_find_output/ocean/bckgrd_mean',\n",
    "        '/gt1r/geolocation/reference_photon_lat',\n",
    "        '/gt1r/geophys_corr/geoid',\n",
    "        '/gt1r/heights/lat_ph',\n",
    "        '/gt1r/heights/h_ph',\n",
    "        '/gt1r/heights/lon_ph',\n",
    "        '/gt1r/bckgrd_atlas/bckgrd_counts',\n",
    "        '/gt1r/geolocation/reference_photon_lon',\n",
    "        '/orbit_info/orbit_number',\n",
    "        '/gt1r/geolocation/ph_index_beg'],\n",
    ")\n",
    "job_id = harmony_client.submit(request)\n",
    "print(job_id)\n",
    "#results = harmony_client.download_all(job_id, directory='/tmp', overwrite=True)\n",
    "\n",
    "wall_time = time.time() - t0\n",
    "cloud_times.append(wall_time)\n",
    "print (wall_time, \"seconds wall time\")"
   ]
  },
  {
   "cell_type": "markdown",
   "id": "statewide-transfer",
   "metadata": {},
   "source": [
    "### 7. Retrieve AWS Credentials"
   ]
  },
  {
   "cell_type": "markdown",
   "id": "incident-termination",
   "metadata": {},
   "source": [
    "#### Steps Involved:\n",
    "\n",
    "46. Obtain AWS Credentials for in-region use"
   ]
  },
  {
   "cell_type": "code",
   "execution_count": 46,
   "id": "varied-finger",
   "metadata": {},
   "outputs": [
    {
     "name": "stdout",
     "output_type": "stream",
     "text": [
      "1.3351502418518066 seconds wall time\n"
     ]
    }
   ],
   "source": [
    "t0 = time.time()\n",
    "\n",
    "creds = harmony_client.aws_credentials()\n",
    "# print(creds)\n",
    "\n",
    "wall_time = time.time() - t0\n",
    "cloud_times.append(wall_time)\n",
    "print (wall_time, \"seconds wall time\")"
   ]
  },
  {
   "cell_type": "markdown",
   "id": "42b7ffbf-57a6-4817-923f-d4d4b83b7cd6",
   "metadata": {},
   "source": [
    "Retrieve single output s3 location: "
   ]
  },
  {
   "cell_type": "markdown",
   "id": "e0258195-ad10-453c-9008-955bd709b124",
   "metadata": {},
   "source": [
    "### 8. Read in Data using xarray"
   ]
  },
  {
   "cell_type": "markdown",
   "id": "123aee5f-7686-45d5-bdcf-ead5dd24ec32",
   "metadata": {},
   "source": [
    "#### Steps Involved:\n",
    "\n",
    "47. Retrieve s3 URLs returned from Harmony\n",
    "1. Create a file system using `s3fs` in order to read into `xarray`\n",
    "1. Open the file system using h5py\n",
    "1. Create xarray dataset from selected variables of interest in h5py object"
   ]
  },
  {
   "cell_type": "code",
   "execution_count": 54,
   "id": "91de63e6-5fb2-4fab-9b50-4c6236c794bc",
   "metadata": {},
   "outputs": [
    {
     "name": "stdout",
     "output_type": "stream",
     "text": [
      "['s3://harmony-uat-staging/public/sds/variable-subsetter/78d2aecc-7a9f-4ae7-ba3d-781c5cfc53aa/EEDTEST-ATL03-003-ATL03_20200202T001542_subsetted.nc4',\n",
      " 's3://harmony-uat-staging/public/sds/variable-subsetter/78d2aecc-7a9f-4ae7-ba3d-781c5cfc53aa/EEDTEST-ATL03-003-ATL03_20200131T230704_subsetted.nc4']\n"
     ]
    }
   ],
   "source": [
    "results = harmony_client.result_urls(job_id, link_type=LinkType.s3)\n",
    "s3_urls = list(results)\n",
    "pprint(s3_urls)"
   ]
  },
  {
   "cell_type": "code",
   "execution_count": 51,
   "id": "2b3b76ca-180b-4c89-aca4-ec9367a5130e",
   "metadata": {
    "tags": []
   },
   "outputs": [],
   "source": [
    "s3_fs = s3fs.S3FileSystem(\n",
    "    key=creds['aws_access_key_id'],\n",
    "    secret=creds['aws_secret_access_key'],\n",
    "    token=creds['aws_session_token'],\n",
    "    client_kwargs={'region_name':'us-west-2'},\n",
    ")"
   ]
  },
  {
   "cell_type": "code",
   "execution_count": 70,
   "id": "201f8abf-86a3-45f7-9f0a-ceb47bb26660",
   "metadata": {},
   "outputs": [
    {
     "name": "stdout",
     "output_type": "stream",
     "text": [
      "['ds_surf_type', 'ds_xyz', 'gt1r', 'orbit_info']\n"
     ]
    },
    {
     "data": {
      "text/html": [
       "<div><svg style=\"position: absolute; width: 0; height: 0; overflow: hidden\">\n",
       "<defs>\n",
       "<symbol id=\"icon-database\" viewBox=\"0 0 32 32\">\n",
       "<path d=\"M16 0c-8.837 0-16 2.239-16 5v4c0 2.761 7.163 5 16 5s16-2.239 16-5v-4c0-2.761-7.163-5-16-5z\"></path>\n",
       "<path d=\"M16 17c-8.837 0-16-2.239-16-5v6c0 2.761 7.163 5 16 5s16-2.239 16-5v-6c0 2.761-7.163 5-16 5z\"></path>\n",
       "<path d=\"M16 26c-8.837 0-16-2.239-16-5v6c0 2.761 7.163 5 16 5s16-2.239 16-5v-6c0 2.761-7.163 5-16 5z\"></path>\n",
       "</symbol>\n",
       "<symbol id=\"icon-file-text2\" viewBox=\"0 0 32 32\">\n",
       "<path d=\"M28.681 7.159c-0.694-0.947-1.662-2.053-2.724-3.116s-2.169-2.030-3.116-2.724c-1.612-1.182-2.393-1.319-2.841-1.319h-15.5c-1.378 0-2.5 1.121-2.5 2.5v27c0 1.378 1.122 2.5 2.5 2.5h23c1.378 0 2.5-1.122 2.5-2.5v-19.5c0-0.448-0.137-1.23-1.319-2.841zM24.543 5.457c0.959 0.959 1.712 1.825 2.268 2.543h-4.811v-4.811c0.718 0.556 1.584 1.309 2.543 2.268zM28 29.5c0 0.271-0.229 0.5-0.5 0.5h-23c-0.271 0-0.5-0.229-0.5-0.5v-27c0-0.271 0.229-0.5 0.5-0.5 0 0 15.499-0 15.5 0v7c0 0.552 0.448 1 1 1h7v19.5z\"></path>\n",
       "<path d=\"M23 26h-14c-0.552 0-1-0.448-1-1s0.448-1 1-1h14c0.552 0 1 0.448 1 1s-0.448 1-1 1z\"></path>\n",
       "<path d=\"M23 22h-14c-0.552 0-1-0.448-1-1s0.448-1 1-1h14c0.552 0 1 0.448 1 1s-0.448 1-1 1z\"></path>\n",
       "<path d=\"M23 18h-14c-0.552 0-1-0.448-1-1s0.448-1 1-1h14c0.552 0 1 0.448 1 1s-0.448 1-1 1z\"></path>\n",
       "</symbol>\n",
       "</defs>\n",
       "</svg>\n",
       "<style>/* CSS stylesheet for displaying xarray objects in jupyterlab.\n",
       " *\n",
       " */\n",
       "\n",
       ":root {\n",
       "  --xr-font-color0: var(--jp-content-font-color0, rgba(0, 0, 0, 1));\n",
       "  --xr-font-color2: var(--jp-content-font-color2, rgba(0, 0, 0, 0.54));\n",
       "  --xr-font-color3: var(--jp-content-font-color3, rgba(0, 0, 0, 0.38));\n",
       "  --xr-border-color: var(--jp-border-color2, #e0e0e0);\n",
       "  --xr-disabled-color: var(--jp-layout-color3, #bdbdbd);\n",
       "  --xr-background-color: var(--jp-layout-color0, white);\n",
       "  --xr-background-color-row-even: var(--jp-layout-color1, white);\n",
       "  --xr-background-color-row-odd: var(--jp-layout-color2, #eeeeee);\n",
       "}\n",
       "\n",
       "html[theme=dark],\n",
       "body.vscode-dark {\n",
       "  --xr-font-color0: rgba(255, 255, 255, 1);\n",
       "  --xr-font-color2: rgba(255, 255, 255, 0.54);\n",
       "  --xr-font-color3: rgba(255, 255, 255, 0.38);\n",
       "  --xr-border-color: #1F1F1F;\n",
       "  --xr-disabled-color: #515151;\n",
       "  --xr-background-color: #111111;\n",
       "  --xr-background-color-row-even: #111111;\n",
       "  --xr-background-color-row-odd: #313131;\n",
       "}\n",
       "\n",
       ".xr-wrap {\n",
       "  display: block !important;\n",
       "  min-width: 300px;\n",
       "  max-width: 700px;\n",
       "}\n",
       "\n",
       ".xr-text-repr-fallback {\n",
       "  /* fallback to plain text repr when CSS is not injected (untrusted notebook) */\n",
       "  display: none;\n",
       "}\n",
       "\n",
       ".xr-header {\n",
       "  padding-top: 6px;\n",
       "  padding-bottom: 6px;\n",
       "  margin-bottom: 4px;\n",
       "  border-bottom: solid 1px var(--xr-border-color);\n",
       "}\n",
       "\n",
       ".xr-header > div,\n",
       ".xr-header > ul {\n",
       "  display: inline;\n",
       "  margin-top: 0;\n",
       "  margin-bottom: 0;\n",
       "}\n",
       "\n",
       ".xr-obj-type,\n",
       ".xr-array-name {\n",
       "  margin-left: 2px;\n",
       "  margin-right: 10px;\n",
       "}\n",
       "\n",
       ".xr-obj-type {\n",
       "  color: var(--xr-font-color2);\n",
       "}\n",
       "\n",
       ".xr-sections {\n",
       "  padding-left: 0 !important;\n",
       "  display: grid;\n",
       "  grid-template-columns: 150px auto auto 1fr 20px 20px;\n",
       "}\n",
       "\n",
       ".xr-section-item {\n",
       "  display: contents;\n",
       "}\n",
       "\n",
       ".xr-section-item input {\n",
       "  display: none;\n",
       "}\n",
       "\n",
       ".xr-section-item input + label {\n",
       "  color: var(--xr-disabled-color);\n",
       "}\n",
       "\n",
       ".xr-section-item input:enabled + label {\n",
       "  cursor: pointer;\n",
       "  color: var(--xr-font-color2);\n",
       "}\n",
       "\n",
       ".xr-section-item input:enabled + label:hover {\n",
       "  color: var(--xr-font-color0);\n",
       "}\n",
       "\n",
       ".xr-section-summary {\n",
       "  grid-column: 1;\n",
       "  color: var(--xr-font-color2);\n",
       "  font-weight: 500;\n",
       "}\n",
       "\n",
       ".xr-section-summary > span {\n",
       "  display: inline-block;\n",
       "  padding-left: 0.5em;\n",
       "}\n",
       "\n",
       ".xr-section-summary-in:disabled + label {\n",
       "  color: var(--xr-font-color2);\n",
       "}\n",
       "\n",
       ".xr-section-summary-in + label:before {\n",
       "  display: inline-block;\n",
       "  content: '►';\n",
       "  font-size: 11px;\n",
       "  width: 15px;\n",
       "  text-align: center;\n",
       "}\n",
       "\n",
       ".xr-section-summary-in:disabled + label:before {\n",
       "  color: var(--xr-disabled-color);\n",
       "}\n",
       "\n",
       ".xr-section-summary-in:checked + label:before {\n",
       "  content: '▼';\n",
       "}\n",
       "\n",
       ".xr-section-summary-in:checked + label > span {\n",
       "  display: none;\n",
       "}\n",
       "\n",
       ".xr-section-summary,\n",
       ".xr-section-inline-details {\n",
       "  padding-top: 4px;\n",
       "  padding-bottom: 4px;\n",
       "}\n",
       "\n",
       ".xr-section-inline-details {\n",
       "  grid-column: 2 / -1;\n",
       "}\n",
       "\n",
       ".xr-section-details {\n",
       "  display: none;\n",
       "  grid-column: 1 / -1;\n",
       "  margin-bottom: 5px;\n",
       "}\n",
       "\n",
       ".xr-section-summary-in:checked ~ .xr-section-details {\n",
       "  display: contents;\n",
       "}\n",
       "\n",
       ".xr-array-wrap {\n",
       "  grid-column: 1 / -1;\n",
       "  display: grid;\n",
       "  grid-template-columns: 20px auto;\n",
       "}\n",
       "\n",
       ".xr-array-wrap > label {\n",
       "  grid-column: 1;\n",
       "  vertical-align: top;\n",
       "}\n",
       "\n",
       ".xr-preview {\n",
       "  color: var(--xr-font-color3);\n",
       "}\n",
       "\n",
       ".xr-array-preview,\n",
       ".xr-array-data {\n",
       "  padding: 0 5px !important;\n",
       "  grid-column: 2;\n",
       "}\n",
       "\n",
       ".xr-array-data,\n",
       ".xr-array-in:checked ~ .xr-array-preview {\n",
       "  display: none;\n",
       "}\n",
       "\n",
       ".xr-array-in:checked ~ .xr-array-data,\n",
       ".xr-array-preview {\n",
       "  display: inline-block;\n",
       "}\n",
       "\n",
       ".xr-dim-list {\n",
       "  display: inline-block !important;\n",
       "  list-style: none;\n",
       "  padding: 0 !important;\n",
       "  margin: 0;\n",
       "}\n",
       "\n",
       ".xr-dim-list li {\n",
       "  display: inline-block;\n",
       "  padding: 0;\n",
       "  margin: 0;\n",
       "}\n",
       "\n",
       ".xr-dim-list:before {\n",
       "  content: '(';\n",
       "}\n",
       "\n",
       ".xr-dim-list:after {\n",
       "  content: ')';\n",
       "}\n",
       "\n",
       ".xr-dim-list li:not(:last-child):after {\n",
       "  content: ',';\n",
       "  padding-right: 5px;\n",
       "}\n",
       "\n",
       ".xr-has-index {\n",
       "  font-weight: bold;\n",
       "}\n",
       "\n",
       ".xr-var-list,\n",
       ".xr-var-item {\n",
       "  display: contents;\n",
       "}\n",
       "\n",
       ".xr-var-item > div,\n",
       ".xr-var-item label,\n",
       ".xr-var-item > .xr-var-name span {\n",
       "  background-color: var(--xr-background-color-row-even);\n",
       "  margin-bottom: 0;\n",
       "}\n",
       "\n",
       ".xr-var-item > .xr-var-name:hover span {\n",
       "  padding-right: 5px;\n",
       "}\n",
       "\n",
       ".xr-var-list > li:nth-child(odd) > div,\n",
       ".xr-var-list > li:nth-child(odd) > label,\n",
       ".xr-var-list > li:nth-child(odd) > .xr-var-name span {\n",
       "  background-color: var(--xr-background-color-row-odd);\n",
       "}\n",
       "\n",
       ".xr-var-name {\n",
       "  grid-column: 1;\n",
       "}\n",
       "\n",
       ".xr-var-dims {\n",
       "  grid-column: 2;\n",
       "}\n",
       "\n",
       ".xr-var-dtype {\n",
       "  grid-column: 3;\n",
       "  text-align: right;\n",
       "  color: var(--xr-font-color2);\n",
       "}\n",
       "\n",
       ".xr-var-preview {\n",
       "  grid-column: 4;\n",
       "}\n",
       "\n",
       ".xr-var-name,\n",
       ".xr-var-dims,\n",
       ".xr-var-dtype,\n",
       ".xr-preview,\n",
       ".xr-attrs dt {\n",
       "  white-space: nowrap;\n",
       "  overflow: hidden;\n",
       "  text-overflow: ellipsis;\n",
       "  padding-right: 10px;\n",
       "}\n",
       "\n",
       ".xr-var-name:hover,\n",
       ".xr-var-dims:hover,\n",
       ".xr-var-dtype:hover,\n",
       ".xr-attrs dt:hover {\n",
       "  overflow: visible;\n",
       "  width: auto;\n",
       "  z-index: 1;\n",
       "}\n",
       "\n",
       ".xr-var-attrs,\n",
       ".xr-var-data {\n",
       "  display: none;\n",
       "  background-color: var(--xr-background-color) !important;\n",
       "  padding-bottom: 5px !important;\n",
       "}\n",
       "\n",
       ".xr-var-attrs-in:checked ~ .xr-var-attrs,\n",
       ".xr-var-data-in:checked ~ .xr-var-data {\n",
       "  display: block;\n",
       "}\n",
       "\n",
       ".xr-var-data > table {\n",
       "  float: right;\n",
       "}\n",
       "\n",
       ".xr-var-name span,\n",
       ".xr-var-data,\n",
       ".xr-attrs {\n",
       "  padding-left: 25px !important;\n",
       "}\n",
       "\n",
       ".xr-attrs,\n",
       ".xr-var-attrs,\n",
       ".xr-var-data {\n",
       "  grid-column: 1 / -1;\n",
       "}\n",
       "\n",
       "dl.xr-attrs {\n",
       "  padding: 0;\n",
       "  margin: 0;\n",
       "  display: grid;\n",
       "  grid-template-columns: 125px auto;\n",
       "}\n",
       "\n",
       ".xr-attrs dt,\n",
       ".xr-attrs dd {\n",
       "  padding: 0;\n",
       "  margin: 0;\n",
       "  float: left;\n",
       "  padding-right: 10px;\n",
       "  width: auto;\n",
       "}\n",
       "\n",
       ".xr-attrs dt {\n",
       "  font-weight: normal;\n",
       "  grid-column: 1;\n",
       "}\n",
       "\n",
       ".xr-attrs dt:hover span {\n",
       "  display: inline-block;\n",
       "  background: var(--xr-background-color);\n",
       "  padding-right: 10px;\n",
       "}\n",
       "\n",
       ".xr-attrs dd {\n",
       "  grid-column: 2;\n",
       "  white-space: pre-wrap;\n",
       "  word-break: break-all;\n",
       "}\n",
       "\n",
       ".xr-icon-database,\n",
       ".xr-icon-file-text2 {\n",
       "  display: inline-block;\n",
       "  vertical-align: middle;\n",
       "  width: 1em;\n",
       "  height: 1.5em !important;\n",
       "  stroke-width: 0;\n",
       "  stroke: currentColor;\n",
       "  fill: currentColor;\n",
       "}\n",
       "</style><pre class='xr-text-repr-fallback'>&lt;xarray.Dataset&gt;\n",
       "Dimensions:    (x: 6447431)\n",
       "Dimensions without coordinates: x\n",
       "Data variables:\n",
       "    latitude   (x) float64 -50.0 -50.0 -50.0 -50.0 ... -79.01 -79.01 -79.01\n",
       "    longitude  (x) float64 66.71 66.71 66.71 66.71 ... 56.97 56.97 56.97 56.97\n",
       "    height     (x) float32 71.47 325.0 -138.2 ... 3.553e+03 3.554e+03 3.554e+03</pre><div class='xr-wrap' style='display:none'><div class='xr-header'><div class='xr-obj-type'>xarray.Dataset</div></div><ul class='xr-sections'><li class='xr-section-item'><input id='section-b40126ca-2ebd-484c-ade1-458dbff807b0' class='xr-section-summary-in' type='checkbox' disabled ><label for='section-b40126ca-2ebd-484c-ade1-458dbff807b0' class='xr-section-summary'  title='Expand/collapse section'>Dimensions:</label><div class='xr-section-inline-details'><ul class='xr-dim-list'><li><span>x</span>: 6447431</li></ul></div><div class='xr-section-details'></div></li><li class='xr-section-item'><input id='section-ecdc8246-5899-41be-b1cb-3c84a35d3da8' class='xr-section-summary-in' type='checkbox' disabled ><label for='section-ecdc8246-5899-41be-b1cb-3c84a35d3da8' class='xr-section-summary'  title='Expand/collapse section'>Coordinates: <span>(0)</span></label><div class='xr-section-inline-details'></div><div class='xr-section-details'><ul class='xr-var-list'></ul></div></li><li class='xr-section-item'><input id='section-ebf334f8-58ce-4d2b-8696-1f3f8e02686e' class='xr-section-summary-in' type='checkbox'  checked><label for='section-ebf334f8-58ce-4d2b-8696-1f3f8e02686e' class='xr-section-summary' >Data variables: <span>(3)</span></label><div class='xr-section-inline-details'></div><div class='xr-section-details'><ul class='xr-var-list'><li class='xr-var-item'><div class='xr-var-name'><span>latitude</span></div><div class='xr-var-dims'>(x)</div><div class='xr-var-dtype'>float64</div><div class='xr-var-preview xr-preview'>-50.0 -50.0 -50.0 ... -79.01 -79.01</div><input id='attrs-f53a874b-6ef7-4a31-a175-f22d9cedebb9' class='xr-var-attrs-in' type='checkbox' disabled><label for='attrs-f53a874b-6ef7-4a31-a175-f22d9cedebb9' title='Show/Hide attributes'><svg class='icon xr-icon-file-text2'><use xlink:href='#icon-file-text2'></use></svg></label><input id='data-f77e4c68-7632-40ba-a68d-557b120b3844' class='xr-var-data-in' type='checkbox'><label for='data-f77e4c68-7632-40ba-a68d-557b120b3844' title='Show/Hide data repr'><svg class='icon xr-icon-database'><use xlink:href='#icon-database'></use></svg></label><div class='xr-var-attrs'><dl class='xr-attrs'></dl></div><div class='xr-var-data'><pre>array([-50.00272869, -50.00277872, -50.00277549, ..., -79.00569382,\n",
       "       -79.00569382, -79.00569382])</pre></div></li><li class='xr-var-item'><div class='xr-var-name'><span>longitude</span></div><div class='xr-var-dims'>(x)</div><div class='xr-var-dtype'>float64</div><div class='xr-var-preview xr-preview'>66.71 66.71 66.71 ... 56.97 56.97</div><input id='attrs-43e5bd74-124d-4b74-8e1a-c38d2ed643bd' class='xr-var-attrs-in' type='checkbox' disabled><label for='attrs-43e5bd74-124d-4b74-8e1a-c38d2ed643bd' title='Show/Hide attributes'><svg class='icon xr-icon-file-text2'><use xlink:href='#icon-file-text2'></use></svg></label><input id='data-4300a77f-f039-4571-b213-37343eba9310' class='xr-var-data-in' type='checkbox'><label for='data-4300a77f-f039-4571-b213-37343eba9310' title='Show/Hide data repr'><svg class='icon xr-icon-database'><use xlink:href='#icon-database'></use></svg></label><div class='xr-var-attrs'><dl class='xr-attrs'></dl></div><div class='xr-var-data'><pre>array([66.70634845, 66.70631084, 66.70636657, ..., 56.96506842,\n",
       "       56.96506841, 56.96506838])</pre></div></li><li class='xr-var-item'><div class='xr-var-name'><span>height</span></div><div class='xr-var-dims'>(x)</div><div class='xr-var-dtype'>float32</div><div class='xr-var-preview xr-preview'>71.47 325.0 ... 3.554e+03 3.554e+03</div><input id='attrs-ce7a8894-5bd1-4835-ad90-77d165e0eab5' class='xr-var-attrs-in' type='checkbox' disabled><label for='attrs-ce7a8894-5bd1-4835-ad90-77d165e0eab5' title='Show/Hide attributes'><svg class='icon xr-icon-file-text2'><use xlink:href='#icon-file-text2'></use></svg></label><input id='data-9adfddbc-27ca-4a08-9d76-c3439d18fe89' class='xr-var-data-in' type='checkbox'><label for='data-9adfddbc-27ca-4a08-9d76-c3439d18fe89' title='Show/Hide data repr'><svg class='icon xr-icon-database'><use xlink:href='#icon-database'></use></svg></label><div class='xr-var-attrs'><dl class='xr-attrs'></dl></div><div class='xr-var-data'><pre>array([  71.4726 ,  324.9877 , -138.15758, ..., 3553.4653 , 3553.5051 ,\n",
       "       3553.567  ], dtype=float32)</pre></div></li></ul></div></li><li class='xr-section-item'><input id='section-22784932-8910-40b4-8efd-65977ed54a76' class='xr-section-summary-in' type='checkbox' disabled ><label for='section-22784932-8910-40b4-8efd-65977ed54a76' class='xr-section-summary'  title='Expand/collapse section'>Attributes: <span>(0)</span></label><div class='xr-section-inline-details'></div><div class='xr-section-details'><dl class='xr-attrs'></dl></div></li></ul></div></div>"
      ],
      "text/plain": [
       "<xarray.Dataset>\n",
       "Dimensions:    (x: 6447431)\n",
       "Dimensions without coordinates: x\n",
       "Data variables:\n",
       "    latitude   (x) float64 -50.0 -50.0 -50.0 -50.0 ... -79.01 -79.01 -79.01\n",
       "    longitude  (x) float64 66.71 66.71 66.71 66.71 ... 56.97 56.97 56.97 56.97\n",
       "    height     (x) float32 71.47 325.0 -138.2 ... 3.553e+03 3.554e+03 3.554e+03"
      ]
     },
     "execution_count": 70,
     "metadata": {},
     "output_type": "execute_result"
    }
   ],
   "source": [
    "with s3_fs.open(s3_urls[0], 'rb') as s3f:\n",
    "    with h5py.File(s3f, 'r') as f:\n",
    "        gt1r = xr.Dataset({   \n",
    "                       'latitude': (['x'], f['gt1r']['heights']['lat_ph'][:]), \n",
    "                       'longitude': (['x'], f['gt1r']['heights']['lon_ph'][:]),\n",
    "                       'height': (['x'], f['gt1r']['heights']['h_ph'][:]),\n",
    "                       })\n",
    "gt1r"
   ]
  },
  {
   "cell_type": "code",
   "execution_count": 73,
   "id": "b3bd39bc-9d85-43a5-80c5-ffac658e7705",
   "metadata": {},
   "outputs": [
    {
     "data": {
      "text/plain": [
       "[<matplotlib.lines.Line2D at 0x7fbf53eb2b80>]"
      ]
     },
     "execution_count": 73,
     "metadata": {},
     "output_type": "execute_result"
    },
    {
     "data": {
      "image/png": "[encoded data removed]",
      "text/plain": [
       "<Figure size 432x288 with 1 Axes>"
      ]
     },
     "metadata": {
      "needs_background": "light"
     },
     "output_type": "display_data"
    }
   ],
   "source": [
    "gt1r.height.plot()"
   ]
  },
  {
   "cell_type": "code",
   "execution_count": 78,
   "id": "44040a32-14c0-45d1-b594-ee8cd0b4aa22",
   "metadata": {
    "collapsed": true,
    "jupyter": {
     "outputs_hidden": true
    },
    "tags": []
   },
   "outputs": [
    {
     "ename": "KeyboardInterrupt",
     "evalue": "",
     "output_type": "error",
     "traceback": [
      "\u001b[0;31m---------------------------------------------------------------------------\u001b[0m",
      "\u001b[0;31mKeyboardInterrupt\u001b[0m                         Traceback (most recent call last)",
      "\u001b[0;32m/tmp/ipykernel_46/850089567.py\u001b[0m in \u001b[0;36m<module>\u001b[0;34m\u001b[0m\n\u001b[1;32m     14\u001b[0m \u001b[0msubax\u001b[0m\u001b[0;34m.\u001b[0m\u001b[0mset_extent\u001b[0m\u001b[0;34m(\u001b[0m\u001b[0;34m[\u001b[0m\u001b[0;34m-\u001b[0m\u001b[0;36m180.\u001b[0m\u001b[0;34m,\u001b[0m \u001b[0;36m180.\u001b[0m\u001b[0;34m,\u001b[0m \u001b[0;34m-\u001b[0m\u001b[0;36m30\u001b[0m\u001b[0;34m,\u001b[0m \u001b[0;34m-\u001b[0m\u001b[0;36m90.\u001b[0m\u001b[0;34m]\u001b[0m\u001b[0;34m,\u001b[0m \u001b[0mccrs\u001b[0m\u001b[0;34m.\u001b[0m\u001b[0mPlateCarree\u001b[0m\u001b[0;34m(\u001b[0m\u001b[0;34m)\u001b[0m\u001b[0;34m)\u001b[0m\u001b[0;34m\u001b[0m\u001b[0;34m\u001b[0m\u001b[0m\n\u001b[1;32m     15\u001b[0m \u001b[0msubax\u001b[0m\u001b[0;34m.\u001b[0m\u001b[0madd_feature\u001b[0m\u001b[0;34m(\u001b[0m\u001b[0mcfeature\u001b[0m\u001b[0;34m.\u001b[0m\u001b[0mLAND\u001b[0m\u001b[0;34m)\u001b[0m\u001b[0;34m\u001b[0m\u001b[0;34m\u001b[0m\u001b[0m\n\u001b[0;32m---> 16\u001b[0;31m \u001b[0msubax\u001b[0m\u001b[0;34m.\u001b[0m\u001b[0mplot\u001b[0m\u001b[0;34m(\u001b[0m\u001b[0mgt1r\u001b[0m\u001b[0;34m.\u001b[0m\u001b[0mlongitude\u001b[0m\u001b[0;34m,\u001b[0m \u001b[0mgt1r\u001b[0m\u001b[0;34m.\u001b[0m\u001b[0mlatitude\u001b[0m\u001b[0;34m,\u001b[0m \u001b[0mtransform\u001b[0m\u001b[0;34m=\u001b[0m\u001b[0mccrs\u001b[0m\u001b[0;34m.\u001b[0m\u001b[0mPlateCarree\u001b[0m\u001b[0;34m(\u001b[0m\u001b[0;34m)\u001b[0m\u001b[0;34m,\u001b[0m \u001b[0mlw\u001b[0m\u001b[0;34m=\u001b[0m\u001b[0;36m1\u001b[0m\u001b[0;34m)\u001b[0m\u001b[0;34m;\u001b[0m\u001b[0;34m\u001b[0m\u001b[0;34m\u001b[0m\u001b[0m\n\u001b[0m\u001b[1;32m     17\u001b[0m \u001b[0;34m\u001b[0m\u001b[0m\n\u001b[1;32m     18\u001b[0m \u001b[0;31m#fig.savefig('test.png')\u001b[0m\u001b[0;34m\u001b[0m\u001b[0;34m\u001b[0m\u001b[0m\n",
      "\u001b[0;32m/srv/conda/envs/notebook/lib/python3.9/site-packages/matplotlib/axes/_axes.py\u001b[0m in \u001b[0;36mplot\u001b[0;34m(self, scalex, scaley, data, *args, **kwargs)\u001b[0m\n\u001b[1;32m   1632\u001b[0m         \u001b[0mlines\u001b[0m \u001b[0;34m=\u001b[0m \u001b[0;34m[\u001b[0m\u001b[0;34m*\u001b[0m\u001b[0mself\u001b[0m\u001b[0;34m.\u001b[0m\u001b[0m_get_lines\u001b[0m\u001b[0;34m(\u001b[0m\u001b[0;34m*\u001b[0m\u001b[0margs\u001b[0m\u001b[0;34m,\u001b[0m \u001b[0mdata\u001b[0m\u001b[0;34m=\u001b[0m\u001b[0mdata\u001b[0m\u001b[0;34m,\u001b[0m \u001b[0;34m**\u001b[0m\u001b[0mkwargs\u001b[0m\u001b[0;34m)\u001b[0m\u001b[0;34m]\u001b[0m\u001b[0;34m\u001b[0m\u001b[0;34m\u001b[0m\u001b[0m\n\u001b[1;32m   1633\u001b[0m         \u001b[0;32mfor\u001b[0m \u001b[0mline\u001b[0m \u001b[0;32min\u001b[0m \u001b[0mlines\u001b[0m\u001b[0;34m:\u001b[0m\u001b[0;34m\u001b[0m\u001b[0;34m\u001b[0m\u001b[0m\n\u001b[0;32m-> 1634\u001b[0;31m             \u001b[0mself\u001b[0m\u001b[0;34m.\u001b[0m\u001b[0madd_line\u001b[0m\u001b[0;34m(\u001b[0m\u001b[0mline\u001b[0m\u001b[0;34m)\u001b[0m\u001b[0;34m\u001b[0m\u001b[0;34m\u001b[0m\u001b[0m\n\u001b[0m\u001b[1;32m   1635\u001b[0m         \u001b[0mself\u001b[0m\u001b[0;34m.\u001b[0m\u001b[0m_request_autoscale_view\u001b[0m\u001b[0;34m(\u001b[0m\u001b[0mscalex\u001b[0m\u001b[0;34m=\u001b[0m\u001b[0mscalex\u001b[0m\u001b[0;34m,\u001b[0m \u001b[0mscaley\u001b[0m\u001b[0;34m=\u001b[0m\u001b[0mscaley\u001b[0m\u001b[0;34m)\u001b[0m\u001b[0;34m\u001b[0m\u001b[0;34m\u001b[0m\u001b[0m\n\u001b[1;32m   1636\u001b[0m         \u001b[0;32mreturn\u001b[0m \u001b[0mlines\u001b[0m\u001b[0;34m\u001b[0m\u001b[0;34m\u001b[0m\u001b[0m\n",
      "\u001b[0;32m/srv/conda/envs/notebook/lib/python3.9/site-packages/matplotlib/axes/_base.py\u001b[0m in \u001b[0;36madd_line\u001b[0;34m(self, line)\u001b[0m\n\u001b[1;32m   2281\u001b[0m             \u001b[0mline\u001b[0m\u001b[0;34m.\u001b[0m\u001b[0mset_clip_path\u001b[0m\u001b[0;34m(\u001b[0m\u001b[0mself\u001b[0m\u001b[0;34m.\u001b[0m\u001b[0mpatch\u001b[0m\u001b[0;34m)\u001b[0m\u001b[0;34m\u001b[0m\u001b[0;34m\u001b[0m\u001b[0m\n\u001b[1;32m   2282\u001b[0m \u001b[0;34m\u001b[0m\u001b[0m\n\u001b[0;32m-> 2283\u001b[0;31m         \u001b[0mself\u001b[0m\u001b[0;34m.\u001b[0m\u001b[0m_update_line_limits\u001b[0m\u001b[0;34m(\u001b[0m\u001b[0mline\u001b[0m\u001b[0;34m)\u001b[0m\u001b[0;34m\u001b[0m\u001b[0;34m\u001b[0m\u001b[0m\n\u001b[0m\u001b[1;32m   2284\u001b[0m         \u001b[0;32mif\u001b[0m \u001b[0;32mnot\u001b[0m \u001b[0mline\u001b[0m\u001b[0;34m.\u001b[0m\u001b[0mget_label\u001b[0m\u001b[0;34m(\u001b[0m\u001b[0;34m)\u001b[0m\u001b[0;34m:\u001b[0m\u001b[0;34m\u001b[0m\u001b[0;34m\u001b[0m\u001b[0m\n\u001b[1;32m   2285\u001b[0m             \u001b[0mline\u001b[0m\u001b[0;34m.\u001b[0m\u001b[0mset_label\u001b[0m\u001b[0;34m(\u001b[0m\u001b[0;34mf'_child{len(self._children)}'\u001b[0m\u001b[0;34m)\u001b[0m\u001b[0;34m\u001b[0m\u001b[0;34m\u001b[0m\u001b[0m\n",
      "\u001b[0;32m/srv/conda/envs/notebook/lib/python3.9/site-packages/matplotlib/axes/_base.py\u001b[0m in \u001b[0;36m_update_line_limits\u001b[0;34m(self, line)\u001b[0m\n\u001b[1;32m   2320\u001b[0m             \u001b[0;32mif\u001b[0m \u001b[0mself\u001b[0m\u001b[0;34m.\u001b[0m\u001b[0mtransData\u001b[0m\u001b[0;34m.\u001b[0m\u001b[0mis_affine\u001b[0m\u001b[0;34m:\u001b[0m\u001b[0;34m\u001b[0m\u001b[0;34m\u001b[0m\u001b[0m\n\u001b[1;32m   2321\u001b[0m                 \u001b[0mline_trans_path\u001b[0m \u001b[0;34m=\u001b[0m \u001b[0mline\u001b[0m\u001b[0;34m.\u001b[0m\u001b[0m_get_transformed_path\u001b[0m\u001b[0;34m(\u001b[0m\u001b[0;34m)\u001b[0m\u001b[0;34m\u001b[0m\u001b[0;34m\u001b[0m\u001b[0m\n\u001b[0;32m-> 2322\u001b[0;31m                 \u001b[0mna_path\u001b[0m\u001b[0;34m,\u001b[0m \u001b[0m_\u001b[0m \u001b[0;34m=\u001b[0m \u001b[0mline_trans_path\u001b[0m\u001b[0;34m.\u001b[0m\u001b[0mget_transformed_path_and_affine\u001b[0m\u001b[0;34m(\u001b[0m\u001b[0;34m)\u001b[0m\u001b[0;34m\u001b[0m\u001b[0;34m\u001b[0m\u001b[0m\n\u001b[0m\u001b[1;32m   2323\u001b[0m                 \u001b[0mdata_path\u001b[0m \u001b[0;34m=\u001b[0m \u001b[0mtrf_to_data\u001b[0m\u001b[0;34m.\u001b[0m\u001b[0mtransform_path_affine\u001b[0m\u001b[0;34m(\u001b[0m\u001b[0mna_path\u001b[0m\u001b[0;34m)\u001b[0m\u001b[0;34m\u001b[0m\u001b[0;34m\u001b[0m\u001b[0m\n\u001b[1;32m   2324\u001b[0m             \u001b[0;32melse\u001b[0m\u001b[0;34m:\u001b[0m\u001b[0;34m\u001b[0m\u001b[0;34m\u001b[0m\u001b[0m\n",
      "\u001b[0;32m/srv/conda/envs/notebook/lib/python3.9/site-packages/matplotlib/transforms.py\u001b[0m in \u001b[0;36mget_transformed_path_and_affine\u001b[0;34m(self)\u001b[0m\n\u001b[1;32m   2784\u001b[0m         \u001b[0mthe\u001b[0m \u001b[0mpath\u001b[0m \u001b[0mnecessary\u001b[0m \u001b[0mto\u001b[0m \u001b[0mcomplete\u001b[0m \u001b[0mthe\u001b[0m \u001b[0mtransformation\u001b[0m\u001b[0;34m.\u001b[0m\u001b[0;34m\u001b[0m\u001b[0;34m\u001b[0m\u001b[0m\n\u001b[1;32m   2785\u001b[0m         \"\"\"\n\u001b[0;32m-> 2786\u001b[0;31m         \u001b[0mself\u001b[0m\u001b[0;34m.\u001b[0m\u001b[0m_revalidate\u001b[0m\u001b[0;34m(\u001b[0m\u001b[0;34m)\u001b[0m\u001b[0;34m\u001b[0m\u001b[0;34m\u001b[0m\u001b[0m\n\u001b[0m\u001b[1;32m   2787\u001b[0m         \u001b[0;32mreturn\u001b[0m \u001b[0mself\u001b[0m\u001b[0;34m.\u001b[0m\u001b[0m_transformed_path\u001b[0m\u001b[0;34m,\u001b[0m \u001b[0mself\u001b[0m\u001b[0;34m.\u001b[0m\u001b[0mget_affine\u001b[0m\u001b[0;34m(\u001b[0m\u001b[0;34m)\u001b[0m\u001b[0;34m\u001b[0m\u001b[0;34m\u001b[0m\u001b[0m\n\u001b[1;32m   2788\u001b[0m \u001b[0;34m\u001b[0m\u001b[0m\n",
      "\u001b[0;32m/srv/conda/envs/notebook/lib/python3.9/site-packages/matplotlib/transforms.py\u001b[0m in \u001b[0;36m_revalidate\u001b[0;34m(self)\u001b[0m\n\u001b[1;32m   2760\u001b[0m                 or self._transformed_path is None):\n\u001b[1;32m   2761\u001b[0m             \u001b[0mself\u001b[0m\u001b[0;34m.\u001b[0m\u001b[0m_transformed_path\u001b[0m \u001b[0;34m=\u001b[0m\u001b[0;31m \u001b[0m\u001b[0;31m\\\u001b[0m\u001b[0;34m\u001b[0m\u001b[0;34m\u001b[0m\u001b[0m\n\u001b[0;32m-> 2762\u001b[0;31m                 \u001b[0mself\u001b[0m\u001b[0;34m.\u001b[0m\u001b[0m_transform\u001b[0m\u001b[0;34m.\u001b[0m\u001b[0mtransform_path_non_affine\u001b[0m\u001b[0;34m(\u001b[0m\u001b[0mself\u001b[0m\u001b[0;34m.\u001b[0m\u001b[0m_path\u001b[0m\u001b[0;34m)\u001b[0m\u001b[0;34m\u001b[0m\u001b[0;34m\u001b[0m\u001b[0m\n\u001b[0m\u001b[1;32m   2763\u001b[0m             \u001b[0mself\u001b[0m\u001b[0;34m.\u001b[0m\u001b[0m_transformed_points\u001b[0m \u001b[0;34m=\u001b[0m\u001b[0;31m \u001b[0m\u001b[0;31m\\\u001b[0m\u001b[0;34m\u001b[0m\u001b[0;34m\u001b[0m\u001b[0m\n\u001b[1;32m   2764\u001b[0m                 Path._fast_from_codes_and_verts(\n",
      "\u001b[0;32m/srv/conda/envs/notebook/lib/python3.9/site-packages/matplotlib/transforms.py\u001b[0m in \u001b[0;36mtransform_path_non_affine\u001b[0;34m(self, path)\u001b[0m\n\u001b[1;32m   2434\u001b[0m             \u001b[0;32mreturn\u001b[0m \u001b[0mpath\u001b[0m\u001b[0;34m\u001b[0m\u001b[0;34m\u001b[0m\u001b[0m\n\u001b[1;32m   2435\u001b[0m         \u001b[0;32melif\u001b[0m \u001b[0;32mnot\u001b[0m \u001b[0mself\u001b[0m\u001b[0;34m.\u001b[0m\u001b[0m_a\u001b[0m\u001b[0;34m.\u001b[0m\u001b[0mis_affine\u001b[0m \u001b[0;32mand\u001b[0m \u001b[0mself\u001b[0m\u001b[0;34m.\u001b[0m\u001b[0m_b\u001b[0m\u001b[0;34m.\u001b[0m\u001b[0mis_affine\u001b[0m\u001b[0;34m:\u001b[0m\u001b[0;34m\u001b[0m\u001b[0;34m\u001b[0m\u001b[0m\n\u001b[0;32m-> 2436\u001b[0;31m             \u001b[0;32mreturn\u001b[0m \u001b[0mself\u001b[0m\u001b[0;34m.\u001b[0m\u001b[0m_a\u001b[0m\u001b[0;34m.\u001b[0m\u001b[0mtransform_path_non_affine\u001b[0m\u001b[0;34m(\u001b[0m\u001b[0mpath\u001b[0m\u001b[0;34m)\u001b[0m\u001b[0;34m\u001b[0m\u001b[0;34m\u001b[0m\u001b[0m\n\u001b[0m\u001b[1;32m   2437\u001b[0m         \u001b[0;32melse\u001b[0m\u001b[0;34m:\u001b[0m\u001b[0;34m\u001b[0m\u001b[0;34m\u001b[0m\u001b[0m\n\u001b[1;32m   2438\u001b[0m             return self._b.transform_path_non_affine(\n",
      "\u001b[0;32m/srv/conda/envs/notebook/lib/python3.9/site-packages/cartopy/mpl/geoaxes.py\u001b[0m in \u001b[0;36mtransform_path_non_affine\u001b[0;34m(self, src_path)\u001b[0m\n\u001b[1;32m    188\u001b[0m \u001b[0;34m\u001b[0m\u001b[0m\n\u001b[1;32m    189\u001b[0m         \u001b[0;32mfor\u001b[0m \u001b[0mgeom\u001b[0m \u001b[0;32min\u001b[0m \u001b[0mgeoms\u001b[0m\u001b[0;34m:\u001b[0m\u001b[0;34m\u001b[0m\u001b[0;34m\u001b[0m\u001b[0m\n\u001b[0;32m--> 190\u001b[0;31m             proj_geom = self.target_projection.project_geometry(\n\u001b[0m\u001b[1;32m    191\u001b[0m                 geom, self.source_projection)\n\u001b[1;32m    192\u001b[0m             \u001b[0mtransformed_geoms\u001b[0m\u001b[0;34m.\u001b[0m\u001b[0mappend\u001b[0m\u001b[0;34m(\u001b[0m\u001b[0mproj_geom\u001b[0m\u001b[0;34m)\u001b[0m\u001b[0;34m\u001b[0m\u001b[0;34m\u001b[0m\u001b[0m\n",
      "\u001b[0;32m/srv/conda/envs/notebook/lib/python3.9/site-packages/cartopy/crs.py\u001b[0m in \u001b[0;36mproject_geometry\u001b[0;34m(self, geometry, src_crs)\u001b[0m\n\u001b[1;32m    796\u001b[0m         \u001b[0;32mif\u001b[0m \u001b[0;32mnot\u001b[0m \u001b[0mmethod_name\u001b[0m\u001b[0;34m:\u001b[0m\u001b[0;34m\u001b[0m\u001b[0;34m\u001b[0m\u001b[0m\n\u001b[1;32m    797\u001b[0m             \u001b[0;32mraise\u001b[0m \u001b[0mValueError\u001b[0m\u001b[0;34m(\u001b[0m\u001b[0;34mf'Unsupported geometry type {geom_type!r}'\u001b[0m\u001b[0;34m)\u001b[0m\u001b[0;34m\u001b[0m\u001b[0;34m\u001b[0m\u001b[0m\n\u001b[0;32m--> 798\u001b[0;31m         \u001b[0;32mreturn\u001b[0m \u001b[0mgetattr\u001b[0m\u001b[0;34m(\u001b[0m\u001b[0mself\u001b[0m\u001b[0;34m,\u001b[0m \u001b[0mmethod_name\u001b[0m\u001b[0;34m)\u001b[0m\u001b[0;34m(\u001b[0m\u001b[0mgeometry\u001b[0m\u001b[0;34m,\u001b[0m \u001b[0msrc_crs\u001b[0m\u001b[0;34m)\u001b[0m\u001b[0;34m\u001b[0m\u001b[0;34m\u001b[0m\u001b[0m\n\u001b[0m\u001b[1;32m    799\u001b[0m \u001b[0;34m\u001b[0m\u001b[0m\n\u001b[1;32m    800\u001b[0m     \u001b[0;32mdef\u001b[0m \u001b[0m_project_point\u001b[0m\u001b[0;34m(\u001b[0m\u001b[0mself\u001b[0m\u001b[0;34m,\u001b[0m \u001b[0mpoint\u001b[0m\u001b[0;34m,\u001b[0m \u001b[0msrc_crs\u001b[0m\u001b[0;34m)\u001b[0m\u001b[0;34m:\u001b[0m\u001b[0;34m\u001b[0m\u001b[0;34m\u001b[0m\u001b[0m\n",
      "\u001b[0;32m/srv/conda/envs/notebook/lib/python3.9/site-packages/cartopy/crs.py\u001b[0m in \u001b[0;36m_project_multiline\u001b[0;34m(self, geometry, src_crs)\u001b[0m\n\u001b[1;32m    901\u001b[0m         \u001b[0mgeoms\u001b[0m \u001b[0;34m=\u001b[0m \u001b[0;34m[\u001b[0m\u001b[0;34m]\u001b[0m\u001b[0;34m\u001b[0m\u001b[0;34m\u001b[0m\u001b[0m\n\u001b[1;32m    902\u001b[0m         \u001b[0;32mfor\u001b[0m \u001b[0mgeom\u001b[0m \u001b[0;32min\u001b[0m \u001b[0mgeometry\u001b[0m\u001b[0;34m.\u001b[0m\u001b[0mgeoms\u001b[0m\u001b[0;34m:\u001b[0m\u001b[0;34m\u001b[0m\u001b[0;34m\u001b[0m\u001b[0m\n\u001b[0;32m--> 903\u001b[0;31m             \u001b[0mr\u001b[0m \u001b[0;34m=\u001b[0m \u001b[0mself\u001b[0m\u001b[0;34m.\u001b[0m\u001b[0m_project_line_string\u001b[0m\u001b[0;34m(\u001b[0m\u001b[0mgeom\u001b[0m\u001b[0;34m,\u001b[0m \u001b[0msrc_crs\u001b[0m\u001b[0;34m)\u001b[0m\u001b[0;34m\u001b[0m\u001b[0;34m\u001b[0m\u001b[0m\n\u001b[0m\u001b[1;32m    904\u001b[0m             \u001b[0;32mif\u001b[0m \u001b[0mr\u001b[0m\u001b[0;34m:\u001b[0m\u001b[0;34m\u001b[0m\u001b[0;34m\u001b[0m\u001b[0m\n\u001b[1;32m    905\u001b[0m                 \u001b[0mgeoms\u001b[0m\u001b[0;34m.\u001b[0m\u001b[0mextend\u001b[0m\u001b[0;34m(\u001b[0m\u001b[0mr\u001b[0m\u001b[0;34m.\u001b[0m\u001b[0mgeoms\u001b[0m\u001b[0;34m)\u001b[0m\u001b[0;34m\u001b[0m\u001b[0;34m\u001b[0m\u001b[0m\n",
      "\u001b[0;32m/srv/conda/envs/notebook/lib/python3.9/site-packages/cartopy/crs.py\u001b[0m in \u001b[0;36m_project_line_string\u001b[0;34m(self, geometry, src_crs)\u001b[0m\n\u001b[1;32m    802\u001b[0m \u001b[0;34m\u001b[0m\u001b[0m\n\u001b[1;32m    803\u001b[0m     \u001b[0;32mdef\u001b[0m \u001b[0m_project_line_string\u001b[0m\u001b[0;34m(\u001b[0m\u001b[0mself\u001b[0m\u001b[0;34m,\u001b[0m \u001b[0mgeometry\u001b[0m\u001b[0;34m,\u001b[0m \u001b[0msrc_crs\u001b[0m\u001b[0;34m)\u001b[0m\u001b[0;34m:\u001b[0m\u001b[0;34m\u001b[0m\u001b[0;34m\u001b[0m\u001b[0m\n\u001b[0;32m--> 804\u001b[0;31m         \u001b[0;32mreturn\u001b[0m \u001b[0mcartopy\u001b[0m\u001b[0;34m.\u001b[0m\u001b[0mtrace\u001b[0m\u001b[0;34m.\u001b[0m\u001b[0mproject_linear\u001b[0m\u001b[0;34m(\u001b[0m\u001b[0mgeometry\u001b[0m\u001b[0;34m,\u001b[0m \u001b[0msrc_crs\u001b[0m\u001b[0;34m,\u001b[0m \u001b[0mself\u001b[0m\u001b[0;34m)\u001b[0m\u001b[0;34m\u001b[0m\u001b[0;34m\u001b[0m\u001b[0m\n\u001b[0m\u001b[1;32m    805\u001b[0m \u001b[0;34m\u001b[0m\u001b[0m\n\u001b[1;32m    806\u001b[0m     \u001b[0;32mdef\u001b[0m \u001b[0m_project_linear_ring\u001b[0m\u001b[0;34m(\u001b[0m\u001b[0mself\u001b[0m\u001b[0;34m,\u001b[0m \u001b[0mlinear_ring\u001b[0m\u001b[0;34m,\u001b[0m \u001b[0msrc_crs\u001b[0m\u001b[0;34m)\u001b[0m\u001b[0;34m:\u001b[0m\u001b[0;34m\u001b[0m\u001b[0;34m\u001b[0m\u001b[0m\n",
      "\u001b[0;32mlib/cartopy/trace.pyx\u001b[0m in \u001b[0;36mcartopy.trace.project_linear\u001b[0;34m()\u001b[0m\n",
      "\u001b[0;32mlib/cartopy/trace.pyx\u001b[0m in \u001b[0;36mcartopy.trace._project_segment\u001b[0;34m()\u001b[0m\n",
      "\u001b[0;32mlib/cartopy/trace.pyx\u001b[0m in \u001b[0;36mcartopy.trace.Interpolator.project\u001b[0;34m()\u001b[0m\n",
      "\u001b[0;32m/srv/conda/envs/notebook/lib/python3.9/site-packages/pyproj/transformer.py\u001b[0m in \u001b[0;36mtransform\u001b[0;34m(self, xx, yy, zz, tt, radians, errcheck, direction, inplace)\u001b[0m\n\u001b[1;32m    746\u001b[0m             \u001b[0mintime\u001b[0m \u001b[0;34m=\u001b[0m \u001b[0;32mNone\u001b[0m\u001b[0;34m\u001b[0m\u001b[0;34m\u001b[0m\u001b[0m\n\u001b[1;32m    747\u001b[0m         \u001b[0;31m# call pj_transform.  inx,iny,inz buffers modified in place.\u001b[0m\u001b[0;34m\u001b[0m\u001b[0;34m\u001b[0m\u001b[0m\n\u001b[0;32m--> 748\u001b[0;31m         self._transformer._transform(\n\u001b[0m\u001b[1;32m    749\u001b[0m             \u001b[0minx\u001b[0m\u001b[0;34m,\u001b[0m\u001b[0;34m\u001b[0m\u001b[0;34m\u001b[0m\u001b[0m\n\u001b[1;32m    750\u001b[0m             \u001b[0miny\u001b[0m\u001b[0;34m,\u001b[0m\u001b[0;34m\u001b[0m\u001b[0;34m\u001b[0m\u001b[0m\n",
      "\u001b[0;32m/srv/conda/envs/notebook/lib/python3.9/site-packages/pyproj/transformer.py\u001b[0m in \u001b[0;36m_transformer\u001b[0;34m(self)\u001b[0m\n\u001b[1;32m    320\u001b[0m         \u001b[0m_Transformer\u001b[0m\u001b[0;34m\u001b[0m\u001b[0;34m\u001b[0m\u001b[0m\n\u001b[1;32m    321\u001b[0m         \"\"\"\n\u001b[0;32m--> 322\u001b[0;31m         \u001b[0;32mif\u001b[0m \u001b[0mself\u001b[0m\u001b[0;34m.\u001b[0m\u001b[0m_local\u001b[0m\u001b[0;34m.\u001b[0m\u001b[0mtransformer\u001b[0m \u001b[0;32mis\u001b[0m \u001b[0;32mNone\u001b[0m\u001b[0;34m:\u001b[0m\u001b[0;34m\u001b[0m\u001b[0;34m\u001b[0m\u001b[0m\n\u001b[0m\u001b[1;32m    323\u001b[0m             \u001b[0mself\u001b[0m\u001b[0;34m.\u001b[0m\u001b[0m_local\u001b[0m\u001b[0;34m.\u001b[0m\u001b[0mtransformer\u001b[0m \u001b[0;34m=\u001b[0m \u001b[0mself\u001b[0m\u001b[0;34m.\u001b[0m\u001b[0m_transformer_maker\u001b[0m\u001b[0;34m(\u001b[0m\u001b[0;34m)\u001b[0m\u001b[0;34m\u001b[0m\u001b[0;34m\u001b[0m\u001b[0m\n\u001b[1;32m    324\u001b[0m         \u001b[0;32mreturn\u001b[0m \u001b[0mself\u001b[0m\u001b[0;34m.\u001b[0m\u001b[0m_local\u001b[0m\u001b[0;34m.\u001b[0m\u001b[0mtransformer\u001b[0m\u001b[0;34m\u001b[0m\u001b[0;34m\u001b[0m\u001b[0m\n",
      "\u001b[0;31mKeyboardInterrupt\u001b[0m: "
     ]
    },
    {
     "data": {
      "application/vnd.jupyter.widget-view+json": {
       "model_id": "bbfc2704a2924c129090f52af2a852f1",
       "version_major": 2,
       "version_minor": 0
      },
      "image/png": "[encoded data removed]",
      "text/html": [
       "\n",
       "            <div style=\"display: inline-block;\">\n",
       "                <div class=\"jupyter-widgets widget-label\" style=\"text-align: center;\">\n",
       "                    Figure\n",
       "                </div>\n",
       "                <img src='data:image/png;base64,iVBORw0KGgoAAAANSUhEUgAABXgAAAGQCAYAAAAUUwjLAAAAOXRFWHRTb2Z0d2FyZQBNYXRwbG90bGliIHZlcnNpb24zLjUuMSwgaHR0cHM6Ly9tYXRwbG90bGliLm9yZy/YYfK9AAAACXBIWXMAAA9hAAAPYQGoP6dpAADIx0lEQVR4nOzdd3hUZdoG8Puc6emkAaEkNCnSBBFYC6AIKEXE9qmo4FrWhugKRJqggKC4ioiuuhQVewOliIqArkhZioIKIpIAoaeX6XO+P0ImU87UTKYk9++6cjlzznvOeSczieSeZ55XkCRJAhERERERERERERHFHDHSEyAiIiIiIiIiIiKi4DDgJSIiIiIiIiIiIopRDHiJiIiIiIiIiIiIYhQDXiIiIiIiIiIiIqIYxYCXiIiIiIiIiIiIKEYx4CUiIiIiIiIiIiKKUQx4iYiIiIiIiIiIiGIUA14iIiIiIiIiIiKiGMWAl4iIiIiIiIiIiChGMeAlIiIiIiIiIiIiilEMeImIiIiIiIiIiIhiFANeIiIiIiIiIiIiohjFgJeIiIiIiIiIiIgoRjHgJSIiIiIiIiIiIopRDHiJiIiIiIiIiIiIYhQDXiIiIiIiIiIiIqIYxYCXiIiIiIiIiIiIKEYx4CUiIiIiIiIiIiKKUQx4iYiIiIiIiIiIiGIUA14iIiIiIiIiIiKiGMWAl4iIiIiIiIiIiChGMeAlIiIiIiIiIiIiilEMeImIiIiIiIiIiIhiFANeIiIiIiIiIiIiohjFgJeIiIiIiIiIiIgoRjHgJSIiImrk8vLyIAgChg0bJrvfYrFg+fLluPbaa9GsWTOo1WokJyejT58+mD59OvLz853G5+TkQBAEr18lJSVOx/z444+46aab0KJFC6jVajRp0gSdOnXCbbfdhrfeeqtOj2/WrFkQBAGbN28O6DhJkrB+/Xo88MAD6N69O5KTkxEXF4cePXpg3rx5MBgMQc/pzjvvhCAIaNasGSwWi3375s2bfX7vHL8GDhwIAFixYgUEQcD8+fP9ur7RaMTTTz+NCy64AFqtFs2bN8c999yDU6dOuY3Nz8/HP/7xD/Tu3RsZGRnQaDTIzs7G8OHDsXHjxqC/B0REREQUGspIT4CIiIiIold+fj6uu+46/Pzzz2jatCmuvvpqtGrVCpWVldi9ezfmz5+PhQsXYv/+/Wjfvr39OIVCgenTp3s8r1artd9esWIF7r77biiVSlx77bXo0KED9Ho9/vrrL6xbtw7ff/897rrrrnp9nHKMRiOuvfZaaDQaDBw4EEOHDoXBYMCGDRswbdo0rFq1Clu2bIFOpwvovGVlZfj0008hCAJOnz6NtWvX4rrrrgNQHY4/9dRTTuPz8vLw1ltvoUePHhg9erTTvpycnIAfl81mw3XXXYcNGzagb9++GDNmDA4fPozly5fjm2++wfbt29GsWTP7+EOHDuHDDz9E//790a9fPyQlJaGgoACrV6/GunXrMHfuXEydOjXgeRARERFRaDDgJSIiIiJZ5eXlGDp0KA4ePIhJkybh6aefdgpmAeDPP//E448/joqKCqftSqUSs2bN8nmNqqoqTJgwAYmJifjxxx/RtWtXp/1mszngyttQUSgUmDt3Lh588EGkpKQ4zemGG27Al19+iVdeeQWTJk0K6Lzvv/8+qqqq8MQTT+CFF17A0qVLnQJe1+/b5s2b8dZbb6Fnz55+fU99eeutt7Bhwwb83//9H9577z0IggAAWL58Oe6++25MmTLFqWr6iiuuQGFhIUTR+cN/J06cQK9evTBr1iy37xERERERhQ9bNBARERGRrIULF+LgwYMYO3YsnnvuObdwFwDat2+PL774Al26dAnqGvv370d5eTkGDRrkFu4CgEqlwtVXX+20rbS0FAsWLMCAAQOQlZUFtVqNrKws3HnnnTh8+LDT2IEDB2L27NkAgEGDBtlbG/hT+apSqTB16lS34FKlUuHJJ58EAGzZsiWAR1tt6dKlUKvVePLJJ3HppZdi3bp1OHnyZMDnCdabb74JAJg/f7493AWA8ePHo3Pnzvjwww9RXl5u365Wq93CXQDIysrC3/72N5jNZrc2HUREREQUPgx4iYiIiEjWsmXLAAAzZ870OVatVgd1jdTUVADAkSNHYLPZ/Drm999/x8yZM6HT6XD99ddj4sSJuPjii/Hee+/hkksucQobx40bhwEDBgAA7rrrLjz11FN46qmnMHHixKDmW0OlUgGorlQOxL59+7Bz504MHz4cqampuPPOO2G1WuvcZ9hfBoMB27dvR8eOHZGdne22f8iQITAajdi2bZvPcxUWFmL79u2Ii4tD27Zt62O6REREROQHtmggIiIiIjf5+fk4fvw4WrZsiQ4dOgR8vMVi8dhOoFmzZvjHP/4BAGjXrh169eqF3bt348orr8S4cePQt29fXHDBBVAoFLLHd+7cGSdPnrSHwzU2bdqEwYMHY86cOfYq1XHjxiEvLw9btmzBuHHj7IuS1VVN+D1kyJCAjlu6dCkA4I477gAA3HzzzZgwYQKWLVuG3NzckMzNm8OHD8Nms3l8Tmu2Hzp0yK1yOi8vDytWrIDVasWJEyfwxRdfoKSkBP/+97+RmJhY73MnIiIiInkMeImIiIjIzalTpwAALVu2DOp4q9Vqb43gqkePHvaAVxAEfPzxxxg7diy2bNlib3kQFxeH/v37Y+zYsbjjjjucwt7k5GTZ8w4aNAgXXnghvv3226Dm7K+vvvoKr7/+Ojp37oy///3vfh9nMpmwcuVKNGnSBMOHDwdQ/Viuu+46fPjhh/j+++9xxRVX1Ne0AVS3t6i5rpykpCSncY7y8vKcntOEhAQsX74cY8eOrYeZEhEREZG/GPASERERUchpNBoYDAa/xrZt2xZbt27F3r178e2332Lnzp3YunUrNm7ciI0bN+Ltt9/G+vXrodFo7Mds3rwZL730ErZv345z587BYrHY9wXSLmLVqlXYu3ev07aBAwd6rPT93//+h1tuuQXJycn4+OOPnebkz7UKCwvxj3/8w2mOd955Jz788EMsW7as3gPeuhg4cCAkSYLZbEZeXh7eeOMN3HnnndixYwdefvnlSE+PiIiIqNFiwEtEREREbpo1awYAKCgoCNs1e/bsiZ49e9rvb968GWPHjsWmTZvw6quv4rHHHgMAfPzxx7jllluQkJCAoUOHIicnB3FxcRAEAStWrAhowa9Vq1bJ9r+VC3j37NmDIUOGQBAEbNiwARdeeGFAj6+mrUNNe4YaQ4cORbNmzfDxxx/j5ZdftlfR1oeayl25Cl0AKCsrcxonR6VSoUOHDnj++edRVVWFxYsX45prrsE111wT+gkTERERkU9cZI2IiIiI3GRnZ6NFixY4duwYDh06FJE5DBw4EM888wwA4LvvvrNvnzVrFrRaLXbt2oWPP/4Yzz//PGbPnm3fHogVK1ZAkiSnL7newbt378bgwYNhtVqxYcMG9OnTJ6DrHDt2DN988w0A4NJLL4UgCPYvpVKJU6dOoaqqCh988EFA5w1Uu3btIIqix+e0Zru/fZdrehBv3rw5JPMjIiIiosCxgpeIiIiIZP3973/H008/jTlz5shWuToymUwBtUbwV3x8vNu2w4cP48ILL3QLIU+cOIHDhw+7ja/p32u1WoOaQ024a7FYsGHDBvTt2zfgcyxfvhw2mw2XXXYZOnbs6LbfZDLhnXfewdKlS3HfffcFNU9/aLVaXHLJJdi2bRvy8/ORnZ3ttP/rr7+GRqPx+zGeOHECAKBU8s8KIiIiokhhBS8RERERyXriiSfQsWNHvP3225g6dSqMRqPbmCNHjmD06NH47bffgrrGkSNH8Morr6C8vNxtX2VlJRYtWgQAuOyyy+zbs7Oz8eeff+L06dP2bQaDAQ888IBTL94aqampAIDjx48HPL+acNdsNmP9+vXo379/wOeQJAnLly+HIAh4++238Z///Mft6+2338ZFF12EHTt2YP/+/QFfIxA1AXJubi4kSbJvX758OX7//XfccsstTm0iduzYIdtPOT8/H88++ywAsD0DERERUQTxrXYiIiIikpWYmIgNGzbguuuuw7PPPovly5djyJAhaNmyJaqqqrBnzx78+OOPUCqVWLhwodOxFotFttVBjXHjxiEnJwelpaV45JFHMGnSJFx++eW48MILodPpUFBQgDVr1qCoqAi9e/fGI488Yj/2kUcewSOPPIKLLroIN954IywWC7755htIkoQePXrg559/drrWoEGDIAgCpk2bhgMHDiA5ORnJycl44IEHvD7+oqIiDB48GMXFxRg2bBi++eYbe5uFGikpKZg4caLX82zcuBF5eXkYNGgQ2rRp43Hc+PHjsWfPHixduhQvvvii13N68vHHH+PAgQOy+2677TYMGTLEvqjbBx98gCNHjmDgwIH466+/8Omnn6JVq1ZYsGCB03Hz5s3DDz/8gAEDBqB169ZQKpU4fPgw1q1bB5PJhMcee8wpgCciIiKi8BIkx7ftiYiIiKjRycvLQ5s2bTB06FB89dVXbvvNZjNWrlyJjz76CHv27EFRURG0Wi06dOiAoUOH4oEHHkCrVq3s43NycnwudLZp0yYMHDgQRqMRa9euxYYNG7B9+3YUFBSguLgYSUlJuPDCCzFmzBg88MADTr11JUnCG2+8gcWLF+Pw4cNISUnB8OHDMW/ePNx8883YsmULXP+J+9Zbb+GFF17AH3/8AaPRiOzsbOTl5fn1ffHGn/Pceuut+OCDD/DOO+9g7NixHscVFhYiKysLSUlJKCgosLe82Lx5MwYNGoS77roLK1askD12xYoVGD9+vNd5vPjii/Yw2mg0YsGCBXjnnXdw9OhRNGnSBMOHD8ecOXPQvHlzp+PWrFmDd999Fzt37sSpU6dgMpmQmZmJSy65BPfeey+rd4mIiIgijAEvERERERERERERUYxiD14iIiIiIiIiIiKiGMWAl4iIiIiIiIiIiChGMeAlIiIiIiIiIiIiilEMeImIiIiIiIiIiIhiFANewn/+8x8IgoCEhAS3fbt378bgwYORkJCAlJQUjBkzBn/99ZfseRYvXoxOnTpBo9GgTZs2mD17Nsxms9u4M2fOYNy4cUhPT0dcXBz69++PjRs3hvxxERERERERERERNXQMeBu5goICPPHEE8jKynLbd+DAAQwcOBAmkwkfffQRli1bhj/++AOXX345zp496zR27ty5ePTRRzFmzBhs2LABDz74IObNm4eHHnrIaZzRaMRVV12FjRs3YtGiRVi9ejWaNm2KYcOGYcuWLfX6WImIiIiIiIiIiBoaQZIkKdKToMgZOXIkBEFAamoqPvnkE1RUVNj33Xzzzdi0aRMOHz6MpKQkAEB+fj46dOiAxx57DAsWLAAAFBYWomXLlrjzzjvx+uuv24+fN28epk+fjv3796NLly4AgFdffRUPPfQQtm7div79+wMALBYLevTogYSEBGzfvt2vedtsNpw4cQKJiYkQBCEk3wsiIiIiIiIiokiTJAnl5eXIysqCKLI2k/wgUaP1zjvvSImJidKxY8eku+66S4qPj7fvM5vNkk6nk+6//36344YMGSJ16NDBfn/lypUSAOmnn35yGnfixAkJgDR37lz7tsGDB0sdO3Z0O+e8efMkANLx48f9mvuxY8ckAPziF7/4xS9+8Ytf/OIXv/jFL37xi18N8uvYsWN+ZSRESlCjdObMGUycOBHz589Hy5Yt3fYfPnwYer0e3bt3d9vXvXt3fPPNNzAYDNBqtdi/fz8AoFu3bk7jmjdvjvT0dPt+ANi/fz8uv/xy2XMCwK+//ooWLVr4nH9iYiIA4NixY/bqYiIiIiIiIiKiWFdWVoZWrVrZsw8iXxjwNlIPPvggOnbsiAceeEB2f2FhIQAgNTXVbV9qaiokSUJxcTGaN2+OwsJCaDQaxMfHy46tOVfNeT2d0/G6roxGI4xGo/1+eXk5ACApKYkBLxERERERERE1OGxJSf5iI49G6NNPP8WXX36JN9980+cvC2/7Hff5Oy7QsTWeffZZJCcn279atWrl8RxERERERERERESNBQPeRqaiogIPPfQQHnnkEWRlZaGkpAQlJSUwmUwAgJKSElRWViItLQ2AfEVtUVERBEFASkoKACAtLQ0GgwFVVVWyYx0rdtPS0jyeE5CvGAaAJ598EqWlpfavY8eOBfbAiYiIiIiIiIiIGiAGvI3MuXPncPr0abzwwgto0qSJ/ev9999HZWUlmjRpgttvvx3t2rWDTqfDvn373M6xb98+tG/fHlqtFkBt713XsadOncK5c+fQtWtX+7Zu3bp5PCcAp7GONBqNvR0D2zIQERERERERERFVY8DbyDRr1gybNm1y+xo6dCi0Wi02bdqEOXPmQKlUYuTIkfjss8/s/W4B4OjRo9i0aRPGjBlj3zZs2DBotVqsWLHC6VorVqyAIAgYPXq0fdv111+PAwcOYPv27fZtFosFK1euRN++fZGVlVVvj52IiIiIiIiIiKihESRJkiI9CYq8cePG4ZNPPkFFRYV924EDB9CnTx/06tULubm5MBgMmDlzJoqKirB3715kZGTYx86dOxczZszAk08+iSFDhmDnzp2YPn067rzzTrzxxhv2cUajEb1790ZZWRnmz5+PzMxMvPrqq/jyyy/x7bffYsCAAX7Nt6ysDMnJySgtLWU1LxERERERERE1GMw8KFCs4CWPOnXqhM2bN0OlUuHGG2/EuHHj0L59e3z//fdO4S4ATJs2DS+99BI++eQTDBkyBIsXL0Zubi6WLFniNE6j0WDjxo0YNGgQHnnkEYwcORInT57E+vXr/Q53iYiIiIiIiIiIqBoreCkm8d0sIiIiIiIiImqImHlQoFjBS0RERERERERERBSjGPASERERERERERERxSgGvEREREREREREREQxShnpCRARERERERFRcHJy14bsXHnzh4fsXEREFD6s4CUiIiIiIiIiIiKKUQx4iYiIiIiIiGKczVABS9lZSDZrpKdCRERhxhYNRERERERERDHMcGw/Tr+X67Y96743oGqSFYEZERFROLGCl4iIiIiIiCiGlW79UHb7iTfuC/NMiIgoEhjwEhEREREREcUwdWabSE+BiIgiiAEvERERERERUQwT45IjPQUiIoogBrxEREREREREsUyyRXoGREQUQQx4iYiIiIiIiGKYZLN63W84th82Y6X9vtVQUd9TIiKiMFJGegJEREREREREVAc2zxW8xxbfDltVKQCg+bhFMOT/jOJNyxB/4SCkj/hnuGZIRET1iAEvERERERERUSzz0qKhJtwFgJMrHrXfrvx1E8r3bYQgCPU6NSIiqn9s0UBEREREREQUo/LmD8dDA9sGdazBYAjxbIiIKBIY8BIRERERERHFMKvVew9eT0wmU4hnQkREkcCAl4iIiIiIiCiGBRvwpqSk4IYbbgjxbIiIKNwY8BIRERERERHFMIvFEvSxn332GQRBgCRJIZwRERGFExdZIyIiIiIiIophwVbwOtq4cSMGDx4cgtlQY7ZyWz6mr9of6WnY5c0fHukpEIUFA14iIiIiIiKiGNBz9gaU6C1I0Smx96mh9u2LFy+2327RogUKCgoCPneLFi1CMkdq+Ca8vwdf/Hwi0tMgIgcMeImIiIiIiIhiQIne4vRfADh+/LjTmPbt2wcV8LJFA7nKyV0b6SkQkZ8Y8BIRERERERHFqNtuu83pviAIQZ2nLn18SZ7BYIDJZAr4uMkf/4x1+0/5PT5Zq8CPTw7GLf/+Cb+eLAv4euEiSTZYq0phLTsH4/FfYTpzBJAkSFYTlEkZqPh5AwBA174vjCcOQptzERTaeFQe/BG2ymLEdR4ITcvOsFUWQ1AoYS46AW3ORYBCCUEUYTy2HxBVqDr0IzKuexKqJlkoK6u/74dGo4FGo6m38xMFQpD4Nh3FoLKyMiQnJ6O0tBRJSUmRng4RERFRg+daycW+hkTh5/hzWPMzOG3aNMybN8++fc2aNRgxYkTA577jjjvw9ttv132SBKA63M3JaY3Tp89GeipUjwwGQ72EvMw8KFCs4CUiIiIiIiLywtNH1fPmD/f45kegH2+Xe9NELtB1ddlllznd79Onj1/XS0xMRHl5uf3+O++8w4A3SHILi9mMVTh9+iz27/8eiYkJfp1HFNVITGwZdBV2rJMkCaWlRwDUXx2iIIhITm5T5/OUlZWhVatWMBqNrOKlqMCAl4iIiIiIiCjKuAbEngLj+++/3367Q4cOyMzM9Ov8P//8M9q2bRv8BBug+ug5m5iYgKSkRL/Ha7WARtN4KzYFIQ02m7Hezq9QaJGYGNj3t+aD7401eKfYwICXiIiIiIiIyAub2QhBVMBmKIcivon7fmMVRE2cX+eqOrQd1soiCCotrBVFSO57Q9DzOnnyJI4dO2a/365dO7+PbdOm7lWM0WrC+3vwxc8nIj2NoFgsBmg0yZGeRsQolVqYTPUV8AqIj2/m92hJssFsroDBUAxRVEKrTYdSyWpdik4MeImIiIiIqM78+Sg5USz65JNPcOxfNzlta3bXS9A0aw8AyF9Q2+82e8oar+cq3fohSn54x2lbyeblPo/z5Pvvv3e67++CXldccUVQ1/Nl5bZ8zP7iV5htXOonWJJkjfQUIspmM4fwbAIc2z3ExWVCFP2LwSRJQmXlaVgslfZ5VVQcg0KhhUKhhsFgCOE8ieqOAS8REREREfkkSRIsxSegbNIcgiBGejpEYXPTTTe5bTv11kRk3fNvt+3WqlKv53INdx3l5K4N+M0RpdL5T3q9Xu/XcW+88UZA16kRy5WxgZAkG2yGStgqS1C+dx3UzS+AICoh2SyA1YzSrR9CkZAKY8HvIb+2xVIFq9UMhUIV8nNHO0mSYLFUheRcoqhCYmLr6ufSZoYoKv0OdwHAbC63h7uOrFYDrFYDDIZymaOIIocBLxERERER+VT83X9Q/r/ViOs8ABmjJkV6OkRh06FDBxw6dMhte8n3bwO433mjzeb1XCkD70bJ5mUhm1uwPUFFsfpNmuHDh2Pt2trq+/roQRttJJsVkkkPY8EB2IwVsBmrYC4qgLHgd5hO/uH3eSylp+ttjhZLFRSKxtemIVTVu6KoRkJCFgRBgCAoIIoKv4+VJAk2mxl6fVFI5kIULgx4iYiIiIjIp/L/rQYAVP2+BWDAS41Is2bNZANeKNz/nJYgBRySirokSJIkG9ZKVgsqf9sMRXwT6Nr2dt8vObdC8DfwHbhwM1RN/kBppX8LsgVLkiRIZgMsZWchmfQwnc2DZDGh+LulSOo9EoI2HtaKYoiaOEhmA8p3fWk/VtumF1RNmqPy4I+QTAZIZgOUyU0Rf+GVKN36vtu14jpfAQgCjMd+hbX8nH27qEuCTV9Wr48z1ESx8VXvAgiowtYThUKL+PhmAZ9LkqyoqjoHs7kCjm0diGIFA14iIiIiIiIiD1xD1BqyrUo8jK3lXuFr05fh9LuT0fT2BW77yveuR/G3rwMAmo9fDHVm9cJonlo5qFSBBoPBVQADgM1sgKXkFCzFJ2A6dRilP30Y0PFlOz/3ut9wZDcMR5y3WUpPy4a7AFD1+/ey24MNd7VtesNmKIPp5CHEXzgI6qbtICiUgKiEseA3iGodrPpyQBCgzmyD+M4DISiUEHWJAADJbMSxl24O6tqNlSCISEhoiaqqU6jpn2uzWeErcBUEBXS6dKhU8UG3EKrutxua9hBEkcCAl4iIiIiIAiJZLW7bahaayrz5aQBcZI0aDk8BL0Ql2rhV60rVPx+iQraa1nTmiNs2ADAW/A79nzsBjHTaXhPuAkDFL98gdfB9XucaHx/vdb8r1ynmLxiB5Mtuhza7B0yn/oQiLglWfTmslSWwVRbDUlEIw1+7ArpGNNO16wNd+75QJjeFIqEJlCnNIao0Po9L7DnM55hga0B1ukyoVHFBHh37lEotkpJy7PclSYLZXA6DoQg2m+P/e0SoVPFQq+OhVMYH3a4EACwWA8NdinkMeImIiIiIKCCSxeh0f8OGDfbbZz6aCXw4I9xTIpJ16fyNKCgxoEWKFj/mXuW2f+W2fMz+4leYbRJapGhxpswIs606mhvVIwsv33qRx3OLag1sLuFvwavj7Lezp6xxO6bqty0ez2czVNhvS5KE00H8HAUacglqndu20v++i9L/vhvwtf26nlIDVVpLmE4fRuqwCVDoEmA6mw9VagsoElJhrSyB6dQhqDJyYDNUQN20PcxnDkPUJsJwbD+0rbpC1CbAWPA7Srd+AG2bXgAATfOO0LToBGWTLAiiAoJaC1Ed5zFoj1ZKpQ5qdWKkpxFVBEGAWp0ElSoRkmQ9384EEARlSJ5bSbKhqiqwfspqdTISExtfj2SKbgx4iYiIiIgoIJLLQlKnTp2K0EyIvCsoMTj915Frr1zXMV/8fAJf/HwCLTxU8CqbtAAkz4uq2YyVEDW1FbVyle+ebNmyBYa8PX6Pr+F34HX+Y+zxF16Jog1LAr5OjbguA6BKyYJkNkCR0ATq5hdAldYKojoOgtK/dhFxF/zN6X58p8uc7mtbdq7e3mWAfZuubW+kXD426HnXhzmju2Jsv2z7/bKyMiS/FNg51OrkmAqkw6l6wbTQR1gWi96vxd0EQYRanQyNJhmiqITFElt9nanhY8BLRERERESB8RJqETU0HnvwiiJKvFS61gS6ksWEM588DXPxCb+vWVxc7Ne4f6x0bpew8cBZvxZ5EzXVLQBElQYtJ7yH4y/f5j4mPgWarE6Iu6A/FPFN7F+iLhGCqPBrfrHGNaQNJ0EQG3VrhkjxtaCdKKqh1TaBSpXA8J2iGgNeIiIiIiIKjEvA67FHKVEDsCuvSHa7ZLOh7KePPB4n2awAgNJtn8CQvzega4qi/EJRhmP7UXXgB/x+V1tc89Zf7gO8BFCpwx5B+a4vEXfB36DQJdm3K3RJsu0kws2xJYZj64zuLZLxxSOXYdTi/+KXglL7/YZGrU4MeoEwCp5CoYZCoYXV6lzBL4oa6HRpUCp1DHYpJjDgJSIiIiKigLi2aCBqlHxVsp8PeA15ewM6bU7uWlT9KbOQmSDg9Hu5AICuvb9HqwnvA65vrngJohK6XonEHkMDmkugVKKAQ/OurfN5xvbLdqukbYihrqP6aD9A/klIyILZXAmjsRiCoIBGkwKlMo7BLsUU/gYhIiIiIqLAsEUDxTB/WhjUsFaVwnTyoOw+X2901FTwGgt+8+taL9zco/aOj0pOm7685iJO263l5wBUt1ewVZbYt2f+31wICv964noSqvCW5Nls/vdoptCq7q+byAXuKKYx4CUiIiIiooD8OGWQ0322aKBoZLFYcObTp2GtLEbG6GnIyV2LvPnD/T7eXHIKJ16/x/MAyer9BDYf+70Q4F45WP6/1U73rZXFOPfFc86XNFQAAFo++BbM5/KhSs/2u19uIN8bCj2TqQxKpQ5qdUKkp0JEMYgBLxERERERBcRqDT64IgLcq2g9hYs1fVfl+Aok33nnHej/3AEAKFy/CE1veSagOXoNdwHAzwre+nL8lTvctmXeXP0YBVEBdWZbn+dgqBtNJFRVnYIgNIdKFR/pyRBRjGHAS0REREREAbGxBy+FQSCtFOT89lttawRD3p66TseN5KtVSZhbmaSPnARVSjO/xjLYjV5VVWeQlJTD/q9EFBAGvEREREREFJABCzZClXbQHhKxRQOFWl3DXQD417/+5bbt6aefRv6CpwAA2VPWeD0+vuuVqNz/ncf9lfu+9T6BulTwBhju+XosNRjsRj9JsgKQAJk2HUREnjDgJSIiIiIiWZ5CNp+Vi0QhdGzR/9l7ywJA1t9fgyq9lds4x9dr3vzhbpXmhqO/4Kn3n7Lft5SdhTIpw+N1zYXHvM7LUnra6/76btFQw1e4m6JTYu9TQ8MyFwoNs7mSC34RUUAY8BIRERERUWBcAl5W8FJ9kCQbjj43ym37iaUPoPXkLwM+n/7w/5zu20x6z9e2mmE6eSjgazhfIPCAN9DK5aQ+18tuZ6VubDMayxjwElFAGPASEREREVFgWMFL9ez0R0/BcGSXx/2STDhrM+lhM5RDmZQJABgyZAi+/vpr+35lkyyXAzwHsMaTfwQ4Y3enVk6q8znkJPW/BYr4FMR3vgKKuGS3/XNGd62X61L4WK16SJLEPrxE5DcGvEREREREFBhW7FI98xbuyqmqqkLBG/fCVlmKzJtmARgOs9nsPMi18txbhW0EFxK06ssg2Syy+8S4FDS54g637d1bJOOLRy6r76lRGEmSFYLAyIaI/MPfFkREREREFBDJxhYNVH/8alNwPqytGVu+Zx1slSUAgDMfPwVgpnvA68prC4Xwv6Z//fVX5D//vNcxgkIlu53hbsNjsejZpoGI/CZGegJERERERBSdjCcPofL3HyBZnasJT739WIRmRA1ZTu5ae2ArqDRex0qS5BQESxb3MNdnwOul1Yjrmxj+UpxvDxGM532EuwAgKNxrtNhvt2EyGksjPQUiiiGs4CUiIiIiIjcFBQX2ILfJlfe67ZcL1IhCxXfA6rvC1mQyuRzifIzXFg1B9plWp7dG5gPLULrtE5RsWRHUObxxDXjZb7fhsloNsNmsEEVFpKdCRDGAAS8REREREbn54IMP7LeLv3vTbX/hhiXAwtEA2KKBQkuymH0HrG6vOffXoGsF79PXXYiHv3E8xMs1gnxNX9WlGfYBkMzGgI9VJGXCWnbG65gLW6VhDyt2Gw1JsgBgwEtEvjHgJSIiIiIinzIyMnD27Fn7fZupMoKzoYbIXFSAE2/e799gmw35C0YAAFo8+JZsIHvgRInT/Rmr9jnd91YlLAVZwSuK1V0QS7e+H/CxNkO5zzG/na4K+LwUqwSIonzPZSIiV+zBS0REREREPul0Oqf72pYXRmgm1FD5He4COL7kDvvtglfvgmsFb07uWsBmgTdnPpyO/AUj5Fs1BBnwKhTV1ZaCJj7gYyWT3ucYuR681DDFxzeDIDCyISL/8P8ORERERETkk7c2DGzREHscFyjzpj4W8PL32oEo3rTMbZvr4oA2fZnssZW/bkZCt6ucNwa7yJpCgbz5wyE9W26v5g0lQcGKzsaisvIklMo4xMc3hyAIkZ4OEUU5BrxERERERBQ4hrrkgWOAWx8Bsb+s5eec7pf+KN82QbKa3LfVtYJXEND6ic9Rvmcdqg5uRVyHftC27Y2TSx8M6rw1rJUldTqeYovFUgWzuRJqdUKkp0JEUY4BLxERERERUSOyclt+QOMDCWyDrc7NyV0LiApArl1CEMwlp/weK6rj3DcG+QZGTcALVFfbJl18HZIuvi6oc8kxnwvsuaPYZzKVMeAlIp/Y0KWR2bt3L4YPH47WrVtDp9MhNTUV/fv3x8qVK93G7t69G4MHD0ZCQgJSUlIwZswY/PXXX7LnXbx4MTp16gSNRoM2bdpg9uzZbqvWAsCZM2cwbtw4pKenIy4uDv3798fGjRtD/jiJiIiIKLTc2zBIXvZRNHtt8+FIT0FekG0R5Jx4/R6/x8pW6wYZNDsGvEShIIp8TRGRbwx4G5mSkhK0atUK8+bNw7p16/D2228jJycHd9xxB+bMmWMfd+DAAQwcOBAmkwkfffQRli1bhj/++AOXX3650+rJADB37lw8+uijGDNmDDZs2IAHH3wQ8+bNw0MPPeQ0zmg04qqrrsLGjRuxaNEirF69Gk2bNsWwYcOwZcuWsDx+IiIiIqLG7oGB7dy2mc7mIX/BCKcv2cXH/FC44RUYTx4K6JjqNwki9EaB7OOsewVvfWg9+ct6PT9FH4VC53sQETV6bNHQyAwcOBADBw502jZixAgcOXIEb7zxBqZPnw4AmDlzJjQaDdasWYOkpCQAQO/evdGhQwcsXLgQCxYsAAAUFhZizpw5uPfeezFv3jz7NcxmM6ZPn46JEyeiS5cuAIClS5di//792Lp1K/r37w8AGDRoEHr06IHJkydj+/bt4fgWEBEREZEfXBf1YZVuwzG2Xzamr9rvtO3ksofdxpXvWgNgVEDnzl8wAgBQsfcrNB+/2Od4q6ECxxf9X0DXCDW5IPvclwuDOtcnu09geV0n5AUX22p82J6BiPzBCl4CAKSnp0OprM77LRYL1qxZgxtuuMEe7gJAdnY2Bg0ahM8//9y+7auvvoLBYMD48eOdzjd+/HhIkoRVq1bZt33++efo2LGjPdwFAKVSibFjx2LHjh0oKCiop0dHRERERKE29drO9tsMfxsosfrPxdMfTMXxV+4IuKK36tA2n2MiHe4CAIJcUE0WA1gKMb2+MOhF/4io8WDA20jZbDZYLBacPXsWr776KjZs2IApU6YAAA4fPgy9Xo/u3bu7Hde9e3f8+eefMBgMAID9+6vf+e/WrZvTuObNmyM9Pd2+v2asp3MCwK+//hqaB0dERERERB7JLbKma9fHbZuoTcCzzz4LQ/4vsFYW4+gLY+zH5+SutX95om7q3goiKoVoYTcAgMA/sSm0TKZSWCz6SE+DiKIc/+/TSD344INQqVTIzMzEY489hpdffhn3338/gOq2CwCQmprqdlxqaiokSUJxcbF9rEajQXx8vOzYmnPVjPV0TsfryjEajSgrK3P6IiIiIqLwYZVuwyG7yJrc8yvZMHXq1Nr754NQ1/YOHvlRdRh/4SD/zlWPzMUnne7bzMagzyWZGMRR6BkMRQx5icgr9uBtpKZOnYp77rkHZ86cwZdffomHH34YlZWVeOKJJ+xjvPV3ctzn77hAxzp69tlnMXv2bI/7iYiIiCi0fPX6dAx8Gf5GL8cK27z5wwEAvbOboKDEj7DIZkPv3r2xa9cuAIC6eYfALu5HwCvZIv/R8/L/rUb5/1YDAJqPWwRRmxj0uWyGilBNS1bNc0iNi9VqhMlUDqXS84JrkiTBZCqDIIhQq4N/DRNRbGLA20i1bt0arVu3BgBce+21AIAnn3wSd911F9LS0gDIV9QWFRVBEASkpKQAANLS0mAwGFBVVYW4uDi3sb1797bfT0tL83hOQL5iuMaTTz6Jxx9/3H6/rKwMrVq18uehEhEREVEIMMRtOL7/46zbNgnuz68k2SCKtR/6FESV/ba5+ASUiekQlGqP1/ErvLWafY8Jo5MrHq3T8Qk9hvo9Nn3kJIjxKVDEJUMyG3HqnX/W6doUnapDWQGQ+RkLhNlcAbM5HiqV+6dnq/dXQq+v/tlWqRIitiBfddBcCqUyDqKo4sKARGHCgJcAAJdccgn+/e9/46+//kLv3r2h0+mwb98+t3H79u1D+/btodVqAdT23t23bx/69u1rH3fq1CmcO3cOXbt2tW/r1q2bx3MCcBrrSqPRQKPRBPfgiIiIiIjIzmiR6Tkrlz1JEvbmOxRoKBQoLy9H/oIR9k0tH17p+UIeKnjz5g+3VxZLNos/U44JiRdfB12Hfn6P17btDYU2oR5nRNEgISELiYkJ0OsLYbFUwWYL7k0NSbKhsvIkEhNbQaFw/9vYaq1tLRKuUFWSJJjNFbCd/zmWJAtMpgpIkvPvGI2mCbTaVIa9RPWIPXgJALBp0yaIooi2bdtCqVRi5MiR+Oyzz1BeXm4fc/ToUWzatAljxoyxbxs2bBi0Wi1WrFjhdL4VK1ZAEASMHj3avu3666/HgQMHsH37dvs2i8WClStXom/fvsjKyqq3x0dEREREocUWDbFBslpgMxuCPNgGWGsDWEFUYsmSJU5DKn7eYL9tc6nYffn/evoxvxAucBZByiZZSL3q3oACLEGh8j2IGgRBEBEXl4GkpGwkJraGQqEN+lwWixFlZXnQ6wudfveqVHEQBCXi4pqFYsp+qagoQFXVaRgMhTAYCmE0lrqFuwBgNBajouI4rFYjbDYzTKZyGI1cV4colFjB28jcd999SEpKwiWXXIKmTZvi3Llz+Pjjj/Hhhx9i0qRJyMjIAADMnj0bffr0wYgRI5CbmwuDwYCZM2ciPT0d//xn7UeHUlNTMX36dMyYMQOpqakYMmQIdu7ciVmzZuGee+5Bly5d7GPvvvtuLFmyBDfddBPmz5+PzMxMvPrqqzh48CC+/fbbsH8viIiIiMh/DHFjzxtvvIGjC6sXUk7sNRw4379Vo1RAb3atrnV/fkVIkByqDQWFEtnZ2c5j4pJqq3EtzpWJNa8ZuT7AAHD2i+dgOLIrwEcVnSzFJwI+RlA6B7yJF19n7wVMDZdCoUZCQgsYjcUwGIoCPl6vPwOgOjRVqxPs1bxKpQ7JyTmhnKpXVqsZVqv/bx5ZrUaUlx9z2qZSxUMUFaGeGlGjxAreRqZ///7YsWMHHnroIQwePBj33HMPTp06hXfeeQfPPfecfVynTp2wefNmqFQq3HjjjRg3bhzat2+P77//3h4C15g2bRpeeuklfPLJJxgyZAgWL16M3Nxct3f3NRoNNm7ciEGDBuGRRx7ByJEjcfLkSaxfvx4DBgwIy+MnIiIiotBj+Bud7r//fvvt8t21IesTQzu6D5Z5DmcM7wTJoYIXCiUe/fSA8yCh9k9KyaWfrmtFbw2r1Yr8BSNQ9fv33qZf71pP/hItHnobTW9/Drr2fX0fEAIZY6ZDmdwUKVfcCUEQkTd/uD30bnLl3wFW9TYKgiBAq01FQkILVPfnDU5l5WnYbM4Vs5JkC8vv5Kqq03U+R1nZEZSXH4fBUASr1RjSeUuSBItF7/b9IWqoWMHbyIwfPx7jx4/3a2zv3r39rqydMGECJkyY4HNc06ZN8dZbb/l1TiIiIiKKHq5/eDPUjX4tWrRAQUFB0MdbrVZYy2oXZBNEJdwqfR0CYMml566n14hjG7dIEgQByoRUKBNSoW3ZxWnfmU+fhv7PHX6fq/XkL/waF9ehH+Jk+vTWhLza9zvCeGy/39el2KZU6pCQ0AIGQyEsFiMAPxYmdGCzmWAwFEGlioMoqiFJVlRUFECtTkRcXKbH46xWM2w2k8cF2/y7dmj6Z1utBlitBhgMRRAEBRQKLbTaJlAqg29jAVS3j7BaDdBokqHTZfg+gCjGMeAlIiIiIjcdpq6D2SYfznRvkYwvHrkszDMiokB16tTJHvCq0mtbKyzccNCv499//33nDaLoVunrtEia1Tnw8RTwrlmzxq/rR1LqkIdwtrIYksUM89k8p32all1gPP6b/X72lBA+Hg9Vz9RwKZXa85W8gNlcBb3+bEALsZlMpTCZSl22lXkNeCsrT8BmMyMxMRuKIKrG6+sNPkmywmKpREVFFZKSsiGKwUdWoqg630KCC7tR48AWDTHijz/+wKZNm7Bu3Trs2LEDpaWlvg8iIiIiCkJO7lqP4S4A/FJQ6tRTkxomX4tFcZG16Of8HPp4jmSewz179riNceuz67BImuHoL077PLVoiAXKxDQ0v/NFZN78tNu+5P631Nt1VZk59XZuin4qVRwSE1sjPj6rTuGmSpXodX9tgBz4z6gkSdDrz0KSQlPB6+EqsFpNdTpDXFwG4uKaQqNpEqI5EUU3VvBGsW3btuHf//431q9fj3PnzgGo/mUqCAJEUUTPnj0xduxYjBs3DsnJyRGeLRERERE1ZHIh7qjF/8UvBaUo28WPlEcjq0P46tgrt3VqHEoKfBeMpKen49SpU7UbbDac+2KB8yDHCt4G2MZDEAKriXJcRC4YSX2uR8WedXU6B8U2QRCgUsVBpcqBJNlgMBTDZCp1a4HimQitNsWvkRaLEaKo9vmGniOTqQwmU5nf44MhCAoolbo6nkOEWu096CZqSBjwRqG9e/di4sSJ+P7779G5c2fceOON6NWrFzIzM6HValFUVIS//voL27Ztw7Rp0zBjxgxMnToVjz/+ONRqdaSnT0RERESNxC9+hIQUOY4Br+CwUv0+2efNPYx1rcCVJPfFikq+fxvJ/W+uvoZa5zJePuBt1aoVjh075nHeUUV0D3gFZd0WQvMWAv9v1nBkvVGn01MDIggidLo0aDRJqKgo8KvvbUJCFhQKjdcxanUyTKZS6PVnoFCoAgpTLRa932PrRgLbKxD5jwFvFOrbty9uv/12/Otf/0KvXr28jq2srMQHH3yA5557DhaLBdOnTw/TLImIiMgbxxYGjn/Me9ru7XhXda0QIwqFhlCd2dA5VfA6BJValQJ6s2tY6/58Oh0PeOwPW/MpQ7isVu+pRUPz5s1jJuB1reBVJKQ6VUOHmk5Xt6pFaphEUYWkpBxIkgSTqQwWSxWsVtP5wLf6Z1elSkJcXBoEQeH9ZAB0ujR7396axc0AQKHQQK1OgCh6fhPDYqmq+wPyQZKsMBiKodOl1fu1iBoKBrxRaP/+/ejQoYNfY+Pj4/H3v/8d48aNi5l/JBEREVHk9Zy9ASV6C1J0Sux9amikp0NRyPUjuwx0Y49jQHtR61T77WnDO2P6Kt9tNSwWl2pBm3sFLwBAsgGCApLLfrnXTFVVFXbs2OHz2lHDJcxt+dDbsBoq7PfjLxwU0svFx8eH9HzUsAiCAI0mGRpNdYvGmp+xQFosVI8XodWmwWAodKrINZsrYDAUQqmMg06XDoWi9hPCVVVnYbVWt3SoXrysfvlTrUxEtRjwRiF/w11HCoUCOTk5oZ8MERER1Zuc3LWy1bjhWMCsRG9x+m+4+VvJTETBcwx4FYraqr4dR4rcxsrl964Br2uAa2ezAaLCLQCWC3ifeeYZb1OOOnLtGBTaBDS9bT6MJ/5AYo8hIb2eSuW5clJQsh0fOQs02HWk0aRAEJTQ68/CdbE1i6UKFRXHkZTUxn6NmopfAFAqdWFo1RC7izQSRQIDXiIiIqIQq6ysRPHm5VA3bYf4zlfYt//vf/9D/oIRAIAmg+9HUu+RkZpiWKzclo/XNh/GAwPbYWy/bADhCa8jER43hsDaNaxzus/q3qjkGPAqlbV/+n3x8wmZ0X60aPCwyFPxlhWIa9/XbRGomhYNNT8TOblr8cLSD/yZetQQFLWBa2LvUfbb2lZdoW3VtV6uKcanwFZZAgBoevsCnH53CgAg67436+V61DgJggC1OgF6/WnZ/ZJkg8lUCo0mBQAQF9cMVVXViy7Wd7ir0aRAq031PZCI7BjwxoBVq1bh3XffRX5+PgwG549CCIKAn3/+OUIzIyIiIjnz589H2fZPAQDKlOb27X369LHfLv729QYf8NZ8BHz6qv1+fRw82jSG0NabulSGUWTVvHZPHC+2b3Os4PWXa8DrqYK3/H+rUf6/1Ugd8qDT9mmf78P8vLUwnTkC/eGdiO96ZcBziAbZU9Z43R/q3w+tHl4Z0PWJgiUIAhITW6Oy8hRsNpPbfrO50h7wVoe6AuTeDAq12msRkb8Y8Ea5559/HlOmTEFGRgbat2/PnkxEREQxYM6cOfbb+j8D6zXZJgwVrtHGU6uKaDJq8X/xS0Htx1Nr5tv2ybWwufytGwuPhxoJh0XORNHHwmAyVdjuPXi9f2TaWl4oe86Tbz8GWC2oOrTd+xxiRN784WH5NAJROCgUaiQmtkRZ2VFIkvPPvMWih9VqgkKhdmjRUP8hr9VqRGnpYeh06VCrk/mGI5EfGPBGuVdffRV33303Xn/99aDedSciIqLoZXENQxCOupjoFO2hqGO468g13G3IvLZoaLSv3Cjn0DLhx79qq3lbpGhRUOJ7kST359xDD1775Vx69kq26rYN1urtppMHfV4zXNJHTYn0FIiihiCISErKRkXFcVitRqd95eVHodOlQxTV56t8w/f7Xq8/B0mysV0DkR8Y8Ea5wsJC3HbbbQx3iYiIYpbnP4RshvKoDDZr5jPh/T32Xp06lYjfn7kmktMKO2tVKYwnDiKu/SU+x5bv/Qrms3lIvuw2KHRJYZhddKg6tB3lu1YDAv+tGo2cA9raCrhTpb7DXVk+Kngli9npvrWyGKU/vBvctepZfOfLIz0FoqgiCIJbuFtDrz8X5tnUMpsrGfAS+YEBb5S79NJL8fvvv+PKK2OzXxURERHF7scKX771Irx860XYunUrLr30UghzgM2bN+Ou9RVO41w/rhxtgbU/XD9ufXjuMBxffDsAIGXg3UjuOwZAdWDm+lFRc/FJFG14BQBgKTuLzBtmhGHG9c/1ccpV8J797JlwTokC5VRxW/v8De+e5b7Qmh8L5XnqwVu737mCt+ynj3yeMxbI/U7z5/dcsL8LY/F3KMU+s7kq0lOQZbUaUVV1FnFxGZGeClFUY8Ab5V566SVcf/31aNWqFYYNGwa1Wh3pKREREVEgvOW7PqrhIs1sNrv922PgwIFoPflLp/AvVL0oa84TDeHGr7/+ar9dsnkZSjYvs99vPn6xfa7WimKUbv3Avk//Z8PoMQq4B7oUeyTH3zEOz2feucrgTugj4K1pxRDNdO36IPPGpyI9DaKoYzKVRXoKHimV2khPgSjq+ei0T5HWvn17DB48GNdffz3i4uKQlJTk9JWcnBzpKRIREVGQTq6YAHNRQaSn4aa4uBgPPPCAxzeWLaWnwzyj8HAMNG1ewvfSH9+3jz/9wVRU7t/o8TxE4TZ07hco3rQMFfu+hdXlZ7XmjQn5ntJ+vG4lHy0arGav++XEXzgIojYx4OOCxXCXSJ5aHZ3ZgiCIUKvD9zuCKFaxgjfKTZ48Ga+88gp69uyJzp07s4KXiIgoxkwcfIHX/Wc+fRp44z6/zpWiU2LvU0NDMS2vUlO997o78fo9yJ6ypt7nEU7le9ah5Mf3kNz/FiT1Hul1/QNFQhMAgGQxwVx4zH1ADFQxBsP7ImsULb5fOhuGI7vddziEs6Igs0CgX/mujxYNQbz200f8EyeWPQyboTzgY4koNGw2Myoro+8N52qsSyTyBwPeKLdixQpMmTIFzz77bKSnQkREREFw7WPqyuJnBW99ti1wbLFgM8svsNLQFX39KgCg+NvXkdR7pNexgsL7G+6SjyrHaOXaR9nXa5eik2y4C8AxwU3SqlCiD7za1leLhmAqeAEAIX6tNf/7qzi59MGQna/D1HU4NO/akJ2PKNpE8xt2CoUq0lMgigkMeKOc1WrF1VdfHelpEBERUT0RlJH5dI4A+YI9/eGddT53Tu7aiPbR9efavvoGW62eg6yynZ+jbOfnng+O4j+U/ZWTuxZlu371PbARcA2+O89YD73Z5rRN7vUk9zr0tRih63lcx7geH0j/a0vpWfvtJ4Z2xPRV+11G+LPIWuhbNPjS9PbncfrdSX6PFzTxEDw0P0/qd2NQczC7lTsTNSyiqIQoqmGzmSAISkhS9HwSxWLRw2o1QeHjzVWixo617lFuyJAh2LZtW6SnQUREREGK1ipICfIfp7aWnfHr+PLdvls0RMNiacG65qUtwR8coxW8vrBFQzXHcLcucnLX2gNax9v+mvD+noDGW0pO4viSOwEAY/tlAwD0R/bg7OoFOPXuFBgLfvd9EqmeFlnz8oaKtmVnqDLb+H2qpjfNdqsIjrvgb0gd+jBSrrgruPkRNXCCICIpqTWSk9siKSk70tNxU1Xl379NiBozVvBGuRkzZuCWW25BfHw8hg8fLtsTz1efPCIiIoosb8GNa0imEgWYbZL9v/U1n+LNK1D2v9VoMnA8ki4eZd9nLjnl1zmKvvsPEnuNqJf5RQUfH0X3qoEGvK5++umnSE+hUfvi5xMBH2OtKLLfLnj9XlhKTgZ0fH1V8Eo2H8Gwn28maNv2hqZFJ7fFK1Xp2UjsOQyA8xtPgYbqRA2dIIiwWPQBHSOKSmg0KdDrz9XTrERoNCn1dG6ihoMBb5Tr0aMHAODxxx/H448/LjvG20cIiYiIKNo5Bxf13ecxJ3ctJElC2fZPAADFG99A8cY3Aj+R1QKrvhwKXfXK1tbKYohxKQFXLMsu9hQG5Xu/QtGGV5A24p9IuHCQ235fQZY3DbWy1fVxffXVVx7H+tuyIBr5aqMQzHlCRZJsEIS6fwizS5cuAYe7AGCrKvG6Xwqyh3cwi7PJUcRVL4C4ZfKV6PCmw47o/CAFUVRSKDSo/rC3f/8fVKkSodGkQKNJgc1mRWXlCVitoevnn5TUGqLI6IrIF/6URLmZM2dG7Uc7iYiIqO6UYfzf/Mpt+QCCD2FcHX/5Vrdt2VOqWzd4CrcMx39F5b6NiO96JdQZOch76ZawV9HZbDYUbXgFAFC45gW3gPfUu1OC7tUJALunX1Wn+VFsCbRVgjemc0dxcumDUCRlouUDy+zbc3LXwljwO06trO5F2+Ify1D522aUfP82ACB95CTEdxng93V+/92PdgxBMJ0+HNyBIargrQly3f5+CkEoTtRYVL+J5N/PnCiqzgfCNfcViI/PQllZnt/n8MVmszDgJfIDf0qi3KxZsyI9BSIiIqoDQRCgz//Zy8r24VOzqNLZz+YEdFyzO/8FyWzE6fef9Dm2Yt+3SOg2GABgOnMENkMFTr//JBJ6DIOgVKF815fV4375GgCQ8N1S9LhtCgpKDAHNqS5MJpPX/cbjv6JkS2XQ57fVofo3kkp/+giGY/uRetV9UKW1jPR0YsYXP5+AVV+Gkh/ehTK5KeI7Xw5lUkZA56g88F+cWz3fft9adgan3ssFHBZSK/5uqX3/uTULYTz+W+39L5/3L+AVFQHNK1wkDy1RNK26AgDSlEb41zymOthlgQxR3cTHZ6GyssDnOJvNDLO5Emp1gn2bKCqgUKhDWMXbMD8VQxRqDHiJiIiI6pHBYMCZD+Z53B/uj/NLFjMM+Xtl96mbtkPzcYvkj/NznoXrXkJCt8Go+OUbFK6vPVfFz/If56/c9w1+zP3a4/naPrnWrYWDTiVCb7ZBpxLx+zPX+DUvRxaL74+Dm8/mOW8QRL9768Zi+6xffvnFXg16dtWzyPr7EreQrKG2nqgrm7EKx1++zX6/ct+3yLrnVa/HSJIESDYIogK7d+92CndrGI/td7pvLq2NOI0nDjoPPl+havNRnS9EaxWchxYNmhadAQCDBw/GypUrZccIKo3TpxLy5g9HXl6e05iqAz+g5Af544nInUqlg06XDkmywWAo8jrWYqlyuW8IUbgrQKdLg0KhDcG5iBo+flYlCj333HPQ6wNrbL5r1y6sXctFAoiIiKLNmTPeV34Od2h29IXrPe7ztmiaIAhQJPi3sGv+ghFO4a4v2VO+9LhPrj+v3mxz+m+ggglgBYX/wVgsVvDu3bvXftt8Lh+lWz8MyXktZedgKauvhXeiQ/GmpU73zYVHvY7X/7ULR58biaPPXwdL2VmsWLFCdpyufV+n+8qENPttTVYnCGqd/X5N9a7ppEvw60qs/vOvffv23seFmc3ooWL+fGXvkiVLZHc3H7dItv1CYmKi031t6+51myBRI6TRpECrTYVOlwmlMs5hT+3PnEKhQ1xcptNxoqiCINT9zaSkpGxoNIH39idqrBjwRqHly5ejbdu2mD59Og4cOOBxnMFgwKefforhw4fjb3/7G0pLS8M4SyIiInKVk7s24H6y4Qp4c3LXIn+B5wAXgM8+lS0fehuJfUbb7yf2HhmCmQHHl9yJzJtmBdWLNyd3bcA9UF0reH1VPQLVi1v5q9/cb8LeV7iuTp50XnCr5Id33MYE+lo1FxWg4N93o+Dfd8N87lid5hfNKn7eILv96Is3I3/BCJT/vAH5C0Ygf8EIVP62GWc+fso+5tyaF6DVylenidoE2e0AAEGQ7aVtKTvrda41Fbw1b0KIuiRkT1mDzFsCa9sSLmJcEgAgKSnJ3t/blSqttf22MikdAJCWlgZ1sw727alX/6MeZ0nUsGk0SUhIyEJiYmtotWlITs5GcnI76HTpSEhoDpUq3ml8dR/eZnW+bigWlCRqTKL0MzqN2759+7BkyRIsXLgQzz77LDIzM9GrVy9kZmZCq9WiqKgIhw8fxr59+2CxWDB8+HDs3r0bF154YaSnTkRERAEKR8DrKWxsMujvTtWHqtQWtbdFAWaZ8tnUK+9B6pX3OJzjbhxd6Lkq2B+2yhKc/WQ2Wj+xKqhg9IufT+DlWy/ye7xrBe+xf93gx0G+2zrUqAmDc3LXIm/+cI/jVm7Lx2ubD+OBge0wtl+23+evD2+99ZbbtqKN/6nTOYs3LbW3taiu6G48IVv53q8gmao/tlz01WL79nNfLnQaJ4hKLxXftT9/lb9tdl7ATBCcW4ac/z2iTPTR+1dR3YO35k0O4XxPXmVK3cOYukjqewPKtn9afbvfTSjb9jEAIKGr84KFqUMeRNHXte0vVGmtkT7icZx+/0mImgQk9a39WW5+14thmDlR46FQqKFQqO33NZoUj2NFUVWna+l0GQx4iQLEgDcKKZVKPProo3j44YexevVqrFu3Dj/99BO2bt0KvV6P9PR0dOrUCTNmzMBtt92Gtm3bRnrKREREFGKdZ6x3akHgLSj0piYwtZmcFzFrPWk1yv+32mmbpkUnr9eSC18FhQrZU9bAZjb6F5R6cXzx7Wg1sW6tAQwGA9asWYOLL74YOTk5smP86cFbJ35W+9Ysejd91X5MX7U/6OdYjuNz5c/zmf/77+4DbHX7PkkWs/221VBRp3PFmqINr/g1Tte2F974/rD8zvOhrVzlvWR2/nmWzofBvirNBaE60LW/yXE+4I30R6BTBoyDumk7aFp0gTIpHUl9b4Co0rq1Rkm86FpoWnSG/sguJPW+DoJSBVVqC7R4YDkgiPX2OEL5s0nUGJjNwf/OV6kSoFYnhXA2RI0DA94oplAoMGbMGIwZMybSUyEiIqIwC7a/rCPHAO/Yizc67RNEhVv1sK8QI0WnRIlePvQTVRr7R6gNx3/F6XenBDxfj304/VDzWIu/fwdlP32IjIwMHD9+HBfM/MY+pubx1X/AG3uLkWlad4Px6D6nbcrUFrAU1a6iHmi1uVM4Z7P4FTpHo7z5w+1zD3XrDW/fU0myoahIfnEj08lDroNR9O3rKN/luZ81AAiq6uq74orzAfH5gBcRDngFQUB85yvs9xVe2lOoM9tAndnGfn/O6K72N0sCNWd016ipoidqSAyG4iCPFKDTpUf8TSeiWMSAl4iIiCgEdu/ejZMrHo2axXwcgyibscrDqMACu71PDcWE9/fgi59PeB2nbXkhsqesgen0YUiSBHVmG/tHwWscW/R/sMlUdUqSBFjN1dV4CiVMZ/7CqXcmIW34Y1A3bQtVkyyv1y77qboC+OzZs8i5/3Wom9Z+0qnme7Lp/i5+Pd5gnXjzfjS9dV7UvBb8YdOXu2+sa1DdWP5AF0S/q7bdSJLn77MkoduTn/l1mstaafH1197DXaC64h4ADKbq6uraj0BH/3NV86aAa8g+tl920AHv2H7ZDHaJQkySbJCkYN9IFSCKjKmIgsGfHCIiIqIQGDlyJEynTzj3yQS89Nd0Vx8Lc0mShGMv3ey0LXXoQzU7Az7fy7de5Nbv9tL5G1FQYnAbq27azuN55MJdADj6nPzCbedWz3e6nzFmOuI69PMxW/nHV+8VvABOvz/V46JQNWzGShiP/wZtdg8ISrXXsXXhT+WsttWFMJ/Nc97o8voIvF+0Q2gYg1XNfqvLY/MWDEuS320y9Hq9n9eTkJO7FpLNuUWDaxifedNsp8XgIinYau9YqhInangEBPImsk6XAUmyse8uUR0w4CUiIiIKgRMn5KtaXRf0qm+OYZ5ks+Lo89d5HKsMUdHej7m1CyH5G1I3v3sJTi57KOhrnv1sDlo9+gFELx/l9iQsz4kff6Se+WQ2jMd/Q0L3IUi7ZkL9z8kbhdyCOMEHl659Y2Mp3g0kGKwOvYN/dJJk81rBaw9iffD3jSR7SH8+WBZE+QpeTYvOfp0vVAKLgogomgmCiMTEVjCZygFIEAQFTKYy2GwWABIUCi1UqniYzZWQJAt0ugyoVPGRnjZRzGPAS0RERFSPPvnf0bBdyynctZhw9AX5Pv66Nr0AABMHd8D0zaGdg6ePUbtSZ2Qje8oaSFYLji4cHdS1ji36PwDwWSnrKhwVvHEdL/U5xnj8NwBAxS9fhy3gzcld63+AGcqq2wZbwVu3x1W+c5XHanZINiDEAa+9YtjmusiayxsSYa6iOxJAqC73+mW1LlF0USjU0OnS7Pe12iaQJAk2mwWiqIQgCNBqm0RwhkQNDwNeIiIiovoUZLBlLj4Ba3khtK27Aaj+CLZGo4EoygcvroGqp3A3+dLboExuihSdMoiP3PvPV+BSM19BobQHtKZzR6E/vBPa1t1w6u3H/b5W8XdLkdT/Zr+recMR8EpWs9f94azsliwmmIsKoMrI8bhwjSDTg9X11VG310tsB7ySJMFadhbK5EznHQG0YJHjMdwFUPXHVmiz/evj7PdzI0mwVBRBspjOT+D869Dl6Rc8/J4hIgqWIAhQyH5ahIhCgQEvERERUT2SAlx8SZIk2T60cQuAjh074ueff4ZGo3Ha5xruyl2z9eQvnKr09j41FE8/vT2guYVS3vzhbvNWp7eGOr01APeqXMPRX3D6/amy5yrb+TnKdn7utr0m9JIsZgjK2j8qr3lpS53mHgpvvfVWWK4jSZI97FdltkHW+MVhua77RCJz2VApXLcIlfu/RdIlY9Bk0N21O+q5Mrnom3/7Nc7fCl5LyUkULLnTft987vwnDFwrdl0WRVQkpMJaUeTXNYiIiCj8+NZslFMoFNixY4fsvl27dkGhUMjuIyIiouhQ9fv3AY0v2+EeVNY4ePAgXn/9dfv9ldvy3ULSk29NxNHnRjlta/HACtmFSwJZAC7StK27I3vKGrSc8J7fx5Tt/Bz5C0bg6AvXI3/BCNjMxuodfn7svU58BH+//PKL1/2dZ6xHTu5adJ6xvk7TcAzlzGeOeB4oV9kb0vAythPeyv3fAgDKdnzmtD3QN3Dqy95jJXU7gevz70fLBlVGDuI6D4CoSwr6ssrUFkEfS0RERLUY8EY5bx+3stlsHj9mR0RERLGpZPMyr/vPnj1rvz191X77bUmSkL9gBEyn/nQ7RpmULnuu+mzR4I+8+cMD7p2p0CVVB70Pr/Q5tuo350rdY/+6AQAghSPY9hH8GY1Gj/tyctdCb64+vua/gTKdOYLyn7+GZKoK6vhqzq+PurxeGmz1Z9T0Fg5uHll/f636hkuAW71InsPfGTJ/cyiTMpAxahKS+t4Q1LUBIPXqB4I+loioPlgseuj152ALx5vBRCHEFg0xwFOIu2vXLiQnJ4d5NkRERFRfDEe9V3U6cuu5K9PWAQAyb5rt8RyuFbyjFv8XXzxymd9zCBW5kNfXIm2K+BR7G4fqMMo/+QtGIHXow4FNMAj6wzshefnj0GAwhOQ6jt+nmu9jZWUlTi5/BACg69DPabzN6H/gK0JCyP68lWwo+vZ1pA6+P1RnDJtz587JbrdWlcq+oRIRAea7ri1QZP/eEBWA7Xy/aq+LrrHghIhinyRJqKo6A7O5HABgs1kQF9eURXUUMxjwRqFFixZh0aJFAKr/sTV69Gi3Xnt6vR5nzpzBjTfeGIkpEhERUT0o3f6pzzGLNx7CO+baUE+yWXH0+etkxzb/+6v2nrZySkpKnO7/UlDq30TDIJDQN3vKGlirSnF88e1+nbtowyt1mpu/DHl7AYyS3afX64M+r6/we8+ePbXXObTNaZ+1slj+IJk/YJsmaXG8rPZ+XSu+y3d9GZMB7+OPuy/4J1nMOLH0IdiqSsI/IRmSzf+FAwWlRm6r+xZRtBeiywYc57cx+yCihsBsrrCHuzX3y8sNEEUVBEEBlSoegiBCkiSIohImU7mXsxGFHwPeKJSZmYkLL7wQAJCXl4e2bdsiJSXFaYxGo0G3bt3w6KOPRmCGREREVB8Mf+0KaHzl7z/g3BcLZPcl9bvJa7gLAIWFhQFdL9JqQt+eszegRO8caCnikpFx/TSc/XxuJKYmz0vy5a2CV7KY7AujNb878DDaYvEc9klWs8+A2D42atoPRNa2bdvctunzdkdNuAv46K/sSpSpxpUNcGvH5aQn4M8StwFu4wLGdJiIooTF4v7Gq81mge38G2hmc4XTvqoqBrwUXRjwRqFbb70Vt956KwBg0KBBeO2119CpU6cIz4qIiKjhcP1Yu6fAy1N/WNfxgfaRrQvp/GexTWeOeAx3Abgtqib3OFUqleMRIZtjfdv71FAAMkGvSyDZauKHENRxMJ87ipPLHgrnFH3av3+/27ac3LWQrBZ7uAsAJ5c9DCwNbO5e2z8E0H84HAGv3M+e48+T436dSsTvz1xT73PySwyH33ILLsoGrWLtYs6il1B45sgL8dh3tZubXHUfije+4ddcPrivPwYNGuTXWCIiIvKMAW+U27RpU6SnQERERNHEaoG1qtTeY9UjRe0/8zwF0M2bN7ffVje/ICTTC6eaoBc4H466NCIVNfEAAHVGNrKnrIEkSR57FYfLym35eG3zYRw+fFh2v+m0/HZHBW/+A5ai40i46FpU7FkHAEgd8iCA6uf52LFjng8OIMd3DXhDEfjW5c0QXwvOhfeNl9h5Q8SNQ3BbQy70FQTR/hMlG/B62JfY8xokXTzKuTe2IMouPMjelkQULfipFYp1DHhjgCRJ2LlzJ/Lz82X7td15550RmBURERGFkr8fmy/b8RnKdnzmtj17yhoUf/82yn76CAAQd0F/n+eaOnUqFv57BSSTHukj3PuMxpK8+cPRemLtxyeTL73VbUzYwySZPxanr3Kv3PVG3ayD0/3CwkJYio4DgD3cBYCir18FsAQA0LRpUy9n9PQ9cN8eqT92vf0s1OzzVnlfo8PUdTg079qQzq0hSIzTuH//ZCt4RYeb8gFw9X8F1x3y57Iy4CWi6GS1Gt1aMBDFGga8Ue6PP/7AqFGjcOjQIdl/ZAuCwICXiIgoRGwmA/RHdkHbqisUccmexxkqIGjiQxZO5OSuhSRT3eav7ClrAADJ/W6CqNJC2SQL6owciALw17OeqxiTkpLQ4r43AJsNglLlcVysOPrSLZjbKxEr1vwAU+tLIj2d4Lj+e8/ldXH8+PE6nb7om39D174Pkvv6Xqi3Pip4Q8WfN0TMNgk5uWsDruS1Wq0wmUzQ6XT49NNPcejQoWCnGZUSdTKLrHmo4K0hiiK6d++OX375xW2cW/grGwYrIMG9NzQDXiKKNEmSUFV1BkD0/D+OKBgMeKPcQw89BIPBgA8//BDdu3eHRiO36i0RERGFQuGGxaj6bQvUTduh+bhFTvtqAqXKgz/i3BfPQd2sPZrd/hwEmY87ByPQBdZq1IS7ACCqdUjufzMAIEWndGph4IkgKmQ/sh2rpt15Labd6Vy1uXJbPuau/c3nR/wjqebj7M3GPu91nEIh/1zFdbrcfttbaGY8/iuMx3+Fuml76HJ61u6QOcQWQL/eujAc/QVlOz5H6pAHoEzKDMs1PamqqkL37t1x7tw5fP/997jxRg9BeAhySWVyU1hKT9f9RIFeVynzJ6DLayYnd61bD97NmzcjNTXV7Rj315vcgm3y3zAGvEQUaTabCVarMdLTIKozBrxRbseOHXjzzTc9/+OSiIiIQqbqty0AvPdBLVy3CLBZYTpxEIaj+5xDsjqwVBQFNL7lhPeh0CV63O+0+JgX3Vsk45eC0oCuHWvG9svG2H7ZAADB87p0daNQAlbn7/nbf+8b8Gkkq9n5vksFr8fQNcAKcOOx/T5fu4UV9f8Hr2Of1oLXdqL1pNUhe9MkGEuWLLH3Rx4zZozHcTZ9CFZPj9DjVCqVWLkt32Wre9DaMjUe+eXnAFQHvFqtVvYY1wpeQRCQN3+408+aZJZf+O+m13/Cqcsvl91HRBQOoqhG9e8zVvBSbGPAG+USEhKQlJQU6WkQERHReZKpqva2sfq2v/1zPXFajMgHbXYPNP2/uXW6nqOGHu6GS8sHVsBm0uPEG/fat0mS5PTa8KdVgGQ2uWzws01CoO0T3MJFmUrKCLRosFYUQZmUUe/X8eTcuXP2254Wwjv1/pMwHt1X94uFsXpVkZAGa0UhgOqAd+GGgy5TcZ+LY7W4KIpuY/R/7cSoHlkQypzbhgTWEoMVvEQUWdW/2xjwUuxjwBvlxo8fj/feew/Dhg2L9FSIiIgaLYvFIhvCSjb/qmSDpWnRBcaC3yCodWj92Mdex9aEKt7C5kB7kcaitk+uhU2Cz/7DoaaIT4GoiXfadtfS7dC1u9h+3583AlwrdhUuf3CGqm2Ce5Ws+x+2rnMxW+v/j9+CN+5Dyt/+D4m9R7h9P4MVyBswxT/k+RwTknAXQDjDTVGX6BTw+sNxnFzAK5mNePnWi/Dmm/+TPf7zzz/H9ddfD4hKtH78E5xc8SjM53xXDhMRhZPFYgQQvS2ciPzFgDcKffZZ7crY3bp1w3vvvYdRo0Zh5MiRSEtLcxvv7eNjRERE5J0/4U9OTo7sdslmDfFsaikSUtFs7HN+jW0Mwa2/bJLzf73JuH4abMYqFK57MTQXdw3AgqkGcglV26THOd33FPAGvEif60JYclOtw8J/nrRp0wbvvPMOLrvsMgCAoNZBMulrB1jNKPnhHZT88I7TcYJSg9b//DTk83ElCA2nH3Xa8MeQ0PUqAMCJ5RPs2w+eqcKyoR0xfdV+r8e7VvCq1Wqn/WJ8CgDPfXRHjx7t1CM86+9LAAT2iQUiovqm15+J9BSIQoIBbxS68cYbIQgCJEmy/zcvLw9r1qxxGysIAqzW+vvjkoiIqLFy/Dh6WloaCgoKZAZVB2A2Y5X7viCkDLgLgqhEfNcroYhL9jl+VI8svHzrRSG5NtD4gmJBrQNMoXnuqk/oEnTJBKQ2kwGCUuX5HD567npqkzC4U2BtDdyDTJnzul2r7hW8eXl5uPzyy+3tKySrf1XwksWI/AUj0OKBFVAmpcuPkSQY8vZAm9MTgiDKjvEpjAWl9b/AWO35Ha/lb4/jP8/W/mzsPV4KQRCQefPTOPPRTCT2HoXUwfcBcO/Bm5O71u/fJYo4tqIjosix2cxcYI0aDAa8UWjTpk2RngIRERE5BG0DBgzAL7/84j7k/Jusx166uc6Xa373K1Bn5Pg1VgBwpJGFsfVBMlYBwQaBclwCO2tFEc6umo+4C/ojvssAmM4cwal3p0D0sjieZPMe8Hqq4A24dYPC5c8A2eC4/loy5OSurQ6r/Qx4axS8Ns5tW3zXK2EuKoDpRG1f2eTLbkfKpbf6PJ+1shgQlbULFjakFoyOr0fH26KI1zZ7Xkgyoec1bsfUBOa6Nr2cqnKr9wUWVKuzOtqfK1Vqi4COJaLGS5Ik6PWFkCQLtNpUKBRq3wf5YDRyHQJqOBjwRqEBAwZEegpERESN3p9zr7Hf9lQ1WdPTsq5aPvwOFPFNZPc1tqracBLjkmArOxvCMzoHXUUbqj+SXnXwv9C07oaTyx8BAFi9VQ37qOD1FOQG+okuvypcXV/3oV5kTbJBLlFt/c/PcfSF6/0+TeX+79y2lf73XZT+912nMLJw/cuo+OXroKYaapoWnZGTYMPB0PwKkeX0HDs8d4KoQO/sJigo0TuNbz35S1iKjkOV1qrmBI5n83gd1wpeX5rf8UJA44mIgOow1mQqAQCYzZWIi8uESpUQ1KchJEmC2VwBo7EktJMkiiAGvEREREQy2j+5FoJShbz5wz0GvKX/fdevKsFmd76Iyl+/Q/muL+UHePjINMPd+vX5w1fgyJEjuN29C1ZQvP2RWbFnnV/nePn/euK2L2rv+9uiIeAKXtfXnMx5XauJQ02ymmW3C0qVUzBbl56t0drvNeGia2E7+IXvgXXh8Ho0na6t2DUe/w3f/+H+xoYgCLXhrisvIa63173c77BAFr0jIqrh/KtGQlXVacTHi1Cp4u2BrcVigFKpgUqVCEEQYLHoodcXwmo1QKVKgFKpgyTZYDKVwWaT/38QUaxiwBvlrrzySo/7RFFESkoK+vTpg7vvvhsZGYH1XiMiIiLPJMkKAarzt71XLoraRNgM5R73C6ICxpN/eN1fg6Fu/Ro2bBi++uorAEDHjh2Rn5/v/QBRAYRgMb3SrR/4Nc61Ere+WjS49mGVXRDOtYdwiBdds5Sc8mtc60mrcfT560J67UgTBDHwUD5AS27vjZtvrv59Iixw3ldp8t0aw3zmiP228ZjnBdlOnz4d3ASJqFGx2Syw2SwQRSUEQRFw5a1SGedyXwdRVKOq6ixMpnIA1b9TTSZAoSiDzWZyWoDUbK6A2VxR58dBFK1C2HSM6oPNZsPBgwexefNm5OXlQa/X48iRI9i8eTMOHDiAw4cP46mnnkK3bt1w6NChSE+XiIgoJkiS5Bba2swG10FO4z0p3rQMksXHAh2iwr6avazzH6VmuFv/li9fjtzcXKxbtw6pqak+/8AUXHvV1jNfga6n1+IPf5xBTu5av6sj3RZ6C3X7BR8kqwUnlz3s11hBVKD15C+Q2Cv01bjNx70c8nP6RVTUe8Dr2DpBmdrSflvTqivM1ro/3zpV9fn79+9f53MRUcNmsRhRVpaPiorjKCvLC6o1gkKhhkbTBIIgIj4+CypVPIzGIphMpagJd2tYrQancJeoMWAFb5SbPn067rnnHvz000/o27evffu2bdtwyy23YN68eejUqROuvvpqTJ8+HR9++KHX83333XdYuXIltm7dimPHjiElJQUXX3wxZs6cid69ezuN3b17NyZPnoxt27ZBqVTiyiuvxMKFC9G2bVu38y5evBhLlizBkSNHkJWVhXHjxmHq1KlQqZz/eDhz5gwmT56MNWvWoKqqCj169MCcOXNw1VVe/uglIiIKocrKShS8ehesFUVo8cAyKJMyZT/GbTxxELqcngC8B7xlOz7zfVHJBl37S4CvX5Xd/ce8EdBqtX7Nn+qmWbNmePbZZ+33fQe8Kkhm3yts14TzrpWSgQq2gjfU1bX1ds7zji4cHdB4QRCRevU/kHr1PyBJEip+/graVl09thSwVhbj+Ct3OG3Tte+LzBtmAAAkyWbvUZs9ZQ1shgoUb16Bip+/CvzBBEEQRNx+++2YM2dOvV3jwXf34MYbbwQAtLj33zAXFUCZlAlBqYJOJUJv9v78irok2PRlAAB1s/YA5N+Euuyyy5B502xU/bkDqVf/w+e8urdIxi8FXNiIqDHR68/Csed6sOGrTpcGnS4NNpsFlZUnQjQ7ooaBAW+Umzp1KmbOnOkU7gJAv379MHPmTEydOhV79uzBpEmTMGPGDJ/ne+2111BYWIhHH30UXbp0wdmzZ/HCCy+gX79+2LBhg70lxIEDBzBw4ED07NkTH330EQwGA2bOnInLL78ce/fudWoHMXfuXMyYMQO5ubkYMmQIdu7cienTp6OgoABvvPGGfZzRaMRVV12FkpISLFq0CJmZmViyZAmGDRuGb7/9lovLERFRWMyZMwfWiiIAQMFrd7utCF+j+Ns3oLunOpD11aLBF2VKM9iMnhfWCnSRIgqdkpIS7wPqqYK36a3zcPr9qW7bXQNcX4GvneMiWn587NWtv26YK3jrQhAEJPa8xusYRXwTjz/b1edw/pkTtQlIG/YwUoc+hKPPjXTY7r39SrAkyYb77vuHz4C3+d1LoM7Itt8PqKewy8tAldrCfvvqLs3wxc+ew5G8+cORg/fsv/t8vaZ0bXtD17a31zE1vnjkMr/GEVHDIEkSrFbnT0mp1Yl1Omd1SwYicsSAN8rt27cPrVrJVya0atUKBw4cAAB06tQJpaW+3wlfsmQJMjMznbYNGzYM7du3x7x58+wB78yZM6HRaLBmzRokJSUBAHr37o0OHTpg4cKFWLCgujylsLAQc+bMwb333ot58+YBAAYOHAiz2Yzp06dj4sSJ6NKlCwBg6dKl2L9/P7Zu3Wr/KNegQYPQo0cPTJ48Gdu3bw/020NERBSwVatW+TXOXHjUfrsuAW9SvxshqnXYPulSZMkU8CYlJUGtVgd9fleBtnloaG0hAn08F1xwgdf9guj8aaQRI0bgx8pMFG9aFvDcXE4suznYFg0BB7Ru4+se8Na0Ozi5YkKdzpM3f3jEFuISBMEpGD720i2y4+I6Xoqqgz/6dc4W/1iGgn/f7bRN2/JCt0+6yavL8+I5lJVbZE32DEGsTk9EVMNms6C8/JjTNq02DQpF8P/uMRpLYDAU1nVqRA0Oy0WiXNOmTfH555/L7vv888/tYW1ZWRlSUlJ8ns813AWAhIQEdOnSBceOVf/itVgsWLNmDW644QZ7uAsA2dnZGDRokNN8vvrqKxgMBowfP97pnOPHj4ckSU5/RH/++efo2LGjU58upVKJsWPHYseOHSgoKPA5fyIiorq6++67fQ8KkYwbZqLJgHEAPFfprlixImzzIXeXXHKJ1/2CwnkxMqVSiaRLxjhti4tzXvjFLx6Cs2BbNBgLfkP+ghGwVpb494ZEiNsviLokqJu2hcqh2rQu8uYPd/qKFLnvZdZ9b3gM6GXJPNWKhCb+had16dMbyByJiOqBzWaGJNX+f02rTYdW26RO5zSbPX8iiqgxYwVvlLvvvvswffp0lJaW4qabbkLTpk1x+vRpfPjhh/joo4/sH+vaunUrunfvHtQ1SktLsXv3bnv17uHDh6HX62XP1717d3zzzTcwGAzQarXYv796Rd1u3bo5jWvevDnS09Pt+wFg//79uPzyy2XPCQC//vorWrRo4bafiIgolIKpSAu6gtfhWp6uywq5yPLZ+9glJJN7vmbNmhXEleWf96AreM8r3rwc0tW+K2gdzyPZrLCUnPJ5jDfN7lhYfSMGQkW5wNhzxbD791vVJAsIqK2K89jm4xYB8LOVRoiC+FE9spxaMjwxtCOmr9rv5YjgNbRPBRBRcGw2C/T6Yvt9hUIDjSa5zudVq5NgsTDkJXLFgDfKTZ06FRUVFXjxxRfxwQcfAKj+B7lGo0Fubi6efPJJAMCtt96Ke+65J6hrPPTQQ6isrMS0adMAVLddAIDU1FS3sampqZAkCcXFxWjevDkKCwuh0WgQHx8vO7bmXDXn9XROx+vKMRqNMBprFzgpKyvz89ERERE5CzSszcldi8Lt+UFdS3AI8TxV8DLgjSyf/Y/9CHiDeQ49HRP0ImvnWYpP+Pcat1kC6+fqU/Xjqa/Xc01oWNfWDZ7CR8ftTtfwELC69vCtfvwevu+u35Lzx/r1vapDexhrVYn99su3XoSXb73IaX8oA16GukTkyGIxoKLiuNM2lSoxJP+PUCo1dT4HUUPEgDcGzJs3D5MnT8a2bdtQWFiItLQ09O3bF02a1H60Idjq3RkzZuDdd9/F4sWL0bu388II3n75Cn5UJMntC2Sso2effRazZ8/2uJ+IiMhfdV0wLSCs4G1w5J6vYBbJW/Xw5bhpSyt7i6wargFuaZXJKXD890DnlhGudG0v9us1XvS1TEPouvDjddzkqnuRdPF1yH9ulFNwGtd5AKp+3+LXZcIdJGoUAgxmmR2u32NB8BzGuobBAQW8td+nvPnDISzwfUiNuPZ9ve739b1kaEtEwZLrkatWJ4Tk3ILg/f+DRI0VA94YkZKSgmHDhoX0nLNnz8acOXMwd+5cPPzww/btaWlpAOQraouKiiAIgr3fb1paGgwGA6qqqtz6zxUVFTmFxmlpaR7PCchXDNd48skn8fjjj9vvl5WVeVx8joiIyBtfFZBy6tKioXuLZHzxyGUoLi72MIQBb6QJogjJw+tC7s1q16AtmIBXFEV8/fXX6Ny5s9N21wpe16pQX69FCVJ438QIgKA4v6iYQ2ipTGkOZUqzCM1InmOwqXnR+XWhymwLQKZ1giB6qfZ1eQ2df724vm6UTZrDWlEMyVy72rwYlxxU0Nrszn9BEZ8S8HFERHVlNlfCYtHb7wuCiMTEbIhiaIJZQRAhCAqn3r5ExIA3Kh09ehTNmzeHSqXC0aNHfY5v3bp1wNeYPXs2Zs2ahVmzZmHq1KlO+9q1awedTod9+/a5Hbdv3z60b9/e3q+upvfuvn370LdvbZXAqVOncO7cOXTt2tW+rVu3bh7PCcBprCuNRgONhh/FICKiunMNv8xFnhf5PPPp01Clt0awK9m/e29/DB58GQBW8EYzhSjC4mfwL/d8PbPmN0ycGNg1BUFAu3bt3La7vQEhBdaiAVJkAl6/XscyYywlJ+thNqHj+r3MuL76382a5heg6vfv7dur3yTwdBaXx30+5HD9nomaBDS99VlU/fETKn7eAF2bXlAFEH6nj5wEZXIm1Fmd+HuFiCJCkmyorHT+vS4ICpm2NnW5hgRPfeyJGrPoXwWhEWrTpg327NkDAMjJyUGbNm28fgXqmWeewaxZszB9+nQ89dRTbvuVSiVGjhyJzz77DOXl5fbtR48exaZNmzBmTO3K0cOGDYNWq3VbAXzFihUQBAGjR4+2b7v++utx4MABbN++3b7NYrFg5cqV6Nu3L7KysgJ+LERERIFyDWxOvHm/x7H6P3egbNsnMOT/EtS1HEMW9uCNXl4rcP1oNyUF8YerKIpQKNyrmdwWVTMbkb9gBPR/7aq+7yu8laSgqtQdNRv7fBBH+fM6ju3XesJFw+2Ba2Iv56payWLyfKDra8ZTiwYBUCamI6n3SGTd/QqaDLo7oPkpEtOgadGZv1OIKGKsVqPbNrU6KaS/lyTJCkmyhOx8RA0FK3ij0LJly+wVHcuWLQvpL8MXXngBM2fOxLBhwzB8+HBs27bNaX+/fv0AVFf49unTByNGjEBubi4MBgNmzpyJ9PR0/POf/7SPT01NxfTp0zFjxgykpqZiyJAh2LlzJ2bNmoV77rkHXbp0sY+9++67sWTJEtx0002YP38+MjMz8eqrr+LgwYP49ttvQ/YYiYiIvAkm/LKWnQnqWo7BIUOX6OU94K2fRdZEUZS9rnuLhmpnPn4KrSd/GZIK3pYPr4QiPgVF376Byl+/Q/Jlt6P429ft+wWVBtlT1sB44iBETRwgAWdXzYO58Jjnk/qV77o/3rRrJ8JSHN1VvHLs7Sb8GuzeokGnEmVeN3X8HcHfMUQUYaKohFKpg0KhhtFYCqC6H69GkxKyfweFshqYqCFhwBuF7rrrLvvtcePGhfTcX375JQDgq6++wldffeW2v+YPgk6dOmHz5s2YMmUKbrzxRiiVSlx55ZVYuHAhMjIynI6ZNm0aEhMTsWTJEixcuBDNmjVDbm4upk2b5jROo9Fg48aNmDx5Mh555BFUVVWhZ8+eWL9+PQYMGBDSx0lERORJOD++fuub23Bq0CAArOCNZt5eE4JLz8AvfznptOjZ+VH2W6lX/wNF3/zb5zU9Pe+eAt7qidp8BrwTrmrv+zV+/tqpg+9D6uD7YDj+u+sAAIAmq6N9S7M7FuLYS7d4POVPTw7G5Uu8V7rLPWZVWiuYozjg9ffnU53VEaYTB+XP4dp3UlBAb7a5/U4wnfwjqDk6nLiOxxMR1Y0oqpCQ0AIAIAhK+2JrlZWnEB/fLCT/5hEEEaKohM3GKl4iRwx4Y4her0dRURGaNm0KpTK4p27z5s1+j+3du7fflbUTJkzAhAkTfI5r2rQp3nrrLb/nQEREFGph7U8q+K7gZcAbeUaj+0dKa3RrmYJdpx02yD1fjq04dEl+XdNT4O814LVZ4evla7PZ/A54a++6tgoI/DXpeI6EnsNQsde9kOCFWy7CXXc5L1AnKBrGnyNNBo7H6fdy5Xe6VoGff+7lWnTUhevzGMzibEREoaLVNoEoKlFVdRoWSyWMxmJotZ4XVg+EWp1sD4+JqBpr22PApk2b0L9/fyQmJiI7Oxu//FJdHfHQQw/hs88+i/DsiIiIYkskFqACGPDGKtcgVpCrknQM8Pz86KingNdbha5k813Ba7PZ8PC7u3xcve6BrtsZHc6RNvRhxHV2/3SW7GMWFXjkyvZ1vn7EeXveXfedvx8XF+e0WRnAgmoeLmS/xXCXiKKBWp2I+PjmAACbzcsbmAFSKrUhOxdRQ8GAN8p99913GDJkCAwGA5544gmnf9Snp6e7LW5GRERE3kWqgpctGmKT2/Pm6/ny8/U15MUfZLd7DXAlq8+Ad8mmQwACq+CVGeBjv9wp3RcMcyX3MyCIDaOCFxCQccMMKBLTEdf5Cuc9SrXzfYf+va0nrUbTW+eh1cSP0OL+/wCoQzjL3yVEFIVUqnikpLRHXFyG78F+Uii07MVL5KKh/IuqwZo5cyauvfZarF69GhaLBc8995x9X48ePbB8+fIIzo6IiCh6rNyWj9c2H8YDA9thbL9sj+OCCngVKsBqDmJWtYELK3hjk18fo3f4I9NmKPfvxB6e9uX/PezxEMlmhST5mI8fi6ztnz0MycnJtb2E3SpM5Sbn/XXq+jqWq3SWfa0rlPjvf//r9dyxQBCAuPZ9Ede+LwDgrCSh6sAPaHLVfRAEAbr2faH/czviuwysXriu5jhRAW3r7m7nCyrk5e8SImokBEFAXFwzVFaehM83NYkaCb7lEeX27NmD+++/H4D7P4ozMjJw5kxwq3oTERE1NNNX7UdBiR7TV+33Oi6YgNdtkSR/j3PszcoK3pjkGvAajv/mNsbxOYy74G+1xyamez6xh8qjcr2XNxJsvit4/akg9tVzd+M/B/o8R6DnBIBHP/zZ/ThRiU6dOgV8vUhxDF7Trp0IoPp5VmW2cRqXcd0UZE9Zg6SLRwEAMm+YgdZPrEL6yCfqcXb8XUJEjYdKFQetNi0s1xJFFVSqxLBciyhYrOCNckqlEmaz/D/0z5w5g8RE/pIhIiIKhM+ATE6wbR0EVvDGuh35JU73RbXOfZDDc3hs8e3IPl+hWbr9U5T+993ALih5fn1uf/JKbNmyxevhZTt8r8/g6c2GGoIguFWQlpeXI+kl78f4JBNqCwoFXnzhRbz++usAgNb//Nz3ecLomWeewZQpUwAA8V0GOu1L6DYY2pyLIGriIKp894Os9wXl+LuEiBoZjSYZZnMFrFZDyM6pUKghihooFBoolVqIohKCoIAgCCgp8fNTOkQRwIA3yvXp0wfvvPMOrrvuOrd9n3zyCfr37x+BWREREcWu4Hrw1j3gZQVvrHJ+fpqPXywzxKU9wfmeq177A3qoCpe8BLwWiyW4NyhcuLVTcLkv2yvXx+vUnwpe2W2iEjqdDtlT1ng9f6Q8+uijmP/1n1DEpUDbsrPbfmVieKrH/CFZjFxcjSgKlZWVRXoKDZokJcBslmAylcNqNdb5fHFxmVCrdbBaAZPJBMBk31dZabJfo7y8os7XIgolBrxRLjc3F0OHDsX111+PO++8E4IgYPv27Vi2bBk++eQTbNq0KdJTJCIiiinBBLxBL8zmEPAxyI0e9t6zqP7Iffp1uTi3er6H0ZLv8NHTy8PLc+640Jaj8p2rPB5js9nqJeB1DbGDea26h8L+9eANtv1JuGg0GiRd7F5oISdv/nCn11YwfAW02ja9YDiyW3afKt1z73EiCj+1Wo1mzZqhVatWkZ4K1ZNmzZpBrVb7HkgUBgx4o9zgwYPx1ltvYeLEiVi9ejUA4KGHHkJKSgpWrFiByy67LMIzJCIiii1BhbXBBrx+YPAbefGdLkN8pzXIXzDCfacfz33Fzxvkd3ip4A2m8lPyYwE1f7iFsT4qej1t87a/cv9GmUEylcEqjdfzNib+VN+mDr4fZ1cvgPnMXwCAprfNx+n3cpE+8gkotAn1PUUiCoBWq8WRI0fOV4FSQ6RWq6HV+m7RQxQODHhjwNixY3HDDTdg69atOH36NNLT03HppZciPj4+0lMjIiKKOcEFvMFVTXr9iP55t725Hdqv9fxodRQQ1DpIJr3zNh/9agGgyVX3eDih/OaWD79jvy1q4mEzVvo1P08VvBk3zMTZT5/26xyA73YKcmFuXFwcevbsib1798qe01dfXwD2nyPH73O0V/BGG1VqC2SNf9lpW7S2tyCi6pCXASARhQMD3hih0+lw1VVXRXoaREREMS8UFZD+Wj/xCt+DWMAbNVpN/BCmE3+gfM9aVP5a3QZLldnWbVze/OFoVbkSJ968H6lDHoCm+QVu+wFg4cLfMWmzzIUcg/8AKrhtNpvs61cR38Tvc1Rf0jXgFb3vP7/tu+++w2uvvYZp06a57XcNeJuNfR6nVk5yGVT9p0ez2+ajbNeXSLjwyoDmHa0c35zx9EZNXVs3EBEREXnDgDcKHT16NKDxrVu3rqeZEBERNTxB9TANsoLXr6pGJrxRQxBEaFp0giIxDfrD/wNEBZIvuUF2rCI+Ba0mfuj1fB6ffx+V3dlT1kCyWXHm06dh+GuXfbskSfKv3wDbfLjOS/CzB2+TJk0wZMgQvwJeTYvOyJ6yBgVv3AdL8QkAgK7NRQAAddN2SL92YkBzjqRQVNfXnINBLxEREdUHBrxRKCcnJ6B+fFartR5nQ0RE1LCEs4L3mkXf4/h/unkfxB68EecavimTMtDq0ffd9gfKU8Dr/O88+edfEBVoetNsnFv7or2fracWDf60AvF8ffjVoiHgc56Xde/rsJafhSIx3es82aKEiIiIKHgMeKPQc8895/SPZKvVitzcXDz66KNo2bJlBGdGREQU+4Kq4A32WggseKOGxWNQ6q1Fg1tP2tr9cgFv6pAHAy4CD2aRNV/7vIXZyqTMwCYY5Ub1yMLaX05gePcsvHzrRXU6lygANqn6v/5okaJFQYmhTtckIiKihocBbxR64oknnO7XBLx33HEHevXqFaFZERERNQzhDHhdP/ouP4gVvNHCsYo0FB+lP3v2rPwOQbRfq0mcCoUO67oJCpd/nju8PiRJgsVicd6tUPls+eCqzZPrnCtm/ejB64t/7UgahpdvvSjoYNe1UvmvZwOrXP4xl2tyEBERkbvG8y8xIiIiIoS3RQP8CL0C/Xg9RYdRPbIgANCpFJgzuqvsGE9BqeDwunAdI5mNHs9x9b82Y8bnP7ueDF8/NiCAmctO1OM1/T8F36ggIiIiihRW8BIREVFMC7TSMqwBrz/hrdtH8ikW+FPFOXPmTMyZM8d9h48w1LHK8/7iL/DGL+fvSDbA5rL2gijWuXrW9U2GYFo0XDD9K/fqYw/mjO6K1zYfxgMD22Fsv2z/J0pEREREshjwEhERUaMS1hYNCpXvMSL/ORZu/izoFYpFv1QqFbKnrAEA5C8YUbtD8FzBq2nR2em+035JguTy+hUEoe7Vs25rrgVxvgCOGdsvm8EuERERUQjxLwoiIiJqNDrPWI/jW/PCdj1FYprT/YTuQ1Dxy9dO2yQpfIEzRU5cp8tRdeAHqNJbQ3Co2nYNU1VprZzuO1bnSpLkXsEr1L2C17VrW3ABr/wcQhGUExEREZF3DHij0L/+9S+n+zabDYIg4N1338XmzZud9gmCgMceeyyMsyMiIopderMNQHhaNLSa+JFbUJY67BGkXHEnjr8y1r5NmZTBEKwRSLv2UcRfOAjall28jhM18c73HcLbU29NdD/Aj4C3+fiXcXL5BM8DAujB67GvMHvwEhEREUUMA94o9MQTT8huf/HFF922MeAlIiIKUD1XzKqbd0TmmOkQNXFu+wRBgCI+Bc3vXoKTyx5CyuV3QBGXXK/zoeggqrSIa3+J23bXYFSMT/G63+14UfQ5RhHXBBCVgM0CTSv3BeEC6cHrYRYBjiciIiKiUGLAG4WOHDkS6SkQERE1XPVYwBvfbTDSr53oc5w6I9vem5UaNp1KPF857p/Entc43fdVnatu1sF3iwYByJ60yst+54C2z9xvcWzxWA+D5YRx4UIiIiIicsOANwplZ3PRCSIionpTrxW8rGQkZ78/Ux3Y5uSuld3vWC2rbdvbrfL7zz//9HhuXduLoUzK8F1x66E/rsMkXDd4GcrXOBEREVG0qeuKDEREREQxRZLqr9rQV/g1Z3RXtEjR1dv1KfY4vmZEtXtbjxYtWng8NqnfjQCA5s2b13US3u877fK8L2/+cOTNHw6dqvpPjJr/EhEREVH9YgUvERERNXijFv8XvxSUnr8Xno+Tyy2cNrZfNsb2y/ZYzUkNl6eF9E6ePGm/LVmMbvtzc3Px5ptvyh6radEZAKDVatHsjhdw6p1/ouXD7+D4K3c4D/RZwetfEJuTuxaS1eK2PX3UZKf7NVXLRERERBQeDHiJiIiowasNd1G/+W4QH1/3FPxR45CamoqioqLqOzLV5W3btrX3a7YZK3HspVsAQUT25C+cxmmyOnrs6+xzoTa3Cl7Pga+gUKL1E5/DeOIgNC06QxAVXs9NRERERPWPAS8RERE1ODUVsnnzh8tUy9ZjD14/A16VKMBsk6AS2c+0sfvpp5/QsWNHAED6iH96HStq4v1anC/9ulycWz2/doNC6f2NBJdAV1B4/xNBUKigbdXV5zyIiIiIKDwY8BIREVGDJdsKoR578AKCXxW5h+ZdW49zoFhywQUXOIW2gVZ0t0jRum2L73QZBOUMlGxeAU3LLhBV7mMciWqd1/tEREREFN0Y8BIREVGDINms/n1cvD4D3iBaNBDVxY+5V8luj2vfF3Ht+/p9ntaTv4S17AyUyU1DNTUiIiIiChMGvDEgLy8PH330EfLz86HX6532CYKApUuXRmhmRERE0UH/1y6c+/J5aNv0RsaoSV7HSvVcwUsUCY6Vv8Es4icIAsNdIiIiohjFgDfKrV27FmPGjIHVakVmZiY0Go3Tfl+LZhARETUGZz5+CgBQ9fsWmC/9P6jSWnkZXX8BL/+3TPWBC/ERERERkTcMeKPctGnTcOmll+KDDz5AZmZmpKdDREQU9WzGKu8D6rVFg+h7DFE9EwXAVp+F6jLmjOaia0RERESRwoA3yh06dAifffYZw10iIqJQqdcWDUSBC3WF7l/PDg+qTUMgWFVMREREFD0Y8Ea57OxsVFRURHoaREREDYLNWIWqg/+txyuwRwNFB38CWIa0RERERA0DP0cY5aZOnYqFCxeiqsrHx02JiIjIK0mScOylm+v3ImzCS0REREREYcYK3ii3Y8cOnDlzBu3bt8egQYOQlpbmtF8QBCxatChCsyMioljQc/YGlOgtSNEpsfepoW77fX2U27HKz9NYxzFtctf6vYxZOCsIS39YGbZrERERERERhQsD3ij3yiuv2G+///77bvsZ8BIRkS8leovTf+tbODvcdp6x3u+x5Xv9HxssgYusERERERFRmDHgjXI2my3SUyAiIopaerP//5+06cvqcSbnsUUDERERERGFGctMiIiIKCb5ai0RCfcPaBfpKRARERERUSPDCt4YsXHjRmzcuBGFhYVIT0/HVVddhSuvvDLS0yIiIooJlvLCsFxHYAUvERERERGFGQPeKGcymXDDDTdg3bp1kCQJSqUSFosF8+fPx/Dhw/Hpp59CpVJFeppERERhFWj1bsGrd9XTTJwx4KWGLJyLIhIRERGR/9iiIco9/fTT2LBhA+bPn4/Tp0/DZDLh9OnTWLBgATZs2ICnn3460lMkIiIKm84z1juFu6bTf+H0B1O9HmMzGdw3iopQT636tCL/aUVEREREROHFCt4o9/7772Pq1KmYNGmSfVtGRgaeeOIJVFRU4O2338YzzzwTwRkSEVE4OIaajbWKrvOM9W6Lqp1cMcHrMTZjFY69dHN9TstJUVFR2K5FREREREQEsII36h0/fhyXX3657L7LL78cBQUFYZ4RERFR+MmFu/6QC3ezp6wBUD+tFD744IN6OS8REREREZEnDHijXEZGBvbt2ye7b9++fcjIyAjzjIiIiMIvkHBXspphNVTg1LuT3falXTux+kY9tcpVKvnhKCIiIiIiCi/+FRLlRo0ahZkzZ6J169YYM2aMffvq1asxa9Ys3H777RGcHRERUd3JLZjm2IYi0AXVTr+X63FfQrfBAZ0rUAx4iYiIiIgo3PhXSJSbO3cufvzxR9x0002Ij49Hs2bNcPr0aVRUVKBbt26YO3dupKdIREQU9ZIvvQ0pl93msKV+SngFoZ5Kg4mIiIiIiDxgwBvlmjRpgh07dmDFihXYtGkTCgsL0atXL1x11VW48847odFoIj1FIiKiehNo9a4nzuFudRArheTMzs6WG+vhrERERERERJ4x4I0BGo0G999/P+6///5IT4WIiCjmJF/GdkZERERERNRwcZG1KKdQKLBjxw7Zfbt27YJCoQjzjIiIqLGTrGaYC49BkuqjBja0mv/9VaRceqvbdsli8npcu3bt6mtKREREREREIcUK3ijn7Y9nm83GXn9ERFQn33//PfIXjLDfz56yxu2+o1Pv5cJ4bL/H/QBgOpuPk8sectqWMmAckvregKPPjfR6rKMJ7+/x70F40PS2+VCntw7q2PI+dyNO9RWqDvxQpzkQERERERHVNwa8McBTiLtr1y4kJyeHeTZERNSQDBgwwOn+8VfHOd2XrBb7bbPZ7BTueuIa7gJAyZYVEHVJTtsqD/4IYLjsOerae1eRkAptq65BHy+qtNC1vyTwgFehCvqaREREREREwWDAG4UWLVqERYsWAagOd0ePHu22mJper8eZM2dw4403RmKKRETUQFnLzzndt5n09ttms9ltvCRJfn+aRJnQxOn+uVXPApgX+CT90PKht73uT+g+BBW/fO15QJCfkEm65PqgjiMiIiIiIgoWA94olJmZiQsvvBAAkJeXh7Zt2yIlJcVpjEajQbdu3fDoo49GYIZERNRYSNbaUNdms8kMsAGCf/3gBbXO6b62be86zS3/uVFBH5t2zQQfAa8IySHc9ldC16uCnhMREREREVEwGPBGoVtvvRW33lq9IMygQYPw2muvoVOnThGeFRERNUoOveBl+8JLNgDOAa8qIwfms3lezwWgTi0Uaq9df2ymqoCPEZRs0UBEREREROHFgDfKbdq0KdJTICKiGOPYvzZvvnyPW//VhrJyFbySzeaxgFdQaiBZjLLnqr7reSFRX858MjvoY/0hCCIks9H3QNfj2IOXiIiIiIjCTIz0BMi3oqIizJgxA3/729/QsWNHXHrppXjqqadQXFwc1PnKy8sxefJkDBkyBBkZGRAEAbNmzZIdu3v3bgwePBgJCQlISUnBmDFj8Ndff8mOXbx4MTp16gSNRoM2bdpg9uzZsv0az5w5g3HjxiE9PR1xcXHo378/Nm7cGNRjISKi8PFcwes2sPq/rm1sXQ8PIuC1lJ1F/oIR0B/e6bQ9ffSTAZ/LK0EIOOBtPWl1aOdARERERETkBwa8Ua6goAC9evXC3LlzUVpaitatW6OkpATPPPMMevXqhRMnTgR8zsLCQrzxxhswGo0YPXq0x3EHDhzAwIEDYTKZ8NFHH2HZsmX4448/cPnll+Ps2bNOY+fOnYtHH30UY8aMwYYNG/Dggw9i3rx5eOgh55XUjUYjrrrqKmzcuBGLFi3C6tWr0bRpUwwbNgxbtmwJ+LEQETUWNrMBUj23JJDlkMF67MHr8SDBZatzoBvo46n8/QcUvDZedp+oiQ/oXD4JAiSLKcBj+M8qIiIiIiIKP7ZoiHJTp06FXq/H9u3b0adPH/v2nTt3YuTIkZg6dSpWrFgR0Dmzs7NRXFwMQRBw7tw5/Oc//5EdN3PmTGg0GqxZswZJSUkAgN69e6NDhw5YuHAhFixYAKA6MJ4zZw7uvfdezJtXvRr6wIEDYTabMX36dEycOBFdunQBACxduhT79+/H1q1b0b9/fwDVfYZ79OiByZMnY/v27QE9FiKixuDdd9/FsX+NBQA0GXw/gMDaLugP/w+SxQTdBf2CuLr3HrwlP76P1CvvcWoLUZvvupbwup46sArec18skN3e/O+vwlp2VnZfsASVFpLNEtgxvh4vERERERFRPWCpSZT76quvMGfOHKdwFwD69OmDp59+GuvXrw/4nIIg+Pwj1GKxYM2aNbjhhhvs4S5QHQ4PGjQIn3/+udMcDQYDxo93rqoaP348JEnCqlWr7Ns+//xzdOzY0R7uAoBSqcTYsWOxY8cOFBQUBPx4iIgaurFjx9pvF3/7utexTkErgB9//BFnPpmFs6vmQX9oW53mIVfBW75zlcxID8Gta6DrZ8ArSTbkLxghu6/1pNVQp7cGRA+NgIOkTG4KyFUsExERERERRRkGvFGutLQUOTk5svvatGmD0tLSernu4cOHodfr0b17d7d93bt3x59//gmDwQAA2L9/PwCgW7duTuOaN2+O9PR0+/6asZ7OCQC//vpryB4DEVEsa5O7Fjm5a9HGJbAN1LPPPmu/Xbx5eRBn8F7BK3uEJN+iwX1gdYBqOP478heMQP6CETAc/81t2NHnRrkfK4jInrIGQhDBrq+F55re/hwEQYDEgJeIiIiIiGIAA94o16ZNG6xdK//H/fr169GmTZt6uW5hYSEAIDU11W1famoqJEmyL/JWWFgIjUaD+Hj3/oepqan2c9WM9XROx+u6MhqNKCsrc/oiImrIJIf/DhgwwL5dlZFTh7MG0ULAVw9er5dzuZ5LQCxBgsFgwOl3J9m3nX53stMYm4eFzrInf+F0X5PVCRCrO08l/+3//JqeIiGt9nZ8E2RPWYPsKWugbVndVmjMRc39Oo8jX+ExERERERFRqLEHb5QbP348cnNzYbPZcNddd6F58+Y4efIkVq5cicWLF2P+/Pn1en1vrRwc9/k7LtCxNZ599lnMnj3b43FERA2ZQhF8+wF/q25De67qcQJcmzW4tmiwoe1DS72e6di/bnDb1nryl27bRLUWWXe/AtOZvxDXob/b/hqOAWyL+/+Dk+88DkEQ0eyul9zGWiyB9eAlIiIiIiKKBAa8UW7SpEk4fPgwXnnlFSxZssS+XZIk3HfffXjiiSfq5bppadVVTXIVtUVFRRAEASkpKfaxBoMBVVVViIuLcxvbu3dvp/N6OicgXzEMAE8++SQef/xx+/2ysjK0atUqsAdFRBSjRNHhAzdSHdoGBLUIWG0o66mCV5Ik5zfoaoJgHxW8kCRACOzDRNlT1njcp0prCVVaS4/7XatrBaUKWeMXexx/6aWX4v333w9ofkREREREROHGgDfKCYKA119/HY8//jg2bdqEwsJCpKWl4corr8QFF1xQb9dt164ddDod9u3b57Zv3759aN++PbRaLYDa3rv79u1D37597eNOnTqFc+fOoWvXrvZt3bp183hOAE5jHWk0Gmg0muAfEBFRDHMOTwM71rnqNvCA1/F4zxW8ksu5/e3BK38+yWqBoFDCUlHktD1jzHTv5/NCDCLbvv/++zHl9VWo3PetfZsiMR3W8nP2+6r01jCfO4r4roODnhsREREREVFdMOCNER07dkTHjh3Ddj2lUomRI0fis88+w3PPPYfExEQAwNGjR7Fp0yY89thj9rHDhg2DVqvFihUrnALeFStWQBAEjB492r7t+uuvx4MPPojt27fbx1osFqxcuRJ9+/ZFVlZWeB4gEVEMcW5fE1jCG8oWDR578EqSh3zXRw9eySYb8tqMlRB1STj72TNO2+M69AtwxtWC6Ytbc0z6tRMhGatQ9cfW83sEpI+chLKdnyOp743Qtu4G48k/oMu5KKi5ERERERER1RUD3hhx5swZ5OfnQ6/Xu+274oorAj7f+vXrUVlZifLycgDAb7/9hk8++QQAcO211yIuLg6zZ89Gnz59MGLECOTm5sJgMGDmzJlIT0/HP//5T/u5UlNTMX36dMyYMQOpqakYMmQIdu7ciVmzZuGee+5Bly5d7GPvvvtuLFmyBDfddBPmz5+PzMxMvPrqqzh48CC+/fZbEBGRO8eAN5SBbaDqfm2ZFg0yji++vY7XqRWKRc8kx3kLAuK7DEB8l9qF7+La9anzNYiIiIiIiILFgDfKnTx5EnfccQc2bdoEoPaPa0EQ7D0PrVZrwOd94IEHkJ+fb7//8ccf4+OPPwYAHDlyBDk5OejUqRM2b96MKVOm4MYbb4RSqcSVV16JhQsXIiMjw+l806ZNQ2JiIpYsWYKFCxeiWbNmyM3NxbRp05zGaTQabNy4EZMnT8YjjzyCqqoq9OzZE+vXr3daJZ6IiGqFqoLX2yKXXk5gv3nl89/5e5B/WyWbx7Gu4jpd7ue164HkHPASERERERFFEwa8Ue7hhx/Gnj17sGDBAnTv3j1kfWjz8vL8Gte7d2+/K2snTJiACRMm+BzXtGlTvPXWW36dk4iIXBdZq0uLBgE5uWsBBFLZWnu8weKlRYPcfbcWDTb5cX5NI/DF5UJRvUtERERERBTtGPBGuS1btmDhwoUYP358pKdCREQR4lrBm5O7Ft1bJOOLRy4L70Q8hqySh3suAa9LD18pgNA2kLGA73A3b/5we9jtTfcWyfi2rlXQRERERERE9YgBb5QTBAGtWrWK9DSIiCiCnELF81njLwWlfh1b1765m58Y6Hgy/w6yV/C6bnat4JVfZM3rOcPsi0cuw8ivM7Dmz5ot7gEvK4WJiIiIiCiSRN9DKJJuuukmrFmzJtLTICKiCKpLD17nEwV+iFNA7ClkdW+ue/5y3it4AwptbYH3m/clReff+9xO3wOHh5Q3fzjDXSIiIiIiijhW8Eah3bt322/ffPPNuPfee2Gz2TBy5EikpaW5je/Vq1c4p0dERGHmXMHrOxS1lJ6BZDVDldoixDPxdG3XHrzn/+tXD17/Qt5AWzT4Y+9TQ/1q09CyZUv7bWVys5DPg4iIiIiIqC4Y8Eahiy++2OmPeUmS8Morr2DJkiVO4yRJgiAIsFpDX9VERETRw+n/CT7GmotP4sQb9wIAmt31kvPOIIp/HatXPbV7sBmrcPyFMX6cS6YHr4c5tf7nZzjqeE7X6l8XKlGA2VY/bRzmzp2L/7z3KSSrBWnDHqmXaxAREREREQWLAW8UWr58eaSnQEREUcS5gtdz0FlUVGQPdwHg3Or5+CGlucOIwANQf1o0HH9lrIejg2/RICjVLmO9B7yH5l3rVzVuMNLS0tDiH0sByQZBoaqXaxAREREREQWLAW8UuuuuuyI9BSIiiiJyi6zJue2225zuW0pOQekU8AbRhNdJgAGxW4sGl0+cSDbZc7ae/KX7lb2EwS1StIHNKwiCqACgqPfrEBERERERBYoBb5TS6/VYtWoV8vPzkZGRgVGjRiEjIyPS0yIiogjwd5G1DRs2hPzazhW8gfbBdQ54JZcKXslmg/6vXfb7CRddi7QhD3qYiPy1ucgZERERERE1dgx4o9CJEydwxRVX4MiRI/Y/rJ944gmsX78e/fr1i/DsiIgo3ERRrL3jpZK1WbNmOHXqlP1+fNcrYa0ortO1nQPeAA92LRh2CWmrft+Cqt/9nYh7wBvqcJdhMRERERERxSLR9xAKt+nTp6OgoADTp0/H2rVr8dJLL0GtVuOBBx6I9NSIiCgC/K3gveaaa5zuqzPbuZyobvNwXSTN6VrNL4Cgcm2V4NqiwVcFsJcJugTbDGOJiIiIiIiqsYI3Cn3zzTeYOnUqZsyYAaD6D/Z27dph1KhROH36NJo2bRrhGRIRUTgJrr1s/Rb4ompuZ/BjkbVqAiC69KgVXFs0uPTgDWQeDu0dQhnu+nsuBspERERERBStWMEbhU6dOoUrrrjCadvAgQMhSRJOnz4doVkREVGkOC+y5jlkdVuIzGsg6x+/e/AKNQuROW1yPpfVe8DrNcc+f20GrURERERERM4Y8EYhq9UKnU7ntE2rrf7Yq8ViicSUiIgoghxDVrcQ18O481vqHPI6Xdvm+f9BAv6/vTsPi6ps/wD+PTPAsK+CCC6kgssrCpWKvmqYmgpqapmWSmq2uJRWai4VUqa0+JZmaf1U1Excc0FcytxaXNJS09TccMOFxZFdmJnz+wMZGebMMIMDA8P3c11czjznOc+5ZxgF77nnfgRAZvzXClXmtXKuZqxFg7kbvBEREREREdUObNFQTZ09exZ2dg++Per7VU9nzpzRm/voo49WWVxERFT1dBO3pid4LVDAq+PW9+8YPigIEATjLRpyTvxY4WuLoobVu0RERERERBKY4K2mRowYITk+fPhw7W1RFCEIgjb5S0REtYC5FbylFKVfwZ29CfB8YoQZlzM1SyzRg9dIRa57h8HIOrCmzHQjFbwaVvASERERERFJYYK3GkpISLB2CEREVI2UTrJqCnJQePsi7H0fQdDUZO14Snx0uQleAMg6tAEq5S3g4z4mXXvQwt9wz+MqPJ3K+ZVBEPR68BrruKA3tzyWLkcmIiIiIiKyEUzwVkMvvviitUMgIqJqpOxGZzcS3oBb2/7wfnK0djhoajLS/yzT49ZATjTv7K8mXzv7ngoOAJT55fSAF6R68BrO8Apy834FEdmDl4iIiIiISBI3WSMiIqrmpNokZP+xSX+eXkZXOsMr2CvMuLjpU1WZ18tcyEgJr8y8BO8jPk7lTyIiIiIiIqqFmOAlIiKq5kzug6uX3zWQ4HUwJ1lq4rUlk7lGKnjt7M2az37zRERERERE0pjgJSIiquZM3+jMtHmCsea4FWbemoJMDvcOg8sMGl5Dw03WiIiIiIiIJLEHLxERUTVnegWv7jzl/hXS84y1TqjgtQUB8ImaiIxtX5QaM34dp6AwZB1YY9L6plTwpsRHm7QWERERERGRLWEFLxERUTVnegWvqSqngtc1tDsc6gXrjBmtvDWSAPZ00n0Pmi0aiIiIiIiIpDHBS0REVM1VtILXIDMqeE1XsqZMZ0gQBLi06m52DMdie+rcZ4sGIiIiIiIiaWzRQEREVM1ZugevWRW8ZiaNJdsySF5O0EvyvtylCeYaaLPACl4iIiIiIiJpTPASERFVM6Io4s7eZVDn3oFXt5ct36LBrAJeM68tK1XBez9uQTD0gSHdcWM9e5ngJSIiIiIiksYELxERUTWzfv16ZB1aX3xHkEFsYG/aiSYngi1fwftEMz+cAYBSyVyjiWlBMKtTBFs0EBERERERSWMPXiIiompmz5492tt5/+ythApey/fg1Vbf6qwtGrmegLKJZlbwEhERERERmY8JXiIiomqmdLWqo4OdyQle0cR2CpWyxZq2B2/pFg2akoMS86XHDWEFLxERERERkTQmeImIiKqZ0tWqMpnM9ApeMzdEs+SaDyp4Syd4tUelztCLgxW8RERERERE5mOCl4iIqJopncyUy+UGE7yiqKlg+4Zq0KJB0G/RYAwTvERERERERNKY4CUiIqpmTE3wXvmkH6580vfBcZMreM2JRjQpiSyZ4NWep3/Buc+FsYKXiIiIiIjIAuysHQARERHpKt1v1liCt8SVT/oW35CZ+mPd9AzvzZWTAQDevd4wvqJED96SuKUSt6aOlWAPXiIiIiIiImms4CUiIqpmKtyDV6MybZ5g/o//zB3zjS8p1YPXSIsGQRB0N2QjIiIiIiKiCuH/rIiIiKqZ0gletVpdwT67VUsmk0EmoEyLBsPzBUHQKyQ2VsFLRERERERE0pjgJSIiqmauXLmivZ2RkWHx9SsjkSrVogFiSVsFQ+0YmNAlIiIiIiJ6WEzwEhERVTMHDx7UuW/pCt7gum4AgIKCAoutKQgCNCLMatFgziZrREREREREJI0JXiIiomrO0gnekkTq9OnTLbpm60APyWSu5FjxAcm4iIiIiIiIyHSmbrdNRJWk35e/4sT1u2gd6IEtr3fCyoOXsXDvBYyJbILDlzKRfCIV/h6OuHm3AP8J8EBGbiEea+SFo5fv6MyJbh2A+c+HY+XBy/hs51kAQENvZ5xKvQs3Rzso81Xaa5RW+nrDIhrpxVf6OACjc03xRuJfSDqeCkd7OWZEt8CwiEbaa/i4OOBU6l2dx/Kw16uIku8JAPRrUxyLISsPXsZHyf+goEiDvkbmvpH4F5JPpBr9XpgraGqy5HigpyN+m9rtodam6qWyErxubm4WXXPL650w5LcArDlTPObnpig+ZqBFw663I/GfpRYLgYiIiIiIqFYSxJqwcwtRGVlZWfDw8MDdu3fh7u5u7XAqxFByjh5eSny09rbU81z6eGmmfk9Kzjc2PyU+2qT1DMViTMm62cd/RPbRLXBvNxCODVpB7u6rTdxVZF2qPspWsnbp0gX79++32PqhoaE4ceIEli9fjhEjRlhkzUGDBmHt2rUYMmQI1qxZAwDw9/fHjRs3MGXKFHz66ac68xMTE9GmTRu0bNlSOzZjxgzMmjVLe7/s88BfWYiIiIioNrCFnAdVLVbwEhHVQJc/7qO9nZH8P+1tp5AO8BswwxohVQvB07ehSCPCXibg3Owoa4djMZVVwavRaMqZaf6aUm0WDI2xJQMREREREdHDY4KXiMiG5P97wNohVKrG05KLN/IqpXQbjaL7B4vKTqqmWry3HflFGsgE6D2u0k7dbxliKadvZgMwP8HbYOJayBTOOm8wlJBK1pYkpg0leGUymd4YERERERERmYcJXiKqVKJaBVFdBJmDk7VDqVKmtnsw1ELiYVt49PvyV21P55KezF1CfLW9m4dFNNL2GhYASOUW7WUCNKKI6NYB2P/vbSjzVWbFYC8TqiTRuuV4KrYcT9Ubr0ltUMp7mnLvmffcl894Ba9Tk7bIv/CH3rhM4Wx4RYkK3vISvEzoEhERERERPTxZ+VOIiCpGcy8P1795Gde+ikFhWoq1w6kWRFURVFm3K/caoqjdJO7dTSehzC+CMr8IW46n4royH+9uOomgqcnaOYZyi0UaEWqxOIFqbnK35HyylKpt0WDnFSBx0oNfGZxbPmFwTakEb9lKXQD4ePsZvQQvE75ERERERETmY4KXiCrN3UMboM5Og1iYj/Skz6rsuv2+/LXKrmUOUaNG6tJxuL5wFHJP/1KZFwIAvJH4V+Vdg6pWJW0uNv2HE5LjgqD/64Egt9fertPnbYlzDPfelTp2+U6+WQne1157zeAxIiIiIiKi2owJXiKqNOqcDO1t1d3KrVot7YQF+pUW3rqIIuVNC0TzQEHKMajuFLcSSN/yMQqunsSt1e8i59Qes9eSu3obPFaUcRUAJNsWUM0kWriCt6QaV9SoDRyXSNbK7UodlsE1rFeZU8zswQv9HrzGhISEmDyXiIiIiIioNmGCl4gqrPD2RRTdMZJELJU8EmTyKojIMvJTjuHGsjeQ+s1opG35FLlndCuCg6dvM3tNTdE9iGrdNge3Vk1FweVjyNg61+z1yq5V2o2l481ej6o5SxfwluRbDVQGZx3+QX/Qzr7MgHT1rak9eCHojxur4BUrqYqZiIiIiIiopmOCl4gqpODqSdxIeAOp//eawepcsXR/T5kc6tw7UP7yPQquSH8svLpI3/yx9nbe6X1I3xyv0zfX3N6y2cd/xNUvBiNj+zyLxajJz7LYWlQTWD7DGzQ12azWD4KsTIK3TDJ241/X7w8/GM/MLQRgKDmrv8naF7v+NXj9D5NOmRwrERERERFRbcIELxFVSNqmOcU3RA2Uv66SniQ+SPBq8pS4uXIy7v6eiFuJ06G5l/vg2L1cwx8Vr2L5l49DU5CtN15466JJ54uiqPNYcv/Zi8wd8wGNymhSNt2MKl51QY7Jc8lWlCRILbUJ2f11ROlN1iTPKNWiQTIWI/12Z82aJbGgfoLX6OMzI1YiIiIiIqLahAleIjKJKIooTEtBwZW/i9sNqAq1x3JP7tL2kVX+8j2uLXoJeRf+0EvIqEr1tFX+shKiKKLg6klcWzAcqYvHIP/CH8j8+f+gunurah6UhNurZ0iOawpyJcdLE9VFuPndW7j+9Yji5+raPyZvLpd7ag80BhK3Zasf887+ZtKaZEO0+V0BFknyluR3DVTw+g58T/8UuW4Fr34eVyIuoxXCEj14jbRoYIKXiIiIiIhIWtlyHCKqRQquncad3Yvh3Oy/8Gg/0Ohc5d4EbV9ORcNQiOoineMlfWTv/p4IAEhbHweHuk0Mrpd9NAnZR5O091V3UnF7fVxxXJePI2DUAvMfkBGiqhCaonuQO7kZnKMpLDB4LGPb53Bp9aTBHqHK/d/h7oE12vvpmz+GomFr82KUSGBlH9uBzJ0LIHfzRf2xCSUTzVqXbEGp77kgPPRrQNAmY6WTpoK9Qn+wvApeSFXwFsd57tw5BAcH60031nOXiIiIiIiITMMKXqJa7Nb3k1F44yyUe5fqtEwoXdUnihpoigp0Nl26d+VvQGKTr7KbhRXeulChuIrSUiBq1BBVRZLHy2vnEOjpqHNflZWOK3MH4tr855H37+8Gz8v6Y6PRdcXCfMlxzb08neQuABRlXAVEc9tO6Ce7MncWJ7rV2WnI2D6/uOo55a9yV0qJj0ZKfLSZ16dqq+TvpKUSooK2hFf6sJ1+grdsBa9eLELJsH6MTZs2hVfXl8quaFaCV+oNECIiIiIiImIFLxHdpynMR/axnVDuXQrI7eDd7RW4tn4KN5ZPtErLhOuLRkNU3YP/8Lmw96qnHc/c9Q1y/t4F7x5jkHf2VxRlpsJv4Luw96mvnfPb1G7a2ynx0Wj5WAdcv38/beNsAB9JXrN0CwkpmoIcyBTOaB3ooTMuqu5Jzs/9Z5/R9fTm//0T3NsZrqTOOfEjXFpGskVDrSbAMhuuGU/wyuwd9M+w003w6myiCEAQZPf/LJW0LbW+zNFFf01zEtasXCciIiIiIpLECl4iAgDknz9cnNwFALUKmT9+jevfvlxcTWugcrUyqbPToMnP0lawAoCoViH7aBLEwnxkJP8P+ecPQ5V5DbcSpxlcp+/8X3A558E/dZIfPS9Zv8hwiwYAUP5W3H5iy+udtGOqrNu4/u0r0uuZ+bzd2bO03OrkzJ+/NWtNsg3aqnoBlqni1e6xJv16k6zglem+J5zzV7L0uaXi00nJyuRlJ7IHLxERERERkQUwwUtkg9I2f4wbyyYYTRbe3qhbxZp/6U+9OeqsNIvHZq6Cy8eL2zWoVTobu5Wmzr2D7D+TofwtUW/Ovu/m6rRlEOT6lYkAUFRUVG5lbMGlo3pjN1dOqbQEuDo/S2+sKC2lUq5F1Z12lzVYZpO1+z/+DbZoKL+CV3+C8biEMgne4ly1ORW8pk8lIiIiIiKqTdiigaiaUmWnI//cITgFt4edWx2Tz7uz/zvknfkFAHDt6xfRYPxKAEB+yjEo9y1D4c0LkMqU5J87aJG4K8OVT58ud07mTwuLbwgCgAHa8ewjm3XmaQqyJc+fO3eu5HhpZRPmmsJ8qLPTyz3PHJr8B/Ep962w6NpUg91PxAqCANGSmU5DbQ/0NlTTH/PsEgPl/tKvUYlkben1hTIVvBI9eAVjyWtW8BIREREREUligpeqXE5ODt59912sXbsWmZmZaN68OaZOnYohQ4ZYO7QqlZ78OXJP/gxAQL1RX+LG0vHSE0sSl6XY+zSAOu8uNGUqPJ1DOupUq2pylbj8cR9Lhl3t3f1lJYKmGn8tBU3V/2j55Y8Nt3nQup/gDZqaDFVWOq4vHFGREI0qupOKoKnJKLx9CTnHd5Q7X+5WRzLJLPUYbYWoLoIgt4coinoJwqL0qxDsFbDz8LNSdJXNUhW82h4N0oclErxlN1lzbt5ZN8EruclaqQSvRDsGvQpeIxW93GSNiIiIiIhIGhO8VOUGDhyIP/74A/Hx8QgJCcGqVavw/PPPQ6PR4IUXXrB2eFUiNzf3fnIXAETDyV0DijKuSo6XTu5Sqb6lFqIpyIGm6B5k9gqkb4636NolShJrKuUNk+a7PdoHEDXQFN1D1oE12vE7+5bB64kR2vuiqIHq7u3ixKcoAoKseNM4e4Xkx/GrI1HU4Mon/XTGXNv0gk+v4r8/2X9tQ+aPXwMA6o38Eg5+j0iuU3j7Eu7sXQbvJ0dD7uYDUV0EufODjfNEUQNRVQiZvaN+DBo1IMj0EpOiqEHR7Uuw93tEu9lY2XOgLkLRnRuwr9MQgiCg6E4qUu/3b3YNj0LOX9sMPvaS1hyi6h4EOwcL1PAWx2+oGrhsv13gwWszJT4aAFB//HeSaxpqu1C2RQMA/R68xnCTNSIiIiIiIklM8FKV2rZtG3766SdtUhcAunbtisuXL2Py5MkYPHgw5HL9JICtyc6WbhNAlnH54z5wDukIO09/g8cBwDNyBOTOXtDcyzF57av/ewaOjVrjXuoZi8RaVvrW/wGiGqo7piV4BZkc7u2eBQCdBG/WwfVQ+IcgbdPsSomzusg5vkOy0vlGwuvlnpu6RL+nsrUYS+7qe/gKXm01rsZAVaxMDnvfIJ2ez4LcXpvcLb5f5lcIwXiCV2qTNbN68LIJLxERERERkSRuskZVauPGjXB1dcWgQYN0xkeOHInU1FQcOnTISpFVLXd3d2uHYPPy/v0dWYd/MDpHuXcZMrZ9jjs//59ZaxdcPvEwoRmlyrxmcnIXgH7SrBRbT+7WWhbo0FBCU5gnfQmZHJ6dh+uOlUno6lfkSiR4S1Xdlq1slurBaxQreImIiIiIiCQxwUtV6uTJk2jRogXs7HQTBa1bt9Yerw2cnZ1Rf1zZjzcTma90kk3u6m3FSKgqODVpC8tkeIuTpQYrh2UyJE/tW2asbMWuboJXKKcHb9m2I+rcO+zBS0REREREZAFs0UBVKiMjA40bN9Yb9/b21h6Xcu/ePdy7d097PysrS3JeTSJ39UKjd7ZW6FxRFKHOzoCdex3dcY1am/C78d3bKEw9a3CNOv2nIX3TnApdvyZwDAqHU9N2UO5bBrHont5xuZsvXEO7Q+7qBdWdG8j6YyNcw3oj59j2ctdW1P8P7l07VRlhm69Ugjfw1SW4MneA9r5zSEcU3r5kcj9fsr46fSfBqUlbqLMzYedVD5r8bGgK86ApzIfCvykA4Mrng4yu4R/zOW6ueFNnrMGE1RBFDa7Nv9/nvJxqWEGQITg4WHfMTneTtX8+6Am3z3VmGF3TzkO3ZYrcyV2/B69elW8prOAlIiIiIiKSxAQvVTljH8k1dGzOnDmIi4urrJBqHEEQ9JK7gG41Z93nPkTu6f1QBDaHvXcgrnz2IPEXOGYZ7NzrIL1KojWf26PRcHu0L1IXvyZ5vNE7W7V9dA0dL+H+WF+9ufXHfwe5i5fOmNeTLwGAToK34aRNuPJZf515DSaugUzhYvT6D6Ph5M3IPpqEO7sXm3ZCqYSYYGdf4TcNqHqRKVwAFL8RJIfua1UszDd6rtzFU29McHACigq09wtS/ir3Nezi4qK7hkw3wevoWGYTuvuvRd0WDaXmN35MZ7pTk8f1/s0v2/ZBEIQHmyUywUtERERERCSJCV6qUj4+PpJVupmZmQAeVPKWNW3aNLz11lva+1lZWWjQoEHlBGkjZApnuIX1MnDMSW/MvcNzyDqwtrLDMsjvuQ8BUYPCtMtwC+sFdd7dCq3j9lhfeDrZ4VhsT+2Y8PGD4/VGzMfVL4dJnhs0NRm+z8bizq5v4dLqSf1NpABAkGNW/1YY/rH+oYcVOCYBgkwOx6Awk8/R74NKtZ2du6/OfZ/eb0CQySGa2dqhbCudsn8fyh7Pvv/miFqt1o6JqgfV84Ig6L0BUTbBm/fv7zr3ZTJZqfWY4CUiIiIiIpLCBC9VqdDQUCQmJkKlUukkB/7++28AQKtWrSTPUygUUCgUVRKjrfKMHAXl3qVQBDTXVgeWpghoVinXdW83sNzNzmQunnB6JBwA4HS/yk+dX7E2HJ6dh+skd8uy93vE6PnOTdrCuUlb7X33DoORdWDNg1gdHDEsohGGS51sAsHOAaKqUGfMKTgCfgPf1d5PHt8Rjy41cUGZTC+hXVrQ1OQKRko1UcNJGwFAupLbzDcD9Kpr7R0NzLxPXQQAWLzYxOpziWvcu/aP4ePswUtERERERCSJm6xRlRowYABycnKwYcMGnfHly5cjICAA7du3t1Jkts+j/UAEvLoYdYcaKD0t0/sy4NXFUAS2MOsagWMS4PXkaJ0xzy7lp0IFicpCu1IbhikCW5ocg2Bv/I0AYy1CJOdLVfE+BKnntGzFZVBQkMnrCTI5lPmqhw2LbED98SshyO0NHpeV83ejPG6PGW/p4Hr/EwOBgYEmr1m2zUO9UQt07ickJDy4/qNlNn0jIiIiIiIiAKzgpSrWu3dv9OjRA2PGjEFWVhaaNm2KxMRE7NixAytXroRczo+bVyZ7T91NjnyfeR/ZR5Pg3rY/HBu1htzVG+qcTHj3HF8818yel3buvnB7/GkoAltAU1QAx4atIQgCFA1Dce/K34ZPlEi6CnYO8I/5Hwqu/A2XFk/g+sIRxdco8xgAwKVlJOzrNIRT48f0WhaExe2Ey3+6IvfUHigatjbr8VQGmcJFr4pX5uiqM8fLywu+z7yPtE2z4dT4ceSfO2h4QWObUpFNajhpo7antv+wTyEoXOBQp6FJ5zZ6Zysyf/4/ZB/ZrB2r03cyXFo+AVFdhMLbKVDUe7C5WoMJq3Fn3zJ4dHxesh1Io3e2ouDqSajupMIltAcA4Pz583ByKm4DU3/CaqPxyGQy+L/4BW4unwi/QXFw8A3SOf7CCy/grY3/QubkDnuf+iY9RiIiIiIiotqGCV6qcj/88ANmzJiB999/H5mZmWjevDkSExMxZMgQa4dW6zg3bQfnpu209+uN+goq5U04+DcFAIilel4KDk5o+OY6nY2Z/Id9hpsrJ+msKQiCXrsH7+6v4sbS8WbHp6gXAkW9EACA74AZyDt/GB4RzwIA3B7rh+yjWwAALq17wKlRG8k1lPkqePccD+cWXeBY3/RK4Eojk6PeiPk6G8jZe+tXPDo3bYdGkzYBALL+2GRw0zX24K19BPnDbabn3e1leHd7WXLd0sldoPjNB5+exv/uOjZoBTR40F7H0dFRMj4B0l10Ff5NDT4emUwG52B+soOIiIiIiMgYJnipyrm6umLevHmYN2+etUOhMuRObpA7uT0YKJWNsb9fIegZOQrKfcvg9ng/ONRtDMjtAXUR3NsNNLiug28Q3Ns/g6xDGySPOwVHlBubc0gHOId00N737DwMgkwOuVsdg8ndEjJ7hU5fXWsS7BR6lYhOZWJbefCy7knGeo8ywUs1xKX4aPaEJiIiIiIiqgRM8BKRQXJXrwe3XYpve7QfCLdHoyC7v+FSwKgFKLx5vtwkrWeXGBRcPo7Cm+f1jnk98aLZsckUzvB68iWzzwOKNx5LiY82bbKBNhURERE4eNBI6wQ9AiCXw7PLMP1DZZK07246WSYEwwlesTDfjBiIiIiIiIiIyNaweSMRGeTd/RUIDs4QFC7w7v6qdrwkuQsUtxdwaflEuRs4CTI5/GM+R4O3NsC5eWedYzKFi2UDtyBFqbYOpeMODQ01eI5jULjeWMCr/4f6ryXAzq2O3jFBVs57bUZaIYtqbrBGREREREREVJsxwUtEBtm5+6H+uBWoP3Y57Nx9H3o9QRAgs1fA9+l3LBBd1XAKCoNHp6FwadUN3j0e9M396KOPIDg4A3I7uIbrVgPXHfyhzn077/qw9/TXqYjWISvvn2LDGV5RXWR6NTIRERERERER2Ry2aCAio2QOjuVPqgC/IR8h69AGuIX1qpT1S9jLBBRpjJTAmsDzv8/rjfn6+qL+2GUQ1UUQ5PbIPfkzxKICePd6AwBQf/xKXFswDPa+QfDtP83o+oJgPMFr7/2gZ69DQDMUpp7V3hfVReY8FCIiIiIiIiKyMUzwEpFVODVqU+7maJZwbnYUAFTK5k4yhbP2dr1RC6BS3oRjo9YAALmLJxq9s9Ui13EKjoBLaA+o7lyHT/RbSP1m9IMYHF3R78tfseX1Tha5FhERERERERHVLGzRQERkAfae/nAKCiu3GreE91NjAZl+ewcpgiCgTtQE+A/9BPae/vCP+R8gt4dDvWZwadEFJ67ffdjwiYiIiIiIiKiGYgUvEZEVuIVHwTW0OwQ7B71jrQM9jCZtFfVC0PDNdYBMDkEQKjNMIiIiIiIiIqrmWMFLRLVOddmUTCq5C8CkdguC3I7JXSIiIiIiIiJiBS8RkS2rLsnsqtbive3IL9LAyV6G0x/2tnY4ZguL2wllvkpnTABwKT66wv2kUx7iXCIiIiIiIqq+mOAlIiKbUxOTuqUdi+1p7RCIiIiIiIiohmCCl8hKyuuzWh0IAMQqOKcsuVC8hqbUQp5OdnBR2GNMZBMMi2gEAHgj8S8kn0hFdOsAANC5XZYplaz92gRgy/HUh4yeiAyprRXlRERERERElYkJXiIrMaXPKhk3//lwzH8+XOe+JdcrUd0/1s6kGZXF1wQREREREVHtwQQvERGRjWBil4iIiIiIqPaRWTsAIqKaZFb/VtrbrQM9LL5+yZpO9vznmaQJBsYtmdy1lxm6ii6+TomIiIiIiKxPEEXxYdtlElW5rKwseHh44O7du3B3d7d2OEREREREREREFsGcB5mLpTdERERERERERERENRQTvEREREREREREREQ1FBO8RERERERERERERDUUE7xERERERERERERENRQTvEREREREREREREQ1FBO8RERERERERERERDUUE7xERERERERERERENRQTvEREREREREREREQ1FBO8RERERERERERERDUUE7xERERERERERERENZSdtQMgqghRFAEAWVlZVo6EiIiIiIiIiMhySnIdJbkPovIwwUs1UnZ2NgCgQYMGVo6EiIiIiIiIiMjysrOz4eHhYe0wqAYQRL4dQDWQRqNBamoq3NzcIAiCtcOpkKysLDRo0ABXr16Fu7u7tcMhG8TXGFU2vsaosvE1RpWNrzGqbHyNUWXja8w2iaKI7OxsBAQEQCZjd1UqHyt4qUaSyWSoX7++tcOwCHd3d/4gpkrF1xhVNr7GqLLxNUaVja8xqmx8jVFl42vM9rByl8zBtwGIiIiIiIiIiIiIaigmeImIiIiIiIiIiIhqKCZ4iaxEoVAgNjYWCoXC2qGQjeJrjCobX2NU2fgao8rG1xhVNr7GqLLxNUZEADdZIyIiIiIiIiIiIqqxWMFLREREREREREREVEMxwUtERERERERERERUQzHBS0RERERERERERFRDMcFLVMVycnIwceJEBAQEwNHREWFhYVi9erW1wyIbkp2djSlTpuCpp56Cr68vBEHAzJkzrR0W2Yjdu3dj1KhRaN68OVxcXBAYGIinn34aR48etXZoZCOOHTuG6OhoNGzYEE5OTvD29kaHDh2wcuVKa4dGNmzx4sUQBAGurq7WDoVswN69eyEIguTXwYMHrR0e2ZBff/0VUVFR8PLygpOTE4KDg/Hhhx9aOywisgI7awdAVNsMHDgQf/zxB+Lj4xESEoJVq1bh+eefh0ajwQsvvGDt8MgGZGRk4Ntvv0WbNm3Qv39/LF682NohkQ1ZuHAhMjIyMGHCBLRs2RJpaWmYO3cuIiIisHPnTjz55JPWDpFqOKVSiQYNGuD5559HYGAgcnNz8f3332P48OFISUnBu+++a+0QycZcv34dkyZNQkBAAO7evWvtcMiGzJ49G127dtUZa9WqlZWiIVuzatUqDB8+HM899xxWrFgBV1dXXLhwAampqdYOjYisQBBFUbR2EES1xbZt2xAdHa1N6pZ46qmncOrUKVy5cgVyudyKEZItKPlnXRAEpKenw9fXF7GxsaziJYu4ffs2/Pz8dMZycnLQtGlTtGrVCrt27bJSZGTrIiIikJqaiitXrlg7FLIxffv2hSAI8Pb2xvr165GTk2PtkKiG27t3L7p27Yp169bh2WeftXY4ZIOuX7+OZs2aISYmBl9//bW1wyGiaoAtGoiq0MaNG+Hq6opBgwbpjI8cORKpqak4dOiQlSIjW1LyEUCiylA2uQsArq6uaNmyJa5evWqFiKi2qFOnDuzs+OEzsqyVK1di3759TJAQUY2yePFi5Obm4p133rF2KERUTTDBS1SFTp48iRYtWuj9B7V169ba40RENc3du3fx559/4j//+Y+1QyEbotFooFKpkJaWhq+//ho7d+7kf2TJom7fvo2JEyciPj4e9evXt3Y4ZIPGjRsHOzs7uLu7o2fPnvj111+tHRLZiP3798Pb2xtnzpxBWFgY7Ozs4Ofnh9deew1ZWVnWDo+IrIAJXqIqlJGRAW9vb73xkrGMjIyqDomI6KGNGzcOubm5mDFjhrVDIRsyduxY2Nvbw8/PD2+++Sbmz5+PV1991dphkQ0ZO3YsmjVrhjFjxlg7FLIxHh4emDBhAr755hvs2bMH8+bNw9WrVxEZGYmdO3daOzyyAdevX0deXh4GDRqEwYMHY9euXZg8eTJWrFiBqKgosBMnUe3Dz7kRVTFjH53nx+qJqKZ577338P333+PLL7/EY489Zu1wyIZMnz4do0ePxu3bt5GUlITx48cjNzcXkyZNsnZoZAM2bNiApKQk/PXXX/z9iywuPDwc4eHh2vudO3fGgAEDEBoaiilTpqBnz55WjI5sgUajQUFBAWJjYzF16lQAQGRkJBwcHDBx4kT8/PPP6N69u5WjJKKqxApeoirk4+MjWaWbmZkJAJLVvURE1VVcXBxmzZqFjz76COPHj7d2OGRjGjZsiMcffxxRUVFYuHAhXnnlFUybNg1paWnWDo1quJycHIwbNw6vv/46AgICoFQqoVQqUVhYCABQKpXIzc21cpRkazw9PdGnTx+cOHEC+fn51g6HajgfHx8A0HuzoHfv3gCAP//8s8pjIiLrYoKXqAqFhobi9OnTUKlUOuN///03AKBVq1bWCIuIyGxxcXGYOXMmZs6cienTp1s7HKoF2rVrB5VKhYsXL1o7FKrh0tPTcevWLcydOxdeXl7ar8TEROTm5sLLywtDhw61dphkg0o+Ns+qcXpYJXu4lFXyGpPJmOohqm34t56oCg0YMAA5OTnYsGGDzvjy5csREBCA9u3bWykyIiLTffjhh5g5cybeffddxMbGWjscqiX27NkDmUyGxo0bWzsUquH8/f2xZ88eva+ePXvC0dERe/bswaxZs6wdJtmYO3fuYOvWrQgLC4Ojo6O1w6Ea7plnngEAbN++XWd827ZtAICIiIgqj4mIrIs9eImqUO/evdGjRw+MGTMGWVlZaNq0KRITE7Fjxw6sXLkScrnc2iGSjdi+fTtyc3ORnZ0NAPjnn3+wfv16AEBUVBScnZ2tGR7VYHPnzsX777+PXr16ITo6GgcPHtQ5zv9Q0MN65ZVX4O7ujnbt2qFu3bpIT0/HunXrsGbNGkyePBm+vr7WDpFqOEdHR0RGRuqNL1u2DHK5XPIYkTleeOEFbZuZOnXq4Ny5c5g7dy5u3bqFZcuWWTs8sgFPPfUU+vbtiw8++AAajQYRERE4cuQI4uLi0KdPH3Tq1MnaIRJRFRNEbq9IVKVycnIwY8YMrF27FpmZmWjevDmmTZuGIUOGWDs0siFBQUG4fPmy5LFLly4hKCioagMimxEZGYl9+/YZPM5fK+hhJSQkICEhAadPn4ZSqYSrqyvatGmD0aNHY9iwYdYOj2zYiBEjsH79euTk5Fg7FKrh4uPjsWbNGly6dAk5OTnw9vZGp06dMG3aNLRt29ba4ZGNyM/PR1xcHFatWoUbN24gICAAQ4cORWxsLBQKhbXDI6IqxgQvERERERERERERUQ3FHrxERERERERERERENRQTvEREREREREREREQ1FBO8RERERERERERERDUUE7xERERERERERERENRQTvEREREREREREREQ1FBO8RERERERERERERDUUE7xERERERERERERENRQTvERERETV2Pz58yEIAlq1amVwjiAImDlzZtUFVQGzZ8/Gpk2brHb9lJQUCIKAzz77zOJrLlu2TDs2c+ZMCIJg1jp5eXmYOXMm9u7da7HYqoMLFy5AoVDgwIEDFltzyZIlCAwMRG5ursXWJCIiMtf+/fvRt29fBAQEQBCECv2OI4oiPvvsM4SEhEChUKBBgwaYPXu25YOlWoEJXiIiIqJqbOnSpQCAU6dO4dChQ1aOpuKsneCtKqNHjzY7oZmXl4e4uDibS/BOmjQJPXr0QIcOHSy25osvvggXFxd88sknFluTiIjIXLm5uWjTpg0WLFhQ4TUmTJiAxYsX47PPPsOZM2eQlJSEdu3aWTBKqk2Y4CUiIiKqpo4cOYLjx48jOjoaQHH1Ym2Qn58PURStHUaF1K9fHxEREdYOw+pOnz6NTZs24fXXX7founZ2dnj11Vcxb9485OXlWXRtIiIiU/Xu3RuzZs3CwIEDJY8XFhZiypQpCAwMhIuLC9q3b6/zRu7p06excOFCbN68Gf369cMjjzyCsLAwdO/evYoeAdkaJniJiIiIqqmShG58fDw6duyI1atXm5zUOnnyJJ5++ml4eXnB0dERYWFhWL58uc6cvXv3QhAEJCYmYsaMGQgICIC7uzu6d++Os2fP6swVRRGzZ89Go0aN4OjoiMcffxw//fQTIiMjERkZaTQWQRCQm5uL5cuXQxAECIKgPWfZsmUQBAE//vgjRo0aBV9fXzg7O+PevXs4f/48Ro4cieDgYDg7OyMwMBB9+/bF33//rXcNpVKJt99+G40bN4ZCoYCfnx+ioqJw5swZg3EVFRXhxRdfhKurK7Zu3Wr0MaSmpuK5556Dm5sbPDw8MHjwYNy8eVNvnlSLht27dyMyMhI+Pj5wcnJCw4YN8cwzzyAvLw8pKSnw9fUFAMTFxWmfnxEjRgCAyc+BOd9LANixYwe6desGDw8PODs7o0WLFpgzZ47OnCNHjqBfv37w9vaGo6MjwsPDsXbtWqPPU4mFCxfC398fPXr00BmPjIxEq1atcODAAXTs2BFOTk4ICgpCQkICACA5ORmPPvoonJ2dERoaih07duitPXToUGRlZWH16tUmxUJERFTVRo4cid9++w2rV6/GiRMnMGjQIPTq1Qvnzp0DACQlJaFx48bYunUrHnnkEQQFBWH06NHIzMy0cuRUUzHBS0RERFQN5efnIzExEW3btkWrVq0watQoZGdnY926deWee/bsWXTs2BGnTp3C/Pnz8cMPP6Bly5YYMWKE5Efbp0+fjsuXL2Px4sX49ttvce7cOfTt2xdqtVo7Z8aMGZgxYwZ69eqFzZs347XXXsPo0aPx77//lhvPgQMH4OTkhKioKBw4cAAHDhzA119/rTNn1KhRsLe3x3fffYf169fD3t4eqamp8PHxQXx8PHbs2IGvvvoKdnZ2aN++vU7SMjs7G506dcI333yDkSNHIikpCYsWLUJISAhu3LghGZNSqUTPnj3x448/Yt++fejTp4/B+PPz89G9e3f8+OOPmDNnDtatWwd/f38MHjy43MeekpKC6OhoODg4YOnSpdixYwfi4+Ph4uKCwsJC1KtXT5vEfOmll7TPz3vvvQcAJj8HJUz5Xi5ZsgRRUVHQaDRYtGgRkpKS8MYbb+DatWvaOXv27MF///tfKJVKLFq0CJs3b0ZYWBgGDx6s03PYkOTkZHTp0gUymf5/N27evImRI0di9OjR2Lx5M0JDQzFq1Ch88MEHmDZtGqZMmYINGzbA1dUV/fv3R2pqqs75/v7+aN68OZKTk8uNg4iIqKpduHABiYmJWLduHTp37owmTZpg0qRJ6NSpk/YNzYsXL+Ly5ctYt24dVqxYgWXLluHo0aN49tlnrRw91VgiEREREVU7K1asEAGIixYtEkVRFLOzs0VXV1exc+fOenMBiLGxsdr7Q4YMERUKhXjlyhWdeb179xadnZ1FpVIpiqIo7tmzRwQgRkVF6cxbu3atCEA8cOCAKIqimJmZKSoUCnHw4ME68w4cOCACEJ944olyH4+Li4v44osv6o0nJCSIAMSYmJhy11CpVGJhYaEYHBwsvvnmm9rxDz74QAQg/vTTTwbPvXTpkghA/PTTT8VLly6JLVu2FFu2bCmmpKSUe92FCxeKAMTNmzfrjL/88ssiADEhIUE7FhsbK5b+FXv9+vUiAPHYsWMG109LS9P7Hhpi6Dkw9XuZnZ0turu7i506dRI1Go3B6zRv3lwMDw8Xi4qKdMb79Okj1qtXT1Sr1QbPvXXrlghAjI+P1zv2xBNPiADEI0eOaMcyMjJEuVwuOjk5idevX9eOHzt2TAQgzp8/X2+doUOHinXr1jUYAxERUVUBIG7cuFF7v+Rnr4uLi86XnZ2d+Nxzz4mi+OB3iLNnz2rPO3r0qAhAPHPmTFU/BLIBrOAlIiIiqoaWLFkCJycnDBkyBADg6uqKQYMG4ZdfftF+vM+Q3bt3o1u3bmjQoIHO+IgRI5CXl6e3CVi/fv107rdu3RoAcPnyZQDAwYMHce/ePTz33HM68yIiIhAUFGT2Y5PyzDPP6I2pVCrMnj0bLVu2hIODA+zs7ODg4IBz587h9OnT2nnbt29HSEiISX3r/vzzT0RERKBu3br47bff0KhRo3LP2bNnD9zc3PSepxdeeKHcc8PCwuDg4IBXXnkFy5cvx8WLF8s9pzRTn4MS5X0vf//9d2RlZWHs2LF6rSRKnD9/HmfOnMHQoUO1MZR8RUVF4caNG5LVwyVKKm79/Pwkj9erVw+PPfaY9r63tzf8/PwQFhaGgIAA7XiLFi10Yi/Nz88Pt2/fhkqlMhgHERGRNWg0Gsjlchw9ehTHjh3Tfp0+fRrz5s0DUPyz0M7ODiEhIdrzSn7uXblyxSpxU83GBC8RERFRNXP+/Hns378f0dHREEURSqUSSqVS+7G9pUuXGj0/IyMD9erV0xsvSZ5lZGTojPv4+OjcVygUAIpbE5SeX7duXb01pcYqQiret956C++99x769++PpKQkHDp0CH/88QfatGmjjQ0A0tLSUL9+fZOu89NPP+HWrVsYPXo0PD09TTonIyND8nH6+/uXe26TJk2wa9cu+Pn5Ydy4cWjSpAmaNGmi/Q9eeUx9DkqU971MS0sDAKPP161btwAAkyZNgr29vc7X2LFjAQDp6ekGzy+5lqOjo+Rxb29vvTEHBwe9cQcHBwBAQUGB3nxHR0eIoih5jIiIyJrCw8OhVqtx+/ZtNG3aVOer5HeH//73v1CpVLhw4YL2vJK2V6a8+UxUlp21AyAiIiIiXUuXLoUoili/fj3Wr1+vd3z58uWYNWsW5HK55Pk+Pj6SvWdLKivr1KljVjwlScOSxF9pN2/etEgVr1Q16cqVKxETE4PZs2frjKenp+skZ319fXX6xxozefJkXLhwATExMVCpVIiJiSn3HB8fHxw+fFhvXGqTNSmdO3dG586doVarceTIEXz55ZeYOHEi6tatq63QNsTU58BUJRu6GXu+Sl4f06ZNM7g7eLNmzco9vzI3isnMzIRCoYCrq2ulXYOIiMiQnJwcnD9/Xnv/0qVLOHbsGLy9vRESEoKhQ4ciJiYGc+fORXh4ONLT07F7926EhoYiKioK3bt3x6OPPopRo0bhiy++gEajwbhx49CjRw+dql4iU7GCl4iIiKgaUavVWL58OZo0aYI9e/bofb399tu4ceMGtm/fbnCNbt26Yffu3XqbU61YsQLOzs6IiIgwK6b27dtDoVBgzZo1OuMHDx6U/Pi8FIVCIVlxaowgCNoK1BLJycm4fv26zljv3r3x77//Yvfu3eWuKZPJ8M0332DChAkYMWIEFi5cWO45Xbt2RXZ2NrZs2aIzvmrVKhMexQNyuRzt27fHV199BaC4XQSgX2VbmqnPgak6duwIDw8PLFq0CKIoSs5p1qwZgoODcfz4cTz++OOSX25ubgav0ahRIzg5OelUJVnaxYsX0bJly0pbn4iIyJgjR44gPDwc4eHhAIo/cRMeHo73338fAJCQkICYmBi8/fbbaNasGfr164dDhw5p22fJZDIkJSWhTp066NKlC6Kjo9GiRQusXr3aao+JajZW8BIRERFVI9u3b0dqaio+/vhjREZG6h1v1aoVFixYgCVLlqBPnz6Sa8TGxmLr1q3o2rUr3n//fXh7e+P7779HcnIyPvnkE3h4eJgVk7e3N9566y3MmTMHXl5eGDBgAK5du4a4uDjUq1cPMln5NQOhoaHYu3cvkpKSUK9ePbi5uRmtAgWAPn36YNmyZWjevDlat26No0eP4tNPP9VrLzBx4kSsWbMGTz/9NKZOnYp27dohPz8f+/btQ58+fdC1a1e9tefOnQs3NzeMHTsWOTk5mDx5ssE4YmJi8PnnnyMmJgYfffQRgoODsW3bNuzcubPcx71o0SLs3r0b0dHRaNiwIQoKCrQtNkp6Bru5uaFRo0bYvHkzunXrBm9vb9SpUwdBQUEmPwemcnV1xdy5czF69Gh0794dL7/8MurWrYvz58/j+PHjWLBgAQDgm2++Qe/evdGzZ0+MGDECgYGByMzMxOnTp/Hnn39i3bp1Bq/h4OCADh064ODBgxWKsTwajQaHDx/GSy+9VCnrExERlScyMtLgG6UAYG9vj7i4OMTFxRmcExAQgA0bNlRGeFQLsYKXiIiIqBpZsmQJHBwcMHLkSMnjderUwYABA7B161bJlglAcQXm77//jmbNmmHcuHHo378/Tp48iYSEBKOJTGM++ugjzJo1C8nJyejXrx/mz5+PhQsXws/Pz6RWAfPmzUNwcDCGDBmCtm3b4tVXXzXpnGHDhmHOnDno27cvtmzZgh9++AFNmjTRmefm5oZff/0VL730Er799ltER0fj5ZdfxtmzZ3U27Spr5syZ+PTTTzFlyhTExsYanOfs7Izdu3eje/fumDp1Kp599llcu3bNpCqbsLAwqFQqxMbGonfv3hg+fDjS0tKwZcsWPPXUU9p5S5YsgbOzM/r164e2bdti5syZZj0H5njppZewbds2qNVqjB49Gn369MEXX3yBhg0baud07doVhw8fhqenJyZOnIju3btjzJgx2LVrl0mb2Q0dOhSHDx+WbBXysPbu3Yu7d+9qN4EjIiIiqu0E0dhbDkREREREBly6dAnNmzdHbGwspk+fbu1wqBopKChAw4YN8fbbb+Odd96x6NrDhw/HxYsX8dtvv1l0XSIiIqKaigleIiIiIirX8ePHkZiYiI4dO8Ld3R1nz57FJ598gqysLJw8eRJ169a1dohUzSxcuBAzZ87ExYsX4eLiYpE1L1y4gBYtWmD37t3o1KmTRdYkIiIiqun+H9/PqIGJ+8e0AAAAAElFTkSuQmCC' width=1400.0/>\n",
       "            </div>\n",
       "        "
      ],
      "text/plain": [
       "Canvas(toolbar=Toolbar(toolitems=[('Home', 'Reset original view', 'home', 'home'), ('Back', 'Back to previous …"
      ]
     },
     "metadata": {},
     "output_type": "display_data"
    }
   ],
   "source": [
    "%matplotlib widget\n",
    "\n",
    "fig, ax = plt.subplots(figsize=(14, 4))\n",
    "\n",
    "gt1r.height.plot(ax=ax, ls='', marker='o', ms=1)\n",
    "gt1r.height.rolling(x=1000, min_periods=500, center=True).mean().plot(ax=ax, c='k', lw=2)\n",
    "ax.set_xlabel('Along track distance (m)', fontsize=12);\n",
    "ax.set_ylabel('Photon Height (m)', fontsize=12)\n",
    "ax.set_title('ICESat-2 ATL03', fontsize=14)\n",
    "ax.tick_params(axis='both', which='major', labelsize=12)\n",
    "\n",
    "subax = fig.add_axes([0.69,0.50,0.3,0.3], projection=ccrs.SouthPolarStereo())\n",
    "subax.set_aspect('equal')\n",
    "subax.set_extent([-180., 180., -30, -90.], ccrs.PlateCarree())\n",
    "subax.add_feature(cfeature.LAND)\n",
    "subax.plot(gt1r.longitude, gt1r.latitude, transform=ccrs.PlateCarree(), lw=1);\n",
    "\n",
    "#fig.savefig('test.png')\n",
    "\n",
    "plt.show()"
   ]
  },
  {
   "cell_type": "code",
   "execution_count": 71,
   "id": "88771fc7-246a-40ac-9ff5-107b9dc086a2",
   "metadata": {
    "pycharm": {
     "name": "#%%\n"
    }
   },
   "outputs": [],
   "source": [
    "# f = s3_fs.open(s3_urls[0], mode='rb')\n",
    "# ds = xr.open_dataset(f, decode_times=False)\n",
    "# ds"
   ]
  },
  {
   "cell_type": "markdown",
   "id": "thorough-shopping",
   "metadata": {},
   "source": [
    "### 8. Plot data in place"
   ]
  },
  {
   "cell_type": "markdown",
   "id": "diagnostic-batman",
   "metadata": {},
   "source": [
    "#### Steps Involved:\n",
    "\n",
    "47. Obtain STAC catalog URL for job ID\n",
    "1. Iterate over each STAC asset\n",
    "1. Plot the asset (For parity with on-prem visualization is collapsed into a single step)"
   ]
  },
  {
   "cell_type": "code",
   "execution_count": 47,
   "id": "frozen-formation",
   "metadata": {},
   "outputs": [
    {
     "name": "stdout",
     "output_type": "stream",
     "text": [
      "https://harmony.uat.earthdata.nasa.gov/stac/347dd43b-76e1-483d-a716-9fa577235f1e/?linktype=https\n",
      "3.8066484928131104 seconds wall time\n"
     ]
    }
   ],
   "source": [
    "t0 = time.time()\n",
    "\n",
    "stac_catalog_url = harmony_client.stac_catalog_url(job_id)\n",
    "print(stac_catalog_url)\n",
    "\n",
    "wall_time = time.time() - t0\n",
    "cloud_times.append(wall_time)\n",
    "print (wall_time, \"seconds wall time\")"
   ]
  },
  {
   "cell_type": "code",
   "execution_count": 48,
   "id": "normal-establishment",
   "metadata": {},
   "outputs": [
    {
     "name": "stdout",
     "output_type": "stream",
     "text": [
      "https://harmony.uat.earthdata.nasa.gov/stac/347dd43b-76e1-483d-a716-9fa577235f1e/?linktype=https\n"
     ]
    },
    {
     "ename": "AttributeError",
     "evalue": "open_stac_catalog",
     "output_type": "error",
     "traceback": [
      "\u001b[0;31m---------------------------------------------------------------------------\u001b[0m",
      "\u001b[0;31mKeyError\u001b[0m                                  Traceback (most recent call last)",
      "\u001b[0;32m/srv/conda/envs/notebook/lib/python3.9/site-packages/intake/__init__.py\u001b[0m in \u001b[0;36m__getattr__\u001b[0;34m(attr)\u001b[0m\n\u001b[1;32m     60\u001b[0m     \u001b[0;32mtry\u001b[0m\u001b[0;34m:\u001b[0m\u001b[0;34m\u001b[0m\u001b[0;34m\u001b[0m\u001b[0m\n\u001b[0;32m---> 61\u001b[0;31m         \u001b[0;32mreturn\u001b[0m \u001b[0mgl\u001b[0m\u001b[0;34m[\u001b[0m\u001b[0mattr\u001b[0m\u001b[0;34m]\u001b[0m\u001b[0;34m\u001b[0m\u001b[0;34m\u001b[0m\u001b[0m\n\u001b[0m\u001b[1;32m     62\u001b[0m     \u001b[0;32mexcept\u001b[0m \u001b[0mKeyError\u001b[0m\u001b[0;34m:\u001b[0m\u001b[0;34m\u001b[0m\u001b[0;34m\u001b[0m\u001b[0m\n",
      "\u001b[0;31mKeyError\u001b[0m: 'open_stac_catalog'",
      "\nDuring handling of the above exception, another exception occurred:\n",
      "\u001b[0;31mAttributeError\u001b[0m                            Traceback (most recent call last)",
      "\u001b[0;32m/tmp/ipykernel_46/3116126551.py\u001b[0m in \u001b[0;36m<module>\u001b[0;34m\u001b[0m\n\u001b[1;32m      8\u001b[0m \u001b[0mstac_catalog_url\u001b[0m \u001b[0;34m=\u001b[0m \u001b[0mharmony_client\u001b[0m\u001b[0;34m.\u001b[0m\u001b[0mstac_catalog_url\u001b[0m\u001b[0;34m(\u001b[0m\u001b[0mjob_id\u001b[0m\u001b[0;34m)\u001b[0m\u001b[0;34m\u001b[0m\u001b[0;34m\u001b[0m\u001b[0m\n\u001b[1;32m      9\u001b[0m \u001b[0mprint\u001b[0m\u001b[0;34m(\u001b[0m\u001b[0mstac_catalog_url\u001b[0m\u001b[0;34m)\u001b[0m\u001b[0;34m\u001b[0m\u001b[0;34m\u001b[0m\u001b[0m\n\u001b[0;32m---> 10\u001b[0;31m \u001b[0mcat\u001b[0m \u001b[0;34m=\u001b[0m \u001b[0mintake\u001b[0m\u001b[0;34m.\u001b[0m\u001b[0mopen_stac_catalog\u001b[0m\u001b[0;34m(\u001b[0m\u001b[0mstac_catalog_url\u001b[0m\u001b[0;34m)\u001b[0m\u001b[0;34m\u001b[0m\u001b[0;34m\u001b[0m\u001b[0m\n\u001b[0m\u001b[1;32m     11\u001b[0m \u001b[0mdisplay\u001b[0m\u001b[0;34m(\u001b[0m\u001b[0mlist\u001b[0m\u001b[0;34m(\u001b[0m\u001b[0mcat\u001b[0m\u001b[0;34m)\u001b[0m\u001b[0;34m)\u001b[0m\u001b[0;34m\u001b[0m\u001b[0;34m\u001b[0m\u001b[0m\n\u001b[1;32m     12\u001b[0m \u001b[0;32mfor\u001b[0m \u001b[0mi\u001b[0m \u001b[0;32min\u001b[0m \u001b[0mrange\u001b[0m\u001b[0;34m(\u001b[0m\u001b[0mlen\u001b[0m\u001b[0;34m(\u001b[0m\u001b[0mlist\u001b[0m\u001b[0;34m(\u001b[0m\u001b[0mcat\u001b[0m\u001b[0;34m)\u001b[0m\u001b[0;34m)\u001b[0m\u001b[0;34m)\u001b[0m\u001b[0;34m:\u001b[0m\u001b[0;34m\u001b[0m\u001b[0;34m\u001b[0m\u001b[0m\n",
      "\u001b[0;32m/srv/conda/envs/notebook/lib/python3.9/site-packages/intake/__init__.py\u001b[0m in \u001b[0;36m__getattr__\u001b[0;34m(attr)\u001b[0m\n\u001b[1;32m     61\u001b[0m         \u001b[0;32mreturn\u001b[0m \u001b[0mgl\u001b[0m\u001b[0;34m[\u001b[0m\u001b[0mattr\u001b[0m\u001b[0;34m]\u001b[0m\u001b[0;34m\u001b[0m\u001b[0;34m\u001b[0m\u001b[0m\n\u001b[1;32m     62\u001b[0m     \u001b[0;32mexcept\u001b[0m \u001b[0mKeyError\u001b[0m\u001b[0;34m:\u001b[0m\u001b[0;34m\u001b[0m\u001b[0;34m\u001b[0m\u001b[0m\n\u001b[0;32m---> 63\u001b[0;31m         \u001b[0;32mraise\u001b[0m \u001b[0mAttributeError\u001b[0m\u001b[0;34m(\u001b[0m\u001b[0mattr\u001b[0m\u001b[0;34m)\u001b[0m\u001b[0;34m\u001b[0m\u001b[0;34m\u001b[0m\u001b[0m\n\u001b[0m\u001b[1;32m     64\u001b[0m \u001b[0;34m\u001b[0m\u001b[0m\n\u001b[1;32m     65\u001b[0m \u001b[0;34m\u001b[0m\u001b[0m\n",
      "\u001b[0;31mAttributeError\u001b[0m: open_stac_catalog"
     ]
    }
   ],
   "source": [
    "#\n",
    "# NOTE: Execution of this cell will only succeed within the AWS us-west-2 region. \n",
    "#\n",
    "\n",
    "\n",
    "t0 = time.time()\n",
    "\n",
    "stac_catalog_url = harmony_client.stac_catalog_url(job_id)\n",
    "print(stac_catalog_url)\n",
    "cat = intake.open_stac_catalog(stac_catalog_url)\n",
    "display(list(cat))\n",
    "for i in range(len(list(cat))):\n",
    "    da = cat[list(cat)[i]][entries[i].describe()['name']].to_dask()\n",
    "    display(da)\n",
    "    da.plot()\n",
    "    \n",
    "wall_time = time.time() - t0\n",
    "cloud_times.append(wall_time)\n",
    "print (wall_time, \"seconds wall time\")"
   ]
  },
  {
   "cell_type": "markdown",
   "id": "judicial-intention",
   "metadata": {},
   "source": [
    "## Total cloud time"
   ]
  },
  {
   "cell_type": "code",
   "execution_count": null,
   "id": "experimental-courage",
   "metadata": {},
   "outputs": [],
   "source": [
    "print(\"Total cloud time (sec):\", sum(cloud_times))"
   ]
  },
  {
   "cell_type": "code",
   "execution_count": null,
   "id": "coastal-fluid",
   "metadata": {},
   "outputs": [],
   "source": []
  }
 ],
 "metadata": {
  "kernelspec": {
   "display_name": "Python 3 (ipykernel)",
   "language": "python",
   "name": "python3"
  },
  "language_info": {
   "codemirror_mode": {
    "name": "ipython",
    "version": 3
   },
   "file_extension": ".py",
   "mimetype": "text/x-python",
   "name": "python",
   "nbconvert_exporter": "python",
   "pygments_lexer": "ipython3",
   "version": "3.9.7"
  }
 },
 "nbformat": 4,
 "nbformat_minor": 5
}
