{
 "cells": [
  {
   "cell_type": "markdown",
   "id": "98c63a35-00eb-4bad-99cc-724d1eeab986",
   "metadata": {},
   "source": [
    "# TRT KPI: Minimize Time to Science\n",
    "### IN PROGRESS: Updated in PI 22.2 (Spring 2022) \n",
    "\n",
    "The following KPIs are measured in this notebook:\n",
    "\n",
    "* Number of lines of code for a given workflow in the cloud / Number of lines for same workflow on-prem\n",
    "* Run time for a given workflow in the cloud / run time for same workflow on-prem\n",
    "\n",
    "#### Workflows: \n",
    "* Basic data search, customize, access, plotting, with a collection that is available on-prem and in Earthdata Cloud.\n",
    "\n",
    "* Data tested (updated in PI 22.2):\n",
    "    * Using Cloud Metrics to select popular service combination:\n",
    "        * Synchronous, L2SS, NetCDF, Spatial & variable request\n",
    "            * Can we filter by non-admin and by collection requested?\n",
    "    * Working off of [Openscapes OPeNDAP tutorial](https://nasa-openscapes.github.io/2021-Cloud-Hackathon/tutorials/06_S6_OPeNDAP_Access_Gridding.html)\n",
    "\n",
    "```\n",
    "ShortName = 'JASON_CS_S6A_L2_ALT_LR_RED_OST_NRT_F'\n",
    "concept_id = 'C1968980576-POCLOUD'\n",
    "```\n",
    "    * On Prem subsetting:\n",
    "        * [PO.DAAC python script: Subset L1/L2 using OPeNDAP](https://podaac-tools.jpl.nasa.gov/drive/files/common/sw/subsetting/subset_dataset_l2.py)"
   ]
  },
  {
   "cell_type": "code",
   "execution_count": null,
   "id": "c01c2c10-61e3-4ba4-a1d0-822dd68afd3c",
   "metadata": {},
   "outputs": [],
   "source": []
  }
 ],
 "metadata": {
  "kernelspec": {
   "display_name": "Python 3 (ipykernel)",
   "language": "python",
   "name": "python3"
  },
  "language_info": {
   "codemirror_mode": {
    "name": "ipython",
    "version": 3
   },
   "file_extension": ".py",
   "mimetype": "text/x-python",
   "name": "python",
   "nbconvert_exporter": "python",
   "pygments_lexer": "ipython3",
   "version": "3.9.12"
  }
 },
 "nbformat": 4,
 "nbformat_minor": 5
}
