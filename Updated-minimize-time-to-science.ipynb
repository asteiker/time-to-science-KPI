{
 "cells": [
  {
   "cell_type": "markdown",
   "id": "98c63a35-00eb-4bad-99cc-724d1eeab986",
   "metadata": {},
   "source": [
    "# TRT KPI: Minimize Time to Science\n",
    "### IN PROGRESS: Updated in PI 22.2 (Spring 2022) \n",
    "\n",
    "The following KPIs are measured in this notebook:\n",
    "\n",
    "* Number of lines of code for a given workflow in the cloud / Number of lines for same workflow on-prem\n",
    "* Run time for a given workflow in the cloud / run time for same workflow on-prem\n",
    "\n",
    "#### Workflows: \n",
    "* Basic data search, customize, access, plotting, with a collection that is available on-prem and in Earthdata Cloud.\n",
    "\n",
    "* Data tested (updated in PI 22.2):\n",
    "    * Using Cloud Metrics to select popular service combination:\n",
    "        * Synchronous, L2SS, NetCDF, Spatial & variable request\n",
    "            * Can we filter by non-admin and by collection requested?\n",
    "    * Working off of [Openscapes OPeNDAP tutorial](https://nasa-openscapes.github.io/2021-Cloud-Hackathon/tutorials/06_S6_OPeNDAP_Access_Gridding.html)\n",
    "    * Switching from UAT to PROD examples\n",
    "\n",
    "```\n",
    "ShortName = 'JASON_CS_S6A_L2_ALT_LR_RED_OST_NRT_F'\n",
    "concept_id = 'C1968980576-POCLOUD'\n",
    "```\n",
    "\n",
    "* On Prem subsetting:\n",
    "    * [PO.DAAC python script: Subset L1/L2 using OPeNDAP](https://podaac-tools.jpl.nasa.gov/drive/files/common/sw/subsetting/subset_dataset_l2.py)"
   ]
  },
  {
   "cell_type": "markdown",
   "id": "abebc153-6a9a-4af0-bd62-6b665c25f148",
   "metadata": {},
   "source": [
    "## Import Packages"
   ]
  },
  {
   "cell_type": "code",
   "execution_count": 22,
   "id": "9c94c173-8a36-496f-95a4-30d6635ef786",
   "metadata": {},
   "outputs": [],
   "source": [
    "\n",
    "#cloud workflow\n",
    "import requests\n",
    "from pprint import pprint\n",
    "from harmony import BBox, Client, Collection, Request, LinkType\n",
    "from harmony.config import Environment\n",
    "import datetime as dt"
   ]
  },
  {
   "cell_type": "markdown",
   "id": "e471f9db-ce34-49ca-82fb-744077d2f2b4",
   "metadata": {},
   "source": [
    "## On-prem Workflow"
   ]
  },
  {
   "cell_type": "code",
   "execution_count": null,
   "id": "5eeb1492-6539-4563-a169-56f2fa75ddd3",
   "metadata": {},
   "outputs": [],
   "source": []
  },
  {
   "cell_type": "markdown",
   "id": "a0591866-7ec5-408b-9ad9-8b7f45ff0762",
   "metadata": {},
   "source": [
    "## Cloud Workflow"
   ]
  },
  {
   "cell_type": "code",
   "execution_count": 1,
   "id": "eb56d809-7a13-48d8-8443-1fdd50c57bee",
   "metadata": {},
   "outputs": [],
   "source": [
    "# gather times to add up end to end\n",
    "cloud_times = []"
   ]
  },
  {
   "cell_type": "markdown",
   "id": "1102fdc4-a151-47af-9bd2-7c57203f0cdb",
   "metadata": {},
   "source": [
    "### 1. Determine subsetting service options"
   ]
  },
  {
   "cell_type": "markdown",
   "id": "4a138c27-e876-46f7-8e18-5234df9f38a7",
   "metadata": {
    "tags": []
   },
   "source": [
    "#### Steps Involved (NEED TO UPDATE):\n",
    "\n",
    "* Add step to identify collection of interest\n",
    "\n",
    "```\n",
    "Here we are jumping ahead and already know the `concept_id` we are interested in, by browsing cloud-hosted datasets from PO.DAAC in Earthdata Search: https://search.earthdata.nasa.gov/portal/podaac-cloud/search. \n",
    "\n",
    "We are going to focus on `MODIS_A-JPL-L2P-v2019.0`: GHRSST Level 2P Global Sea Surface Skin Temperature from the Moderate Resolution Imaging Spectroradiometer (MODIS) on the NASA Aqua satellite (GDS2). Let's first save this as a variable that we can use later on once we request data from Harmony.\n",
    "\n",
    "We will view the top-level metadata for this collection to see what additional service and variable metadata exist.\n",
    "\n",
    "We need to isolate the services returned for this dataset:\n",
    "\n",
    "Inspect the first service returned. Now we're going to search the services endpoint to view that individual service's metadata, like we did with our dataset above. This time, we're explicitly setting the format of the response to umm-json in the Accept Header in order to see detailed metadata about the service.\n",
    "\n",
    "```\n",
    "\n",
    "1. Set the token as a request parameter\n",
    "1. Set desired CMR output format for collections (using the default requires more steps to get at the desired information)\n",
    "1. Perform CMR collection search using the collection-related search fields\n",
    "1. Parse the search result\n",
    "1. Retrieve collection from the search result\n",
    "1. Retrieve associated service IDs from the collection\n",
    "1. Set desired (different) output format for services\n",
    "1. Format a query to fetch the service for each service ID (why isn't this a link relation?)\n",
    "1. Perform CMR service search for each each service ID\n",
    "1. Parse the search result\n",
    "1. Retrieve service from the search result\n",
    "1. Retrieve associated service options from the service\n"
   ]
  },
  {
   "cell_type": "code",
   "execution_count": 17,
   "id": "6ebda40d-f036-4a6c-86d9-c3752bb23cbb",
   "metadata": {
    "collapsed": true,
    "jupyter": {
     "outputs_hidden": true
    },
    "tags": []
   },
   "outputs": [
    {
     "name": "stdout",
     "output_type": "stream",
     "text": [
      "CPU times: user 2 µs, sys: 0 ns, total: 2 µs\n",
      "Wall time: 5.25 µs\n",
      "['S1962070864-POCLOUD', 'S2004184019-POCLOUD', 'S2153799015-POCLOUD', 'S2227193226-POCLOUD']\n",
      "{'hits': 1,\n",
      " 'items': [{'meta': {'concept-id': 'S1962070864-POCLOUD',\n",
      "                     'concept-type': 'service',\n",
      "                     'deleted': False,\n",
      "                     'format': 'application/vnd.nasa.cmr.umm+json',\n",
      "                     'native-id': 'POCLOUD_podaac_l2_cloud_subsetter',\n",
      "                     'provider-id': 'POCLOUD',\n",
      "                     'revision-date': '2022-05-31T23:46:37.054Z',\n",
      "                     'revision-id': 25,\n",
      "                     'user-id': 'chen5510'},\n",
      "            'umm': {'AccessConstraints': 'None',\n",
      "                    'Description': 'Endpoint for subsetting L2 Subsetter via '\n",
      "                                   'Harmony',\n",
      "                    'LongName': 'PODAAC Level 2 Cloud Subsetter',\n",
      "                    'MetadataSpecification': {'Name': 'UMM-S',\n",
      "                                              'URL': 'https://cdn.earthdata.nasa.gov/umm/service/v1.5.0',\n",
      "                                              'Version': '1.5.0'},\n",
      "                    'Name': 'PODAAC L2 Cloud Subsetter',\n",
      "                    'OperationMetadata': [{'OperationName': 'SPATIAL_SUBSETTING'},\n",
      "                                          {'OperationName': 'VARIABLE_SUBSETTING'},\n",
      "                                          {'OperationName': 'TEMPORAL_SUBSETTING'}],\n",
      "                    'ServiceKeywords': [{'ServiceCategory': 'EARTH SCIENCE '\n",
      "                                                            'SERVICES',\n",
      "                                         'ServiceTerm': 'SUBSETTING/SUPERSETTING',\n",
      "                                         'ServiceTopic': 'DATA MANAGEMENT/DATA '\n",
      "                                                         'HANDLING'}],\n",
      "                    'ServiceOptions': {'Subset': {'SpatialSubset': {'BoundingBox': {'AllowMultipleValues': False},\n",
      "                                                                    'Shapefile': [{'Format': 'ESRI'},\n",
      "                                                                                  {'Format': 'KML'},\n",
      "                                                                                  {'Format': 'GeoJSON'}]},\n",
      "                                                  'TemporalSubset': {'AllowMultipleValues': False},\n",
      "                                                  'VariableSubset': {'AllowMultipleValues': True}},\n",
      "                                       'SupportedReformattings': [{'SupportedInputFormat': 'HDF5',\n",
      "                                                                   'SupportedOutputFormats': ['NETCDF-4']},\n",
      "                                                                  {'SupportedInputFormat': 'NETCDF-4',\n",
      "                                                                   'SupportedOutputFormats': ['NETCDF-4']}]},\n",
      "                    'ServiceOrganizations': [{'LongName': 'Physical '\n",
      "                                                          'Oceanography '\n",
      "                                                          'Distributed Active '\n",
      "                                                          'Archive Center, Jet '\n",
      "                                                          'Propulsion '\n",
      "                                                          'Laboratory, NASA',\n",
      "                                              'Roles': ['ORIGINATOR'],\n",
      "                                              'ShortName': 'NASA/JPL/PODAAC'}],\n",
      "                    'Type': 'Harmony',\n",
      "                    'URL': {'Description': 'PROJECT HOME PAGE',\n",
      "                            'URLValue': 'https://harmony.earthdata.nasa.gov'},\n",
      "                    'Version': '1.5.0'}}],\n",
      " 'took': 21}\n"
     ]
    }
   ],
   "source": [
    "%time \n",
    "\n",
    "url = 'https://cmr.earthdata.nasa.gov/search'\n",
    "collection_url = f'{url}/{\"collections\"}'\n",
    "\n",
    "short_name= 'MODIS_A-JPL-L2P-v2019.0'\n",
    "concept_id = 'C1940473819-POCLOUD'\n",
    "\n",
    "response = requests.get(collection_url, \n",
    "                        params={\n",
    "                            'concept_id': concept_id,\n",
    "                            },\n",
    "                        headers={\n",
    "                            'Accept': 'application/json'\n",
    "                            }\n",
    "                       )\n",
    "response = response.json()\n",
    "# pprint(response)\n",
    "\n",
    "services = response['feed']['entry'][0]['associations']['services']\n",
    "print(services)\n",
    "\n",
    "service_url = \"https://cmr.earthdata.nasa.gov/search/services\"\n",
    "\n",
    "service_response = requests.get(service_url, \n",
    "                        params={\n",
    "                            'concept_id': services[0],\n",
    "                            },\n",
    "                        headers={\n",
    "                            'Accept': 'application/vnd.nasa.cmr.umm_results+json'\n",
    "                            }\n",
    "                       )\n",
    "service_response = service_response.json()\n",
    "pprint(service_response)"
   ]
  },
  {
   "cell_type": "markdown",
   "id": "a50d29ed-fedc-4728-9d2a-83c346a3a102",
   "metadata": {},
   "source": [
    "### 2. Determine variables for collection of interest"
   ]
  },
  {
   "cell_type": "markdown",
   "id": "9949fc2e-3338-424a-a7de-aff393938180",
   "metadata": {
    "tags": []
   },
   "source": [
    "#### Steps Involved (NEED TO UPDATE):\n",
    "\n",
    "```\n",
    "Several variable records are returned. Again, like we did for services, we'll search the variables endpoint to view an individual variable's metadata, and we'll print out the list of variables for our dataset. \n",
    "\n",
    "Next, print out a simple list of all associated variable names by looping the same variable response we submitted above, this time for each variable:\n",
    "```\n",
    "\n",
    "34. Retrieve associated variable IDs from the collection\n",
    "1. Set desired (different) output format for variables\n",
    "1. Format a query to fetch the service for each variable ID (why isn't this a link relation?)\n",
    "1. Perform CMR variable search for each variable ID\n",
    "1. Parse the search result\n",
    "1. Retrieve variable from the search result\n",
    "1. Retrieve variable names from the variable\n",
    "\n",
    "##### Notes\n",
    "* Assumes we could reuse the already-searched and parsed collection record from service lookup step with refactoring\n"
   ]
  },
  {
   "cell_type": "code",
   "execution_count": 18,
   "id": "000c1c91-a5b6-4cc7-8185-5d4537e4fd94",
   "metadata": {
    "tags": []
   },
   "outputs": [
    {
     "name": "stdout",
     "output_type": "stream",
     "text": [
      "CPU times: user 3 µs, sys: 0 ns, total: 3 µs\n",
      "Wall time: 6.68 µs\n",
      "['V1997812737-POCLOUD', 'V1997812697-POCLOUD', 'V2112014688-POCLOUD', 'V1997812756-POCLOUD', 'V1997812688-POCLOUD', 'V1997812670-POCLOUD', 'V1997812724-POCLOUD', 'V2112014684-POCLOUD', 'V1997812701-POCLOUD', 'V1997812681-POCLOUD', 'V2112014686-POCLOUD', 'V1997812663-POCLOUD', 'V1997812676-POCLOUD', 'V1997812744-POCLOUD', 'V1997812714-POCLOUD']\n",
      "['sses_standard_deviation_4um',\n",
      " 'l2p_flags',\n",
      " 'time',\n",
      " 'dt_analysis',\n",
      " 'sses_standard_deviation',\n",
      " 'sst_dtime',\n",
      " 'sses_bias_4um',\n",
      " 'lat',\n",
      " 'sea_surface_temperature_4um',\n",
      " 'sses_bias',\n",
      " 'lon',\n",
      " 'sea_surface_temperature',\n",
      " 'quality_level',\n",
      " 'wind_speed',\n",
      " 'quality_level_4um']\n"
     ]
    }
   ],
   "source": [
    "%time \n",
    "\n",
    "variables = response['feed']['entry'][0]['associations']['variables']\n",
    "print(variables)\n",
    "\n",
    "var_url = \"https://cmr.earthdata.nasa.gov/search/variables\"\n",
    "var_response = requests.get(var_url, \n",
    "                        params={\n",
    "                            'concept_id': variables[0],\n",
    "                            },\n",
    "                        headers={\n",
    "                            'Accept': 'application/vnd.nasa.cmr.umm_results+json'\n",
    "                            }\n",
    "                       )\n",
    "var_response = var_response.json()\n",
    "#pprint(var_response)\n",
    "\n",
    "var_list = []\n",
    "for i in range(len(variables)):\n",
    "    var_response = requests.get(var_url, \n",
    "                            params={\n",
    "                                'concept_id': variables[i],\n",
    "                                },\n",
    "                            headers={\n",
    "                                'Accept': 'application/vnd.nasa.cmr.umm_results+json'\n",
    "                                }\n",
    "                           )\n",
    "    var_response = var_response.json()\n",
    "    var_list.append(var_response['items'][0]['umm']['Name'])\n",
    "\n",
    "pprint(var_list)"
   ]
  },
  {
   "cell_type": "markdown",
   "id": "5fb49e7a-176f-49b8-8548-783aa0b79914",
   "metadata": {},
   "source": [
    "### 3. Request variable subset\n"
   ]
  },
  {
   "cell_type": "markdown",
   "id": "18151715-0024-4e9b-b19d-56aa45949ce9",
   "metadata": {},
   "source": [
    "#### Steps Involved (NEED TO UPDATE):\n",
    "\n",
    "'''\n",
    "We can check on the progress of a processing job with status(). This method blocks while communicating with the server but returns quickly.\n",
    "\n",
    "Depending on the size of the request, it may be helpful to wait until the request has completed processing before the remainder of the code is executed. The wait_for_processing() method will block subsequent lines of code while optionally showing a progress bar.\n",
    "'''\n",
    "\n",
    "41. Create Harmony client with previously obtained auth (or set up / use .netrc)\n",
    "1. Construct Harmony request object using desired spatial / temporal / variables\n",
    "1. Submit the Harmony request, obtaining a Job ID"
   ]
  },
  {
   "cell_type": "code",
   "execution_count": 25,
   "id": "7e04f6da-8512-4c38-8d6f-3a13adde6dfa",
   "metadata": {},
   "outputs": [
    {
     "name": "stdout",
     "output_type": "stream",
     "text": [
      "CPU times: user 2 µs, sys: 1 µs, total: 3 µs\n",
      "Wall time: 5.25 µs\n",
      "dfbc163f-5815-4f08-ae0c-2b6b4870df91\n"
     ]
    },
    {
     "name": "stderr",
     "output_type": "stream",
     "text": [
      " [ Processing: 100% ] |###################################################| [|]\n"
     ]
    }
   ],
   "source": [
    "%time\n",
    "\n",
    "harmony_client = Client()\n",
    "\n",
    "request = Request(\n",
    "    collection=Collection(id=short_name),\n",
    "    spatial=BBox(-97.77667,21.20806,-83.05197,30.16605),\n",
    "    temporal={\n",
    "        'start': dt.datetime(2021, 8, 20),\n",
    "        'stop': dt.datetime(2021, 8, 21),\n",
    "    },\n",
    ")\n",
    "\n",
    "job_id = harmony_client.submit(request)\n",
    "print(job_id)\n",
    "\n",
    "harmony_client.status(job_id)\n",
    "\n",
    "harmony_client.wait_for_processing(job_id, show_progress=True)"
   ]
  },
  {
   "cell_type": "markdown",
   "id": "8001fea6-ed29-4444-a921-63815a7e6aeb",
   "metadata": {},
   "source": [
    "## STAC workflow (in progress)"
   ]
  },
  {
   "cell_type": "code",
   "execution_count": null,
   "id": "194d9d10-20af-46c3-b10f-6bf9104a23e7",
   "metadata": {},
   "outputs": [],
   "source": []
  },
  {
   "cell_type": "code",
   "execution_count": null,
   "id": "cd447a91-9771-4968-bfa7-b980383907ee",
   "metadata": {},
   "outputs": [],
   "source": []
  },
  {
   "cell_type": "markdown",
   "id": "aabe8913-ec01-4647-bad1-332173f7de17",
   "metadata": {},
   "source": [
    "### 2. Declare time and bounding box search parameters\n",
    "\n",
    "_Using a bounding box that will cover granules supported in on-prem OPeNDAP and L2SS_"
   ]
  },
  {
   "cell_type": "markdown",
   "id": "76c648f8-437b-41d8-a87f-f45e84e89c85",
   "metadata": {},
   "source": [
    "#### Steps Involved:\n",
    "\n",
    "8. Format desired spatial bounding box into CMR query format\n",
    "1. Format desired temporal range into CMR query format\n",
    "1. (Non-Code) Determine precise data product short name (perhaps already known by users)\n",
    "1. Set data product short name in code\n",
    "1. (Non-Code) Determine precise data product version identifier, including leading zeroes\n",
    "1. Set data product version identifier in code\n",
    "1. (Non-Code) Determine data provider identifier for the collection owner\n",
    "1. Set data provider identifier in code\n",
    "\n",
    "##### Alternative for 12-17\n",
    "\n",
    "10. (Non-Code) Go to Earthdata Search\n",
    "1. (Non-Code) Search for data product short name or similar\n",
    "1. (Non-Code) Select correct collection, revealing CMR Concept ID\n",
    "1. Copy/paste the CMR Concept ID into code\n"
   ]
  },
  {
   "cell_type": "code",
   "execution_count": null,
   "id": "f311e9be-ec99-48a2-81a3-f9de398d2fd6",
   "metadata": {
    "tags": []
   },
   "outputs": [],
   "source": []
  }
 ],
 "metadata": {
  "kernelspec": {
   "display_name": "Python 3 (ipykernel)",
   "language": "python",
   "name": "python3"
  },
  "language_info": {
   "codemirror_mode": {
    "name": "ipython",
    "version": 3
   },
   "file_extension": ".py",
   "mimetype": "text/x-python",
   "name": "python",
   "nbconvert_exporter": "python",
   "pygments_lexer": "ipython3",
   "version": "3.9.12"
  }
 },
 "nbformat": 4,
 "nbformat_minor": 5
}
